{
 "cells": [
  {
   "cell_type": "code",
   "execution_count": 16,
   "outputs": [],
   "source": [
    "from Bio.Seq import Seq\n",
    "import pandas as pd\n",
    "import os\n",
    "import math\n",
    "import datetime"
   ],
   "metadata": {
    "collapsed": false,
    "pycharm": {
     "name": "#%%\n"
    },
    "ExecuteTime": {
     "end_time": "2023-10-27T13:57:44.561878300Z",
     "start_time": "2023-10-27T13:57:44.555872600Z"
    }
   }
  },
  {
   "cell_type": "code",
   "execution_count": 17,
   "outputs": [
    {
     "data": {
      "text/plain": "'\\nInput: a txt file containing gRNA sequences. The file can either be one column of gRNA sequences only, or the output file from 1_SNP_gRNA\\n\\nOutput: a txt file containing primers that assemble gRNAs into the CREEPY vector\\n'"
     },
     "execution_count": 17,
     "metadata": {},
     "output_type": "execute_result"
    }
   ],
   "source": [
    "\"\"\"\n",
    "Input: a txt file containing gRNA sequences. The file can either be one column of gRNA sequences only, or the output file from 1_SNP_gRNA\n",
    "\n",
    "Output: a txt file containing primers that assemble gRNAs into the CREEPY vector\n",
    "\"\"\""
   ],
   "metadata": {
    "collapsed": false,
    "ExecuteTime": {
     "end_time": "2023-10-27T13:57:45.081498400Z",
     "start_time": "2023-10-27T13:57:45.062484900Z"
    }
   }
  },
  {
   "cell_type": "code",
   "execution_count": 21,
   "outputs": [],
   "source": [
    "current_datetime = datetime.datetime.now()\n",
    "date_time_str = current_datetime.strftime(\"%Y-%m-%d_%H-%M-%S\")\n",
    "\n",
    "#Input filename\n",
    "gRNA_FILENAME = \"pXW470_gRNA_FL.txt\"\n",
    "\n",
    "#Output filename\n",
    "creepy_primer_file = \"pXW470\" + \"_creepy_primer_\" + date_time_str + \".txt\" \n",
    "\n",
    "desktop = os.path.expanduser(\"~/Desktop\")\n",
    "gRNA_file_path = desktop + '/' + gRNA_FILENAME\n",
    "creepy_primer_path = desktop + '/' + creepy_primer_file\n"
   ],
   "metadata": {
    "collapsed": false,
    "pycharm": {
     "name": "#%%\n"
    },
    "ExecuteTime": {
     "end_time": "2023-10-27T13:58:16.596648100Z",
     "start_time": "2023-10-27T13:58:16.581016400Z"
    }
   }
  },
  {
   "cell_type": "code",
   "execution_count": 22,
   "outputs": [],
   "source": [
    "def read_data(file_path):\n",
    "    try:\n",
    "        df = pd.read_csv(file_path, sep=None)\n",
    "        if \"SNP\" in df.columns and \"gRNA\" in df.columns:\n",
    "            df[\"SNP\"] = df[\"SNP\"].astype(str)\n",
    "            df[\"gRNA\"] = df[\"gRNA\"].str.replace(\" \", \"\")\n",
    "            df[\"gRNA\"] = df[\"gRNA\"].apply(lambda seq_str: Seq(seq_str.upper()))\n",
    "            return df\n",
    "    except pd.errors.EmptyDataError:\n",
    "        pass\n",
    "\n",
    "    try:\n",
    "        df = pd.read_csv(file_path, header=None, names=[\"gRNA\"])\n",
    "        df['SNP'] = range(1, df.shape[0]+1)\n",
    "        df['SNP'] = df['SNP'].astype(str)\n",
    "        df[\"gRNA\"] = df[\"gRNA\"].str.replace(\" \", \"\")\n",
    "        df[\"gRNA\"] = df[\"gRNA\"].apply(lambda seq_str: Seq(seq_str.upper()))\n",
    "        return df\n",
    "    except FileNotFoundError:\n",
    "        pass\n",
    "\n",
    "    return None"
   ],
   "metadata": {
    "collapsed": false,
    "ExecuteTime": {
     "end_time": "2023-10-27T13:58:17.353402800Z",
     "start_time": "2023-10-27T13:58:17.322132100Z"
    }
   }
  },
  {
   "cell_type": "code",
   "execution_count": 23,
   "outputs": [
    {
     "name": "stderr",
     "output_type": "stream",
     "text": [
      "C:\\Users\\wxh02\\AppData\\Local\\Temp\\ipykernel_13056\\3556184501.py:3: ParserWarning: Falling back to the 'python' engine because the 'c' engine does not support sep=None with delim_whitespace=False; you can avoid this warning by specifying engine='python'.\n",
      "  df = pd.read_csv(file_path, sep=None)\n"
     ]
    },
    {
     "data": {
      "text/plain": "            SNP                                               gRNA  PAM  \\\n0     rs2239017  (A, G, A, A, A, G, T, G, A, G, T, C, A, T, T, ...  AGG   \n1      rs758171  (A, C, C, A, T, G, C, T, G, T, G, G, C, C, A, ...  GGG   \n2    rs71441679  (A, A, G, G, C, T, G, A, G, C, A, T, C, T, G, ...  TGG   \n3    rs35848523  (T, A, T, T, C, T, G, A, T, A, G, A, T, A, A, ...  TGG   \n4     rs2238049  (T, G, A, A, G, C, C, T, C, T, A, G, G, G, C, ...  AGG   \n5     rs2238050  (G, A, A, A, A, A, T, T, A, C, T, A, G, C, C, ...  AGG   \n6     rs2238051  (C, C, G, G, T, A, G, T, A, A, A, A, A, T, T, ...  AGG   \n7     rs1860056  (G, C, C, A, C, C, A, C, T, A, A, C, A, G, C, ...  TGG   \n8    rs12423277  (T, G, G, C, T, T, C, C, T, T, C, T, A, G, A, ...  TGG   \n9     rs1016388  (T, A, C, A, C, A, G, A, G, G, A, A, A, G, A, ...  GGG   \n10    rs7957545  (G, A, C, A, T, G, G, C, T, G, C, A, C, A, T, ...  AGG   \n11    rs2238056  (T, G, C, A, A, C, C, T, G, C, A, A, C, T, G, ...  AGG   \n12    rs3829331  (C, G, G, A, A, G, G, G, G, A, A, G, A, A, G, ...  TGG   \n13  rs882194_95  (T, G, C, C, T, C, A, G, A, G, A, A, T, T, T, ...  AGG   \n14     rs882193  (A, G, C, A, G, A, G, G, A, G, A, G, C, A, C, ...  TGG   \n15    rs2370413  (A, T, C, C, C, T, T, T, G, A, C, A, G, C, A, ...  TGG   \n16    rs2239037  (C, G, T, G, C, T, G, C, G, G, C, A, A, A, C, ...  GGG   \n17    rs4765911  (G, G, A, G, G, T, T, A, T, G, A, C, T, G, A, ...  AGG   \n18    rs1860002  (C, T, C, T, G, T, A, A, A, G, G, C, A, C, A, ...  GGG   \n\n    Unnamed: 3 Unnamed: 4  \n0         2432          +  \n1         7041          +  \n2         9473          +  \n3        10315          +  \n4        18915          +  \n5        19457          -  \n6        19948          -  \n7        24611          -  \n8        27096          -  \n9        34645          -  \n10       36823          -  \n11       40725          -  \n12       52036          +  \n13       63206          -  \n14       63410          +  \n15       67653          +  \n16       76499          +  \n17       78971          -  \n18      126885          +  ",
      "text/html": "<div>\n<style scoped>\n    .dataframe tbody tr th:only-of-type {\n        vertical-align: middle;\n    }\n\n    .dataframe tbody tr th {\n        vertical-align: top;\n    }\n\n    .dataframe thead th {\n        text-align: right;\n    }\n</style>\n<table border=\"1\" class=\"dataframe\">\n  <thead>\n    <tr style=\"text-align: right;\">\n      <th></th>\n      <th>SNP</th>\n      <th>gRNA</th>\n      <th>PAM</th>\n      <th>Unnamed: 3</th>\n      <th>Unnamed: 4</th>\n    </tr>\n  </thead>\n  <tbody>\n    <tr>\n      <th>0</th>\n      <td>rs2239017</td>\n      <td>(A, G, A, A, A, G, T, G, A, G, T, C, A, T, T, ...</td>\n      <td>AGG</td>\n      <td>2432</td>\n      <td>+</td>\n    </tr>\n    <tr>\n      <th>1</th>\n      <td>rs758171</td>\n      <td>(A, C, C, A, T, G, C, T, G, T, G, G, C, C, A, ...</td>\n      <td>GGG</td>\n      <td>7041</td>\n      <td>+</td>\n    </tr>\n    <tr>\n      <th>2</th>\n      <td>rs71441679</td>\n      <td>(A, A, G, G, C, T, G, A, G, C, A, T, C, T, G, ...</td>\n      <td>TGG</td>\n      <td>9473</td>\n      <td>+</td>\n    </tr>\n    <tr>\n      <th>3</th>\n      <td>rs35848523</td>\n      <td>(T, A, T, T, C, T, G, A, T, A, G, A, T, A, A, ...</td>\n      <td>TGG</td>\n      <td>10315</td>\n      <td>+</td>\n    </tr>\n    <tr>\n      <th>4</th>\n      <td>rs2238049</td>\n      <td>(T, G, A, A, G, C, C, T, C, T, A, G, G, G, C, ...</td>\n      <td>AGG</td>\n      <td>18915</td>\n      <td>+</td>\n    </tr>\n    <tr>\n      <th>5</th>\n      <td>rs2238050</td>\n      <td>(G, A, A, A, A, A, T, T, A, C, T, A, G, C, C, ...</td>\n      <td>AGG</td>\n      <td>19457</td>\n      <td>-</td>\n    </tr>\n    <tr>\n      <th>6</th>\n      <td>rs2238051</td>\n      <td>(C, C, G, G, T, A, G, T, A, A, A, A, A, T, T, ...</td>\n      <td>AGG</td>\n      <td>19948</td>\n      <td>-</td>\n    </tr>\n    <tr>\n      <th>7</th>\n      <td>rs1860056</td>\n      <td>(G, C, C, A, C, C, A, C, T, A, A, C, A, G, C, ...</td>\n      <td>TGG</td>\n      <td>24611</td>\n      <td>-</td>\n    </tr>\n    <tr>\n      <th>8</th>\n      <td>rs12423277</td>\n      <td>(T, G, G, C, T, T, C, C, T, T, C, T, A, G, A, ...</td>\n      <td>TGG</td>\n      <td>27096</td>\n      <td>-</td>\n    </tr>\n    <tr>\n      <th>9</th>\n      <td>rs1016388</td>\n      <td>(T, A, C, A, C, A, G, A, G, G, A, A, A, G, A, ...</td>\n      <td>GGG</td>\n      <td>34645</td>\n      <td>-</td>\n    </tr>\n    <tr>\n      <th>10</th>\n      <td>rs7957545</td>\n      <td>(G, A, C, A, T, G, G, C, T, G, C, A, C, A, T, ...</td>\n      <td>AGG</td>\n      <td>36823</td>\n      <td>-</td>\n    </tr>\n    <tr>\n      <th>11</th>\n      <td>rs2238056</td>\n      <td>(T, G, C, A, A, C, C, T, G, C, A, A, C, T, G, ...</td>\n      <td>AGG</td>\n      <td>40725</td>\n      <td>-</td>\n    </tr>\n    <tr>\n      <th>12</th>\n      <td>rs3829331</td>\n      <td>(C, G, G, A, A, G, G, G, G, A, A, G, A, A, G, ...</td>\n      <td>TGG</td>\n      <td>52036</td>\n      <td>+</td>\n    </tr>\n    <tr>\n      <th>13</th>\n      <td>rs882194_95</td>\n      <td>(T, G, C, C, T, C, A, G, A, G, A, A, T, T, T, ...</td>\n      <td>AGG</td>\n      <td>63206</td>\n      <td>-</td>\n    </tr>\n    <tr>\n      <th>14</th>\n      <td>rs882193</td>\n      <td>(A, G, C, A, G, A, G, G, A, G, A, G, C, A, C, ...</td>\n      <td>TGG</td>\n      <td>63410</td>\n      <td>+</td>\n    </tr>\n    <tr>\n      <th>15</th>\n      <td>rs2370413</td>\n      <td>(A, T, C, C, C, T, T, T, G, A, C, A, G, C, A, ...</td>\n      <td>TGG</td>\n      <td>67653</td>\n      <td>+</td>\n    </tr>\n    <tr>\n      <th>16</th>\n      <td>rs2239037</td>\n      <td>(C, G, T, G, C, T, G, C, G, G, C, A, A, A, C, ...</td>\n      <td>GGG</td>\n      <td>76499</td>\n      <td>+</td>\n    </tr>\n    <tr>\n      <th>17</th>\n      <td>rs4765911</td>\n      <td>(G, G, A, G, G, T, T, A, T, G, A, C, T, G, A, ...</td>\n      <td>AGG</td>\n      <td>78971</td>\n      <td>-</td>\n    </tr>\n    <tr>\n      <th>18</th>\n      <td>rs1860002</td>\n      <td>(C, T, C, T, G, T, A, A, A, G, G, C, A, C, A, ...</td>\n      <td>GGG</td>\n      <td>126885</td>\n      <td>+</td>\n    </tr>\n  </tbody>\n</table>\n</div>"
     },
     "execution_count": 23,
     "metadata": {},
     "output_type": "execute_result"
    }
   ],
   "source": [
    "gRNA_df = read_data(gRNA_file_path)\n",
    "gRNA_df"
   ],
   "metadata": {
    "collapsed": false,
    "ExecuteTime": {
     "end_time": "2023-10-27T13:58:18.288992500Z",
     "start_time": "2023-10-27T13:58:18.240981900Z"
    }
   }
  },
  {
   "cell_type": "code",
   "execution_count": 24,
   "outputs": [],
   "source": [
    "def creepy_primer(df):\n",
    "    \"\"\"\n",
    "    Design CREEPY primers based on a list of gRNAs\n",
    "    For one guide RNA, return two oligos that generate sticky ends after annealing.\n",
    "    For two guide RNAs, return two primers, with each primer incorperating one gRNA.\n",
    "    For three and more guide RNAs, return a set of primers:\n",
    "        The first and last primers introduce the first and last gRNAs, respectively.\n",
    "        The rest of the primers introduce the middle gRNAs that are each split into two halves,\n",
    "        with the first half in the reverse primer and the second half in the fwd primer.\n",
    "    :param df:\n",
    "    :return: a dictionary of primers, and a dictionary of sticky end sequences\n",
    "    \"\"\"\n",
    "    sticky_end_left = Seq('GACT')    #left sticky end of pXW467/468/472\n",
    "    sticky_end_right = Seq('AAAC')   #right sticky end of pXW67/468/472\n",
    "    template_fwd = Seq('GTTTTAGAGCTAGAAATAGCAAGTTA') #Fwd primer to amplify scaffold RNA\n",
    "    template_rev = Seq('TGCGCAAGCCCGGAATCGAACCGGG')  #Rev primer to amplify tRNA_Gly\n",
    "    adaptor_left = Seq('aCGTCTCagacttt') #left adaptor for Esp3I to generate a GACT sticky end followed by tt\n",
    "    adaptor_right = Seq('aCGTCTCcaaac')  #Right adaptor for Esp3I to generate a AAAC sticky end\n",
    "    adaptor3 = Seq('aCGTCTCc')   #universal adaptor for Esp3I, will generate a sticky end that matches the 4 following nt\n",
    "    overhang_set = {\"left\": sticky_end_left, \"right\": sticky_end_right}\n",
    "    \n",
    "    if df.shape[0] == 1:\n",
    "        # For one gRNA only\n",
    "        primer1_name, primer1 = df['SNP'].iloc[0] + '_F', sticky_end_left + 'tt' + df['gRNA'][0]\n",
    "        primer2_name, primer2 = df['SNP'].iloc[0] + '_R', sticky_end_right + df['gRNA'][0].reverse_complement() + 'aa'\n",
    "        p_set = {primer1_name: primer1, primer2_name: primer2}\n",
    "\n",
    "    elif df.shape[0] == 2:\n",
    "        # For two gRNAs\n",
    "        primer1_name, primer1 = df['SNP'].iloc[0] + '_F', adaptor_left + df['gRNA'][0] + template_fwd\n",
    "        primer2_name, primer2 = df['SNP'].iloc[1] + '_R', adaptor_right + df['gRNA'][1].reverse_complement() + template_rev\n",
    "        p_set = {primer1_name: primer1, primer2_name: primer2}\n",
    "\n",
    "    else:\n",
    "        # For three and more gRNAs (1st and last are introduced in one primer, all others are split into two primers and joined by golden gate\n",
    "        overhang_start_list = []\n",
    "        p_set = {}\n",
    "        primer1_name = df['SNP'].iloc[0] + '_F'\n",
    "        p_set[primer1_name] = adaptor_left + df['gRNA'][0] + template_fwd\n",
    "        overhang_list = list(overhang_set.values())\n",
    "\n",
    "        for n in range(1,len(df['gRNA'])-1):\n",
    "            gRNA_seq = df['gRNA'][n]#.upper()\n",
    "            overhang_start = 8\n",
    "            overhang = gRNA_seq[overhang_start:overhang_start + 4]\n",
    "            i=1\n",
    "            while overhang.reverse_complement() == overhang or overhang in overhang_list or overhang.reverse_complement() in overhang_list:\n",
    "                overhang_start = 8 + math.ceil(i/2) * (-1) ** i\n",
    "                overhang = gRNA_seq[overhang_start:overhang_start+4]\n",
    "                i = i + 1\n",
    "                \n",
    "            overhang_set[df['SNP'][n]] = f\"{str(overhang)} start_pos: ({overhang_start+1})\"\n",
    "            overhang_list.append(overhang)\n",
    "            p_r_name = df['SNP'].iloc[n] + \"_aR\"\n",
    "            p_f_name = df['SNP'].iloc[n] + \"_bF\"\n",
    "            p_set[p_r_name] = adaptor3 + gRNA_seq[:overhang_start+4].reverse_complement() + template_rev\n",
    "            p_set[p_f_name] = adaptor3 + gRNA_seq[overhang_start:] + template_fwd\n",
    "\n",
    "        primer_last_name = df['SNP'].iloc[-1] + \"_R\"\n",
    "        p_set[primer_last_name] = adaptor_right + df['gRNA'].iloc[-1].reverse_complement() + template_rev\n",
    "        print(overhang_list)\n",
    "    return  p_set, overhang_set\n"
   ],
   "metadata": {
    "collapsed": false,
    "pycharm": {
     "name": "#%%\n"
    },
    "ExecuteTime": {
     "end_time": "2023-10-27T13:58:25.655642600Z",
     "start_time": "2023-10-27T13:58:25.639845100Z"
    }
   }
  },
  {
   "cell_type": "code",
   "execution_count": 25,
   "outputs": [
    {
     "name": "stdout",
     "output_type": "stream",
     "text": [
      "[Seq('GACT'), Seq('AAAC'), Seq('GTGG'), Seq('GCAT'), Seq('TAGA'), Seq('TAGG'), Seq('ACTA'), Seq('AAAA'), Seq('TAAC'), Seq('TTCT'), Seq('GGAA'), Seq('CTGC'), Seq('GCAA'), Seq('GAAG'), Seq('GAGA'), Seq('AGAG'), Seq('GACA'), Seq('GGCA'), Seq('TGAC')]\n"
     ]
    }
   ],
   "source": [
    "primer_set, sticky_end_set = creepy_primer(gRNA_df)\n",
    "\n",
    "with open(creepy_primer_path, \"w\") as file:\n",
    "    for key, value in primer_set.items():\n",
    "        file.write(f\"{key}:\\t{value}\\n\")\n",
    "    file.write('\\n\\nSticky ends:\\n\\n')\n",
    "    for key, value in sticky_end_set.items():\n",
    "        file.write(f\"{key}:\\t{value}\\n\")    \n"
   ],
   "metadata": {
    "collapsed": false,
    "pycharm": {
     "name": "#%%\n"
    },
    "ExecuteTime": {
     "end_time": "2023-10-27T13:58:27.257297900Z",
     "start_time": "2023-10-27T13:58:27.234912Z"
    }
   }
  },
  {
   "cell_type": "code",
   "execution_count": null,
   "outputs": [],
   "source": [],
   "metadata": {
    "collapsed": false
   }
  }
 ],
 "metadata": {
  "kernelspec": {
   "display_name": "Python 3",
   "language": "python",
   "name": "python3"
  },
  "language_info": {
   "codemirror_mode": {
    "name": "ipython",
    "version": 2
   },
   "file_extension": ".py",
   "mimetype": "text/x-python",
   "name": "python",
   "nbconvert_exporter": "python",
   "pygments_lexer": "ipython2",
   "version": "2.7.6"
  }
 },
 "nbformat": 4,
 "nbformat_minor": 0
}
