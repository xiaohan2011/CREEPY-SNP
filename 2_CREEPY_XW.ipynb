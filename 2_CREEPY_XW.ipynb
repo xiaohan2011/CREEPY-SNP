{
 "cells": [
  {
   "cell_type": "code",
   "execution_count": 311,
   "outputs": [],
   "source": [
    "from Bio.Seq import Seq\n",
    "import pandas as pd\n",
    "import os\n",
    "import math"
   ],
   "metadata": {
    "collapsed": false,
    "pycharm": {
     "name": "#%%\n"
    },
    "ExecuteTime": {
     "end_time": "2023-08-11T03:32:33.802980800Z",
     "start_time": "2023-08-11T03:32:33.765000100Z"
    }
   }
  },
  {
   "cell_type": "code",
   "execution_count": 79,
   "outputs": [
    {
     "data": {
      "text/plain": "'\\nInput: a txt file containing gRNA sequences. The file can either be gRNA sequences only, or the output file from 1_SNP_gRNA\\n\\nOutput: a txt file containing primers that assemble gRNAs into the CREEPY vector '"
     },
     "execution_count": 79,
     "metadata": {},
     "output_type": "execute_result"
    }
   ],
   "source": [
    "\"\"\"\n",
    "Input: a txt file containing gRNA sequences. The file can either be one column of gRNA sequences only, or the output file from 1_SNP_gRNA\n",
    "\n",
    "Output: a txt file containing primers that assemble gRNAs into the CREEPY vector\n",
    "\"\"\""
   ],
   "metadata": {
    "collapsed": false
   }
  },
  {
   "cell_type": "code",
   "execution_count": 389,
   "outputs": [],
   "source": [
    "gRNA_FILENAME = 'gRNA_PAM_pXW487_3.txt'\n",
    "desktop = os.path.expanduser(\"~/Desktop\")\n",
    "gRNA_file_path = desktop + '/' + gRNA_FILENAME"
   ],
   "metadata": {
    "collapsed": false,
    "pycharm": {
     "name": "#%%\n"
    },
    "ExecuteTime": {
     "end_time": "2023-08-11T18:36:09.873934800Z",
     "start_time": "2023-08-11T18:36:09.860469500Z"
    }
   }
  },
  {
   "cell_type": "code",
   "execution_count": 399,
   "outputs": [],
   "source": [
    "# gRNA_df = pd.read_csv(gRNA_file_path, sep='\\t', header=None)\n",
    "# gRNA_df\n",
    "def read_data(file_path):\n",
    "    try:\n",
    "        df = pd.read_csv(file_path, sep=\"\\t\")\n",
    "        if \"SNP\" in df.columns and \"gRNA\" in df.columns:\n",
    "            df[\"SNP\"] = df[\"SNP\"].astype(str)\n",
    "            df[\"gRNA\"] = df[\"gRNA\"].str.replace(\" \", \"\")\n",
    "            df[\"gRNA\"] = df[\"gRNA\"].apply(lambda seq_str: Seq(seq_str.upper()))\n",
    "            return df\n",
    "    except pd.errors.EmptyDataError:\n",
    "        pass\n",
    "\n",
    "    try:\n",
    "        df = pd.read_csv(file_path, header=None, names=[\"gRNA\"])\n",
    "        df['SNP'] = range(1, df.shape[0]+1)\n",
    "        df['SNP'] = df['SNP'].astype(str)\n",
    "        df[\"gRNA\"] = df[\"gRNA\"].str.replace(\" \", \"\")\n",
    "        df[\"gRNA\"] = df[\"gRNA\"].apply(lambda seq_str: Seq(seq_str.upper()))\n",
    "        return df\n",
    "    except FileNotFoundError:\n",
    "        pass\n",
    "\n",
    "    return None"
   ],
   "metadata": {
    "collapsed": false,
    "ExecuteTime": {
     "end_time": "2023-08-11T18:38:41.581027700Z",
     "start_time": "2023-08-11T18:38:41.546008600Z"
    }
   }
  },
  {
   "cell_type": "code",
   "execution_count": 400,
   "outputs": [
    {
     "data": {
      "text/plain": "                                                gRNA SNP\n0  (C, C, C, C, T, T, G, C, A, A, C, A, T, C, T, ...   1\n1  (C, A, A, T, T, T, T, T, G, G, T, G, A, G, C, ...   2\n2  (C, T, C, A, G, C, A, C, G, G, T, G, A, G, T, ...   3\n3  (A, C, T, C, T, G, C, T, G, T, G, C, C, G, C, ...   4\n4  (G, T, A, T, T, A, T, T, T, G, G, T, T, G, T, ...   5",
      "text/html": "<div>\n<style scoped>\n    .dataframe tbody tr th:only-of-type {\n        vertical-align: middle;\n    }\n\n    .dataframe tbody tr th {\n        vertical-align: top;\n    }\n\n    .dataframe thead th {\n        text-align: right;\n    }\n</style>\n<table border=\"1\" class=\"dataframe\">\n  <thead>\n    <tr style=\"text-align: right;\">\n      <th></th>\n      <th>gRNA</th>\n      <th>SNP</th>\n    </tr>\n  </thead>\n  <tbody>\n    <tr>\n      <th>0</th>\n      <td>(C, C, C, C, T, T, G, C, A, A, C, A, T, C, T, ...</td>\n      <td>1</td>\n    </tr>\n    <tr>\n      <th>1</th>\n      <td>(C, A, A, T, T, T, T, T, G, G, T, G, A, G, C, ...</td>\n      <td>2</td>\n    </tr>\n    <tr>\n      <th>2</th>\n      <td>(C, T, C, A, G, C, A, C, G, G, T, G, A, G, T, ...</td>\n      <td>3</td>\n    </tr>\n    <tr>\n      <th>3</th>\n      <td>(A, C, T, C, T, G, C, T, G, T, G, C, C, G, C, ...</td>\n      <td>4</td>\n    </tr>\n    <tr>\n      <th>4</th>\n      <td>(G, T, A, T, T, A, T, T, T, G, G, T, T, G, T, ...</td>\n      <td>5</td>\n    </tr>\n  </tbody>\n</table>\n</div>"
     },
     "execution_count": 400,
     "metadata": {},
     "output_type": "execute_result"
    }
   ],
   "source": [
    "gRNA_df = read_data(gRNA_file_path)\n",
    "gRNA_df"
   ],
   "metadata": {
    "collapsed": false,
    "ExecuteTime": {
     "end_time": "2023-08-11T18:38:42.105122400Z",
     "start_time": "2023-08-11T18:38:42.078119300Z"
    }
   }
  },
  {
   "cell_type": "code",
   "execution_count": 401,
   "outputs": [],
   "source": [
    "def creepy_primer(df):\n",
    "    \"\"\"\n",
    "    Design CREEPY primers based on a list of gRNAs\n",
    "    For one guide RNA, return two oligos that generate sticky ends after annealing.\n",
    "    For two guide RNAs, return two primers, with each primer incorperating one gRNA.\n",
    "    For three and more guide RNAs, return a set of primers:\n",
    "        The first and last primers introduce the first and last gRNAs, respectively.\n",
    "        The rest of the primers introduce the middle gRNAs that are each split into two halves,\n",
    "        with the first half in the reverse primer and the second half in the fwd primer.\n",
    "    :param df:\n",
    "    :return: a dictionary of primers, and a dictionary of sticky end sequences\n",
    "    \"\"\"\n",
    "    sticky_end_left = Seq('GACT')    #left sticky end of pXW467/468/472\n",
    "    sticky_end_right = Seq('AAAC')   #right sticky end of pXW67/468/472\n",
    "    template_fwd = Seq('GTTTTAGAGCTAGAAATAGCAAGTTA') #Fwd primer to amplify scaffold RNA\n",
    "    template_rev = Seq('TGCGCAAGCCCGGAATCGAACCGGG')  #Rev primer to amplify tRNA_Gly\n",
    "    adaptor_left = Seq('aCGTCTCagacttt') #left adaptor for Esp3I to generate a GACT sticky end followed by tt\n",
    "    adaptor_right = Seq('aCGTCTCcaaac')  #Right adaptor for Esp3I to generate a AAAC sticky end\n",
    "    adaptor3 = Seq('aCGTCTCc')   #universal adaptor for Esp3I, will generate a sticky end that matches the 4 following nt\n",
    "    overhang_set = {\"left\": sticky_end_left, \"right\": sticky_end_right}\n",
    "    \n",
    "    if df.shape[0] == 1:\n",
    "        # For one gRNA only\n",
    "        primer1_name, primer1 = df['SNP'].iloc[0] + '_F', sticky_end_left + 'tt' + df['gRNA'][0]\n",
    "        primer2_name, primer2 = df['SNP'].iloc[0] + '_R', sticky_end_right + df['gRNA'][0].reverse_complement() + 'aa'\n",
    "        p_set = {primer1_name: primer1, primer2_name: primer2}\n",
    "\n",
    "    elif df.shape[0] == 2:\n",
    "        # For two gRNAs\n",
    "        primer1_name, primer1 = df['SNP'].iloc[0] + '_F', adaptor_left + df['gRNA'][0] + template_fwd\n",
    "        primer2_name, primer2 = df['SNP'].iloc[1] + '_R', adaptor_right + df['gRNA'][1].reverse_complement() + template_rev\n",
    "        p_set = {primer1_name: primer1, primer2_name: primer2}\n",
    "\n",
    "    else:\n",
    "        # For three and more gRNAs (1st and last are introduced in one primer, all others are split into two primers and joined by golden gate\n",
    "        overhang_start_list = []\n",
    "        p_set = {}\n",
    "        primer1_name = df['SNP'].iloc[0] + '_F'\n",
    "        p_set[primer1_name] = adaptor_left + df['gRNA'][0] + template_fwd\n",
    "        overhang_list = list(overhang_set.values())\n",
    "\n",
    "        for n in range(1,len(df['gRNA'])-1):\n",
    "            gRNA_seq = df['gRNA'][n]#.upper()\n",
    "            overhang_start = 8\n",
    "            overhang = gRNA_seq[overhang_start:overhang_start + 4]\n",
    "            i=1\n",
    "            while overhang.reverse_complement() == overhang or overhang in overhang_list or overhang.reverse_complement() in overhang_list:\n",
    "                overhang_start = 8 + math.ceil(i/2) * (-1) ** i\n",
    "                overhang = gRNA_seq[overhang_start:overhang_start+4]\n",
    "                i = i + 1\n",
    "                \n",
    "            overhang_set[df['SNP'][n]] = f\"{str(overhang)} start_pos: ({overhang_start+1})\"\n",
    "            overhang_list.append(overhang)\n",
    "            p_r_name = df['SNP'].iloc[n] + \"_aR\"\n",
    "            p_f_name = df['SNP'].iloc[n] + \"_bF\"\n",
    "            p_set[p_r_name] = adaptor3 + gRNA_seq[:overhang_start+4].reverse_complement() + template_rev\n",
    "            p_set[p_f_name] = adaptor3 + gRNA_seq[overhang_start:] + template_fwd\n",
    "\n",
    "        primer_last_name = df['SNP'].iloc[-1] + \"_R\"\n",
    "        p_set[primer_last_name] = adaptor_right + df['gRNA'].iloc[-1].reverse_complement() + template_rev\n",
    "        print(overhang_list)\n",
    "    return  p_set, overhang_set\n"
   ],
   "metadata": {
    "collapsed": false,
    "pycharm": {
     "name": "#%%\n"
    },
    "ExecuteTime": {
     "end_time": "2023-08-11T18:38:46.573687100Z",
     "start_time": "2023-08-11T18:38:46.554669300Z"
    }
   }
  },
  {
   "cell_type": "code",
   "execution_count": 402,
   "outputs": [
    {
     "name": "stdout",
     "output_type": "stream",
     "text": [
      "[Seq('GACT'), Seq('AAAC'), Seq('GGTG'), Seq('CGGT'), Seq('GTGC')]\n"
     ]
    }
   ],
   "source": [
    "primer_set, sticky_end_set = creepy_primer(gRNA_df)\n",
    "creepy_primer_file = gRNA_file_path.replace('gRNA', 'creepy_primers_new')\n",
    "\n",
    "with open(creepy_primer_file, \"w\") as file:\n",
    "    for key, value in primer_set.items():\n",
    "        file.write(f\"{key}:\\t{value}\\n\")\n",
    "    file.write('\\n\\nSticky ends:\\n\\n')\n",
    "    for key, value in sticky_end_set.items():\n",
    "        file.write(f\"{key}:\\t{value}\\n\")    \n"
   ],
   "metadata": {
    "collapsed": false,
    "pycharm": {
     "name": "#%%\n"
    },
    "ExecuteTime": {
     "end_time": "2023-08-11T18:38:48.621066300Z",
     "start_time": "2023-08-11T18:38:48.601062400Z"
    }
   }
  },
  {
   "cell_type": "code",
   "execution_count": 343,
   "outputs": [
    {
     "data": {
      "text/plain": "1"
     },
     "execution_count": 343,
     "metadata": {},
     "output_type": "execute_result"
    }
   ],
   "source": [
    "math.ceil(1/2)"
   ],
   "metadata": {
    "collapsed": false,
    "ExecuteTime": {
     "end_time": "2023-08-11T13:19:19.997108700Z",
     "start_time": "2023-08-11T13:19:19.952338300Z"
    }
   }
  },
  {
   "cell_type": "code",
   "execution_count": null,
   "outputs": [],
   "source": [],
   "metadata": {
    "collapsed": false
   }
  }
 ],
 "metadata": {
  "kernelspec": {
   "display_name": "Python 3",
   "language": "python",
   "name": "python3"
  },
  "language_info": {
   "codemirror_mode": {
    "name": "ipython",
    "version": 2
   },
   "file_extension": ".py",
   "mimetype": "text/x-python",
   "name": "python",
   "nbconvert_exporter": "python",
   "pygments_lexer": "ipython2",
   "version": "2.7.6"
  }
 },
 "nbformat": 4,
 "nbformat_minor": 0
}
