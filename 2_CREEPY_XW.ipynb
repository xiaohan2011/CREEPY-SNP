{
 "cells": [
  {
   "cell_type": "code",
   "execution_count": 36,
   "outputs": [],
   "source": [
    "from Bio.Seq import Seq\n",
    "import pandas as pd\n",
    "import os\n",
    "import math\n",
    "import datetime"
   ],
   "metadata": {
    "collapsed": false,
    "pycharm": {
     "name": "#%%\n"
    },
    "ExecuteTime": {
     "end_time": "2023-10-30T19:00:39.111854600Z",
     "start_time": "2023-10-30T19:00:39.093222300Z"
    }
   }
  },
  {
   "cell_type": "code",
   "execution_count": 37,
   "outputs": [
    {
     "data": {
      "text/plain": "'\\nInput: a txt file containing gRNA sequences. The file can be either one column of gRNA sequences only, or the output file from 1_SNP_gRNA\\n\\nOutput: a txt file containing primers that assemble gRNAs into the CREEPY vector\\n'"
     },
     "execution_count": 37,
     "metadata": {},
     "output_type": "execute_result"
    }
   ],
   "source": [
    "\"\"\"\n",
    "Input: a txt file containing gRNA sequences. The file can be either one column of gRNA sequences only, or the output file from 1_SNP_gRNA\n",
    "\n",
    "Output: a txt file containing primers that assemble gRNAs into the CREEPY vector\n",
    "\"\"\""
   ],
   "metadata": {
    "collapsed": false,
    "ExecuteTime": {
     "end_time": "2023-10-30T19:00:39.478529500Z",
     "start_time": "2023-10-30T19:00:39.462893700Z"
    }
   }
  },
  {
   "cell_type": "code",
   "execution_count": 38,
   "outputs": [],
   "source": [
    "#Input filename\n",
    "gRNA_FILENAME = \"pXW470_gRNA_FL.txt\"\n",
    "\n",
    "#Output filename (partial)\n",
    "creepy_primer_file = \"pXW470_creepy_primer_\" \n",
    "\n",
    "desktop = os.path.expanduser(\"~/Desktop\")\n",
    "gRNA_file_path = desktop + '/' + gRNA_FILENAME\n"
   ],
   "metadata": {
    "collapsed": false,
    "pycharm": {
     "name": "#%%\n"
    },
    "ExecuteTime": {
     "end_time": "2023-10-30T19:00:39.946048800Z",
     "start_time": "2023-10-30T19:00:39.946048800Z"
    }
   }
  },
  {
   "cell_type": "code",
   "execution_count": 39,
   "outputs": [],
   "source": [
    "def read_data(file_path):\n",
    "    try:\n",
    "        df = pd.read_csv(file_path, sep=None)\n",
    "        if \"SNP\" in df.columns and \"gRNA\" in df.columns:\n",
    "            df[\"SNP\"] = df[\"SNP\"].astype(str)\n",
    "            df[\"gRNA\"] = df[\"gRNA\"].str.replace(\" \", \"\")\n",
    "            df[\"gRNA\"] = df[\"gRNA\"].apply(lambda seq_str: Seq(seq_str.upper()))\n",
    "            return df\n",
    "    except pd.errors.EmptyDataError:\n",
    "        pass\n",
    "\n",
    "    try:\n",
    "        df = pd.read_csv(file_path, header=None, names=[\"gRNA\"])\n",
    "        df['SNP'] = range(1, df.shape[0]+1)\n",
    "        df['SNP'] = df['SNP'].astype(str)\n",
    "        df[\"gRNA\"] = df[\"gRNA\"].str.replace(\" \", \"\")\n",
    "        df[\"gRNA\"] = df[\"gRNA\"].apply(lambda seq_str: Seq(seq_str.upper()))\n",
    "        return df\n",
    "    except FileNotFoundError:\n",
    "        pass\n",
    "\n",
    "    return None"
   ],
   "metadata": {
    "collapsed": false,
    "ExecuteTime": {
     "end_time": "2023-10-30T19:00:40.516549400Z",
     "start_time": "2023-10-30T19:00:40.486210Z"
    }
   }
  },
  {
   "cell_type": "code",
   "execution_count": 41,
   "outputs": [
    {
     "name": "stderr",
     "output_type": "stream",
     "text": [
      "C:\\Users\\wxh02\\AppData\\Local\\Temp\\ipykernel_24636\\3556184501.py:3: ParserWarning: Falling back to the 'python' engine because the 'c' engine does not support sep=None with delim_whitespace=False; you can avoid this warning by specifying engine='python'.\n",
      "  df = pd.read_csv(file_path, sep=None)\n"
     ]
    },
    {
     "data": {
      "text/plain": "            SNP                                               gRNA\n0     rs2239017  (A, G, A, A, A, G, T, G, A, G, T, C, A, T, T, ...\n1      rs758171  (A, C, C, A, T, G, C, T, G, T, G, G, C, C, A, ...\n2    rs71441679  (A, A, G, G, C, T, G, A, G, C, A, T, C, T, G, ...\n3    rs35848523  (T, A, T, T, C, T, G, A, T, A, G, A, T, A, A, ...\n4     rs2238049  (T, G, A, A, G, C, C, T, C, T, A, G, G, G, C, ...\n5     rs2238050  (G, A, A, A, A, A, T, T, A, C, T, A, G, C, C, ...\n6     rs2238051  (C, C, G, G, T, A, G, T, A, A, A, A, A, T, T, ...\n7     rs1860056  (G, C, C, A, C, C, A, C, T, A, A, C, A, G, C, ...\n8    rs12423277  (T, G, G, C, T, T, C, C, T, T, C, T, A, G, A, ...\n9     rs1016388  (T, A, C, A, C, A, G, A, G, G, A, A, A, G, A, ...\n10    rs7957545  (G, A, C, A, T, G, G, C, T, G, C, A, C, A, T, ...\n11    rs2238056  (T, G, C, A, A, C, C, T, G, C, A, A, C, T, G, ...\n12    rs3829331  (C, G, G, A, A, G, G, G, G, A, A, G, A, A, G, ...\n13  rs882194_95  (T, G, C, C, T, C, A, G, A, G, A, A, T, T, T, ...\n14     rs882193  (A, G, C, A, G, A, G, G, A, G, A, G, C, A, C, ...\n15    rs2370413  (A, T, C, C, C, T, T, T, G, A, C, A, G, C, A, ...\n16    rs2239037  (C, G, T, G, C, T, G, C, G, G, C, A, A, A, C, ...\n17    rs4765911  (G, G, A, G, G, T, T, A, T, G, A, C, T, G, A, ...\n18    rs1860002  (C, T, C, T, G, T, A, A, A, G, G, C, A, C, A, ...",
      "text/html": "<div>\n<style scoped>\n    .dataframe tbody tr th:only-of-type {\n        vertical-align: middle;\n    }\n\n    .dataframe tbody tr th {\n        vertical-align: top;\n    }\n\n    .dataframe thead th {\n        text-align: right;\n    }\n</style>\n<table border=\"1\" class=\"dataframe\">\n  <thead>\n    <tr style=\"text-align: right;\">\n      <th></th>\n      <th>SNP</th>\n      <th>gRNA</th>\n    </tr>\n  </thead>\n  <tbody>\n    <tr>\n      <th>0</th>\n      <td>rs2239017</td>\n      <td>(A, G, A, A, A, G, T, G, A, G, T, C, A, T, T, ...</td>\n    </tr>\n    <tr>\n      <th>1</th>\n      <td>rs758171</td>\n      <td>(A, C, C, A, T, G, C, T, G, T, G, G, C, C, A, ...</td>\n    </tr>\n    <tr>\n      <th>2</th>\n      <td>rs71441679</td>\n      <td>(A, A, G, G, C, T, G, A, G, C, A, T, C, T, G, ...</td>\n    </tr>\n    <tr>\n      <th>3</th>\n      <td>rs35848523</td>\n      <td>(T, A, T, T, C, T, G, A, T, A, G, A, T, A, A, ...</td>\n    </tr>\n    <tr>\n      <th>4</th>\n      <td>rs2238049</td>\n      <td>(T, G, A, A, G, C, C, T, C, T, A, G, G, G, C, ...</td>\n    </tr>\n    <tr>\n      <th>5</th>\n      <td>rs2238050</td>\n      <td>(G, A, A, A, A, A, T, T, A, C, T, A, G, C, C, ...</td>\n    </tr>\n    <tr>\n      <th>6</th>\n      <td>rs2238051</td>\n      <td>(C, C, G, G, T, A, G, T, A, A, A, A, A, T, T, ...</td>\n    </tr>\n    <tr>\n      <th>7</th>\n      <td>rs1860056</td>\n      <td>(G, C, C, A, C, C, A, C, T, A, A, C, A, G, C, ...</td>\n    </tr>\n    <tr>\n      <th>8</th>\n      <td>rs12423277</td>\n      <td>(T, G, G, C, T, T, C, C, T, T, C, T, A, G, A, ...</td>\n    </tr>\n    <tr>\n      <th>9</th>\n      <td>rs1016388</td>\n      <td>(T, A, C, A, C, A, G, A, G, G, A, A, A, G, A, ...</td>\n    </tr>\n    <tr>\n      <th>10</th>\n      <td>rs7957545</td>\n      <td>(G, A, C, A, T, G, G, C, T, G, C, A, C, A, T, ...</td>\n    </tr>\n    <tr>\n      <th>11</th>\n      <td>rs2238056</td>\n      <td>(T, G, C, A, A, C, C, T, G, C, A, A, C, T, G, ...</td>\n    </tr>\n    <tr>\n      <th>12</th>\n      <td>rs3829331</td>\n      <td>(C, G, G, A, A, G, G, G, G, A, A, G, A, A, G, ...</td>\n    </tr>\n    <tr>\n      <th>13</th>\n      <td>rs882194_95</td>\n      <td>(T, G, C, C, T, C, A, G, A, G, A, A, T, T, T, ...</td>\n    </tr>\n    <tr>\n      <th>14</th>\n      <td>rs882193</td>\n      <td>(A, G, C, A, G, A, G, G, A, G, A, G, C, A, C, ...</td>\n    </tr>\n    <tr>\n      <th>15</th>\n      <td>rs2370413</td>\n      <td>(A, T, C, C, C, T, T, T, G, A, C, A, G, C, A, ...</td>\n    </tr>\n    <tr>\n      <th>16</th>\n      <td>rs2239037</td>\n      <td>(C, G, T, G, C, T, G, C, G, G, C, A, A, A, C, ...</td>\n    </tr>\n    <tr>\n      <th>17</th>\n      <td>rs4765911</td>\n      <td>(G, G, A, G, G, T, T, A, T, G, A, C, T, G, A, ...</td>\n    </tr>\n    <tr>\n      <th>18</th>\n      <td>rs1860002</td>\n      <td>(C, T, C, T, G, T, A, A, A, G, G, C, A, C, A, ...</td>\n    </tr>\n  </tbody>\n</table>\n</div>"
     },
     "execution_count": 41,
     "metadata": {},
     "output_type": "execute_result"
    }
   ],
   "source": [
    "gRNA_df = read_data(gRNA_file_path)\n",
    "gRNA_df"
   ],
   "metadata": {
    "collapsed": false,
    "ExecuteTime": {
     "end_time": "2023-10-30T19:00:49.494221700Z",
     "start_time": "2023-10-30T19:00:49.447211400Z"
    }
   }
  },
  {
   "cell_type": "code",
   "execution_count": 48,
   "outputs": [],
   "source": [
    "def creepy_primer(df, hf=\"Medium\"):\n",
    "    \"\"\"\n",
    "    Design CREEPY primers based on a list of gRNAs\n",
    "    For one guide RNA, return two oligos that generate sticky ends after annealing.\n",
    "    For two guide RNAs, return two primers, with each primer incorperating one gRNA.\n",
    "    For three and more guide RNAs, return a set of primers:\n",
    "        The first and last primers introduce the first and last gRNAs, respectively.\n",
    "        The rest of the primers introduce the middle gRNAs that are each split into two halves,\n",
    "        with the first half in the reverse primer and the second half in the fwd primer.\n",
    "\n",
    "    :param \n",
    "    df: dataframe containing the SNPs and gRNAs\n",
    "    hf: High-fidelity boolean. default is medium.\n",
    "        False: do not check ligation fidelity dictionary\n",
    "        low: low fidelity, only avoid highly frequent misligations (freq>20%)\n",
    "        medium: medium fidelity, avoid misligation freq>10%\n",
    "        high: high fidelity, avoid misligation freq>1%\n",
    "\n",
    "    :return: \n",
    "    a dictionary of primers, and a dictionary of sticky end sequences\n",
    "    \"\"\"\n",
    "    esp3i_adaptor = Seq('aCGTCTCc')   #universal adaptor for Esp3I, will generate a sticky end that matches the 4 following nt\n",
    "    sticky_end_left = Seq('GACT')    #left sticky end of pXW467/468/472\n",
    "    sticky_end_right = Seq('AAAC')   #right sticky end of pXW67/468/472\n",
    "    template_fwd = Seq('GTTTTAGAGCTAGAAATAGCAAGTTA') #Fwd primer to amplify scaffold RNA\n",
    "    template_rev = Seq('TGCGCAAGCCCGGAATCGAACCGGG')  #Rev primer to amplify tRNA_Gly\n",
    "    adaptor_left = esp3i_adaptor + sticky_end_left + \"tt\" #left adaptor for Esp3I to generate a GACT sticky end followed by tt\n",
    "    adaptor_right = esp3i_adaptor + sticky_end_right  #Right adaptor for Esp3I to generate a AAAC sticky end\n",
    "    primer_dict = {}\n",
    "    overhang_dict = {\"vect_left\": str(sticky_end_left) + \"\\tNA\", \"vect_right\": str(sticky_end_right) + \"\\tNA\"}\n",
    "    overhang_fidelity_dict = {}\n",
    "\n",
    "    if df.shape[0] == 1:\n",
    "        # For one gRNA only\n",
    "        primer1_name, primer1 = df['SNP'].iloc[0] + '_F', sticky_end_left + 'tt' + df['gRNA'][0]\n",
    "        primer2_name, primer2 = df['SNP'].iloc[0] + '_R', sticky_end_right + df['gRNA'][0].reverse_complement() + 'aa'\n",
    "        primer_dict = {primer1_name: primer1, primer2_name: primer2}\n",
    "        overhang_fidelity_dict[\"vect_left\"], overhang_fidelity_dict[\"vect_right\"] = \"NA\", \"NA\"\n",
    "\n",
    "    elif df.shape[0] == 2:\n",
    "        # For two gRNAs\n",
    "        primer1_name, primer1 = df['SNP'].iloc[0] + '_F', adaptor_left + df['gRNA'][0] + template_fwd\n",
    "        primer2_name, primer2 = df['SNP'].iloc[1] + '_R', adaptor_right + df['gRNA'][1].reverse_complement() + template_rev\n",
    "        primer_dict = {primer1_name: primer1, primer2_name: primer2}\n",
    "        overhang_fidelity_dict[\"vect_left\"], overhang_fidelity_dict[\"vect_right\"] = \"NA\", \"NA\"\n",
    "\n",
    "    else:\n",
    "        # For three and more gRNAs (1st and last are introduced in one primer, all others are split into two primers and joined by golden gate\n",
    "        overhang_start_list = []\n",
    "        primer1_name = df['SNP'].iloc[0] + '_F'\n",
    "        primer_dict[primer1_name] = adaptor_left + df['gRNA'][0] + template_fwd\n",
    "        overhang_list = [str(sticky_end_left), str(sticky_end_right)]   \n",
    "\n",
    "        if hf:\n",
    "            ligation_fidelity_dict = \"Ligation_fidelity_dictionary.json\"\n",
    "            hf_combined = pd.read_json(ligation_fidelity_dict)\n",
    "            hf_df = hf_combined[hf.lower()]\n",
    "\n",
    "            try: overhang_fidelity_dict = {\"vect_left\": hf_df[sticky_end_left], \"vect_right\": hf_df[sticky_end_right]}\n",
    "            except KeyError:\n",
    "                pass\n",
    "\n",
    "            try: overhang_list.extend(hf_df[sticky_end_left])\n",
    "            except KeyError:\n",
    "                pass\n",
    "\n",
    "            try: overhang_list.extend(hf_df[sticky_end_right])\n",
    "            except KeyError:\n",
    "                pass            \n",
    "\n",
    "            for n in range(1,len(df['gRNA'])-1):\n",
    "                gRNA_seq = df['gRNA'][n]\n",
    "                overhang_start = 8\n",
    "                overhang = gRNA_seq[overhang_start:overhang_start + 4]\n",
    "                i=1\n",
    "\n",
    "                while overhang.reverse_complement() == overhang or overhang in overhang_list or overhang.reverse_complement() in overhang_list:\n",
    "                    overhang_start = 8 + math.ceil(i/2) * (-1) ** i\n",
    "                    overhang = gRNA_seq[overhang_start:overhang_start+4]\n",
    "                    i = i + 1\n",
    "\n",
    "                try: overhang_misligate = hf_df[overhang]\n",
    "                except KeyError:\n",
    "                    pass   \n",
    "\n",
    "                overhang_list.append(str(overhang))\n",
    "                overhang_list.extend(overhang_misligate)\n",
    "\n",
    "                overhang_dict[df['SNP'][n]] = f\"{str(overhang)}\\t{overhang_start+1}\"\n",
    "                p_r_name = df['SNP'].iloc[n] + \"_aR\"\n",
    "                p_f_name = df['SNP'].iloc[n] + \"_bF\"\n",
    "                primer_dict[p_r_name] = esp3i_adaptor + gRNA_seq[:overhang_start+4].reverse_complement() + template_rev\n",
    "                primer_dict[p_f_name] = esp3i_adaptor + gRNA_seq[overhang_start:] + template_fwd\n",
    "\n",
    "                overhang_fidelity_dict[df['SNP'][n]] = overhang_misligate\n",
    "\n",
    "        else:\n",
    "            for n in range(1,len(df['gRNA'])-1):\n",
    "                gRNA_seq = df['gRNA'][n]\n",
    "                overhang_start = 8\n",
    "                overhang = gRNA_seq[overhang_start:overhang_start + 4]\n",
    "                i=1\n",
    "\n",
    "                while overhang.reverse_complement() == overhang or overhang in overhang_list or overhang.reverse_complement() in overhang_list:\n",
    "                    overhang_start = 8 + math.ceil(i/2) * (-1) ** i\n",
    "                    overhang = gRNA_seq[overhang_start:overhang_start+4]\n",
    "                    i = i + 1\n",
    "                overhang_list.append(str(overhang))\n",
    "\n",
    "                overhang_dict[df['SNP'][n]] = f\"{str(overhang)}\\t{overhang_start+1}\"\n",
    "                p_r_name = df['SNP'].iloc[n] + \"_aR\"\n",
    "                p_f_name = df['SNP'].iloc[n] + \"_bF\"\n",
    "                primer_dict[p_r_name] = esp3i_adaptor + gRNA_seq[:overhang_start+4].reverse_complement() + template_rev\n",
    "                primer_dict[p_f_name] = esp3i_adaptor + gRNA_seq[overhang_start:] + template_fwd\n",
    "                overhang_fidelity_dict[df['SNP'][n]] = \"NA\"\n",
    "            overhang_fidelity_dict[\"vect_left\"], overhang_fidelity_dict[\"vect_right\"] = \"NA\", \"NA\"\n",
    "\n",
    "\n",
    "        # overhang_fidelity_dict[\"vect_left\"], overhang_fidelity_dict[\"vect_right\"] = \"NA\", \"NA\"\n",
    "\n",
    "        primer_last_name = df['SNP'].iloc[-1] + \"_R\"\n",
    "        primer_dict[primer_last_name] = adaptor_right + df['gRNA'].iloc[-1].reverse_complement() + template_rev\n",
    "        print(overhang_list)\n",
    "\n",
    "    return  primer_dict, overhang_dict, overhang_fidelity_dict\n"
   ],
   "metadata": {
    "collapsed": false,
    "ExecuteTime": {
     "end_time": "2023-10-30T19:33:57.401355600Z",
     "start_time": "2023-10-30T19:33:57.385733900Z"
    }
   }
  },
  {
   "cell_type": "code",
   "execution_count": 49,
   "outputs": [
    {
     "name": "stdout",
     "output_type": "stream",
     "text": [
      "['GACT', 'AAAC', 'AGTT', 'TGTC', 'GGTC', 'AGGC', 'AGCC', 'AGTA', 'GTTG', 'GTGG', 'CCAT', 'CCTC', 'CCGC', 'CTAC', 'CGAC', 'TCAC', 'GCAC', 'ACAC', 'GCAT', 'ATGT', 'TTGC', 'GTGC', 'AGGC', 'TAGA', 'TCTT', 'TCTG', 'TAGG', 'CCTT', 'CCTG', 'CCTC', 'TCTA', 'ACTA', 'TGGT', 'AAAA', 'TGGT', 'TAAC', 'GTTT', 'GTTG', 'GTTC', 'TTCT', 'AGAT', 'AGAG', 'GGAA', 'TTGC', 'CTGC', 'GCTG', 'GCGG', 'GCCG', 'GTAG', 'GGAG', 'ACAG', 'ACTG', 'CTGT', 'CGGT', 'TAGT', 'CAGG', 'CAGC', 'GAAG', 'CTTT', 'CTTG', 'TTTC', 'CTAC', 'CTTA', 'GAGA', 'GAGC', 'GCTT', 'GCTG', 'GTTC', 'GGTC', 'ACTC', 'GATC', 'GCCC', 'GCAC', 'GCTA', 'TGAC', 'GTCT', 'GTCG', 'GTCC', 'GTTA', 'GGCA', 'CAAA', 'ATGA']\n"
     ]
    }
   ],
   "source": [
    "primer_set, sticky_end_dict, fidelity_dict = creepy_primer(gRNA_df,hf=\"high\")\n",
    "\n",
    "current_datetime = datetime.datetime.now()\n",
    "date_time_str = current_datetime.strftime(\"%Y-%m-%d_%H-%M-%S\")\n",
    "\n",
    "creepy_primer_path = desktop + '/' + creepy_primer_file + date_time_str + \".txt\"\n",
    "\n",
    "with open(creepy_primer_path, \"w\") as file:\n",
    "    file.write('Primer\\t\\tSequence\\n')\n",
    "    for key, value in primer_set.items():\n",
    "        file.write(f\"{key}\\t{value}\\n\")\n",
    "    file.write('\\nSNP\\t\\tStk_end\\tPos\\tIncompatible\\n')\n",
    "    for key, value in sticky_end_dict.items():\n",
    "        file.write(f\"{key}\\t{value}\\t{fidelity_dict[key]}\\n\")\n"
   ],
   "metadata": {
    "collapsed": false,
    "pycharm": {
     "name": "#%%\n"
    },
    "ExecuteTime": {
     "end_time": "2023-10-30T19:33:58.260733Z",
     "start_time": "2023-10-30T19:33:58.240440800Z"
    }
   }
  },
  {
   "cell_type": "code",
   "execution_count": 24,
   "outputs": [],
   "source": [
    "# def creepy_primer(df, hf=\"medium\"):\n",
    "#     \"\"\"\n",
    "#     Design CREEPY primers based on a list of gRNAs\n",
    "#     For one guide RNA, return two oligos that generate sticky ends after annealing.\n",
    "#     For two guide RNAs, return two primers, with each primer incorperating one gRNA.\n",
    "#     For three and more guide RNAs, return a set of primers:\n",
    "#         The first and last primers introduce the first and last gRNAs, respectively.\n",
    "#         The rest of the primers introduce the middle gRNAs that are each split into two halves,\n",
    "#         with the first half in the reverse primer and the second half in the fwd primer.\n",
    "#         \n",
    "#     :param \n",
    "#     df: dataframe containing the SNPs and gRNAs\n",
    "#     hf: High-fidelity boolean. default is medium.\n",
    "#         False: do not check ligation fidelity dictionary\n",
    "#         low: low fidelity, only avoid highly frequent misligations (freq>20%)\n",
    "#         medium: medium fidelity, misligation freq>10%\n",
    "#         high: high fidelity, avoid misligation freq>1%\n",
    "#     \n",
    "#     :return: \n",
    "#     a dictionary of primers, and a dictionary of sticky end sequences\n",
    "#     \"\"\"\n",
    "#     esp3i_adaptor = Seq('aCGTCTCc')   #universal adaptor for Esp3I, will generate a sticky end that matches the 4 following nt\n",
    "#     sticky_end_left = Seq('GACT')    #left sticky end of pXW467/468/472\n",
    "#     sticky_end_right = Seq('AAAC')   #right sticky end of pXW67/468/472\n",
    "#     template_fwd = Seq('GTTTTAGAGCTAGAAATAGCAAGTTA') #Fwd primer to amplify scaffold RNA\n",
    "#     template_rev = Seq('TGCGCAAGCCCGGAATCGAACCGGG')  #Rev primer to amplify tRNA_Gly\n",
    "#     adaptor_left = esp3i_adaptor + sticky_end_left + \"tt\" #left adaptor for Esp3I to generate a GACT sticky end followed by tt\n",
    "#     adaptor_right = esp3i_adaptor + sticky_end_right  #Right adaptor for Esp3I to generate a AAAC sticky end\n",
    "#     primer_dict = {}\n",
    "#     overhang_dict = [{\"SNP\": \"vect_left\", \"sticky_end\": sticky_end_left, \"position\": \"NA\", \"Fidelity\": \"NA\"}, \n",
    "#                     {\"SNP\": \"vect_right\", \"sticky_end\": sticky_end_right, \"position\": \"NA\", \"Fidelity\": \"NA\"}]\n",
    "#     overhang_df = pd.DataFrame(overhang_dict)\n",
    "#     \n",
    "#     if df.shape[0] == 1:\n",
    "#         # For one gRNA only\n",
    "#         primer1_name, primer1 = df['SNP'].iloc[0] + '_F', sticky_end_left + 'tt' + df['gRNA'][0]\n",
    "#         primer2_name, primer2 = df['SNP'].iloc[0] + '_R', sticky_end_right + df['gRNA'][0].reverse_complement() + 'aa'\n",
    "#         primer_dict = {primer1_name: primer1, primer2_name: primer2}\n",
    "#         \n",
    "#     elif df.shape[0] == 2:\n",
    "#         # For two gRNAs\n",
    "#         primer1_name, primer1 = df['SNP'].iloc[0] + '_F', adaptor_left + df['gRNA'][0] + template_fwd\n",
    "#         primer2_name, primer2 = df['SNP'].iloc[1] + '_R', adaptor_right + df['gRNA'][1].reverse_complement() + template_rev\n",
    "#         primer_dict = {primer1_name: primer1, primer2_name: primer2}\n",
    "#         \n",
    "#     else:\n",
    "#         # For three and more gRNAs (1st and last are introduced in one primer, all others are split into two primers and joined by golden gate\n",
    "#         overhang_start_list = []\n",
    "#         primer1_name = df['SNP'].iloc[0] + '_F'\n",
    "#         primer_dict[primer1_name] = adaptor_left + df['gRNA'][0] + template_fwd\n",
    "#         overhang_list = [str(sticky_end_left), str(sticky_end_right)]   \n",
    "#         \n",
    "#         if hf:\n",
    "#             ligation_fidelity_dict = \"Ligation_fidelity_dictionary.json\"\n",
    "#             hf_combined = pd.read_json(ligation_fidelity_dict)\n",
    "#             hf_df = hf_combined[hf]\n",
    "#                      \n",
    "#             try: overhang_df[\"Fidelity\"][\"vect_left\"], overhang_df[\"Fidelity\"][\"vect_right\"] = hf_df[sticky_end_left], hf_df[sticky_end_right]\n",
    "#             except KeyError:\n",
    "#                 pass      \n",
    "#             \n",
    "#             for n in range(1,len(df['gRNA'])-1):\n",
    "#                 gRNA_seq = df['gRNA'][n]\n",
    "#                 overhang_start = 8\n",
    "#                 overhang = gRNA_seq[overhang_start:overhang_start + 4]\n",
    "#                 i=1\n",
    "#                          \n",
    "#                 while overhang.reverse_complement() == overhang \\\n",
    "#                     or any(overhang in row for row in overhang_df['sticky_end']) \\\n",
    "#                     or any(overhang.reverse_complement() in row for row in overhang_df['sticky_end']) \\\n",
    "#                     or any(str(overhang) in row for row in overhang_df['Fidelity']) \\\n",
    "#                     or any(str(overhang.reverse_complement()) in row for row in overhang_df['Fidelity']):\n",
    "#                     overhang_start = 8 + math.ceil(i/2) * (-1) ** i\n",
    "#                     overhang = gRNA_seq[overhang_start:overhang_start+4]\n",
    "#                     i = i + 1\n",
    "#                 \n",
    "#                 try: new_row = pd.Series({\"SNP\": df['SNP'][n], \"sticky_end\": str(overhang), \"position\": overhang_start+1, \"Fidelity\": hf_df[overhang]})\n",
    "#                 except KeyError:\n",
    "#                     pass   \n",
    "#                 overhang_df = pd.concat([overhang_df, new_row])    \n",
    "#                             \n",
    "#                 # overhang_dict[df['SNP'][n]] = f\"{str(overhang)} start_pos: ({overhang_start+1})\"\n",
    "#                 p_r_name = df['SNP'].iloc[n] + \"_aR\"\n",
    "#                 p_f_name = df['SNP'].iloc[n] + \"_bF\"\n",
    "#                 primer_dict[p_r_name] = esp3i_adaptor + gRNA_seq[:overhang_start+4].reverse_complement() + template_rev\n",
    "#                 primer_dict[p_f_name] = esp3i_adaptor + gRNA_seq[overhang_start:] + template_fwd\n",
    "#             \n",
    "#         else:\n",
    "#             for n in range(1,len(df['gRNA'])-1):\n",
    "#                 gRNA_seq = df['gRNA'][n]\n",
    "#                 overhang_start = 8\n",
    "#                 overhang = gRNA_seq[overhang_start:overhang_start + 4]\n",
    "#                 i=1\n",
    "#                 \n",
    "#                 while overhang.reverse_complement() == overhang \\\n",
    "#                     or any(overhang in row for row in overhang_df['sticky_end']) \\\n",
    "#                     or any(overhang.reverse_complement() in row for row in overhang_df['sticky_end']):\n",
    "#                     i = i + 1\n",
    "#            \n",
    "#                 p_r_name = df['SNP'].iloc[n] + \"_aR\"\n",
    "#                 p_f_name = df['SNP'].iloc[n] + \"_bF\"\n",
    "#                 primer_dict[p_r_name] = esp3i_adaptor + gRNA_seq[:overhang_start+4].reverse_complement() + template_rev\n",
    "#                 primer_dict[p_f_name] = esp3i_adaptor + gRNA_seq[overhang_start:] + template_fwd\n",
    "#                 \n",
    "#                 new_row = pd.Series({\"SNP\": df['SNP'][n], \"sticky_end\": str(overhang), \"position\": overhang_start+1, \"Fidelity\": \"NA\"})\n",
    "#                 overhang_df = pd.concat([overhang_df, new_row])\n",
    "#                 \n",
    "#         primer_last_name = df['SNP'].iloc[-1] + \"_R\"\n",
    "#         primer_dict[primer_last_name] = adaptor_right + df['gRNA'].iloc[-1].reverse_complement() + template_rev\n",
    "#         print(overhang_list)\n",
    "#     \n",
    "#     return  primer_dict, overhang_df\n"
   ],
   "metadata": {
    "collapsed": false,
    "ExecuteTime": {
     "end_time": "2023-10-30T18:52:01.217315100Z",
     "start_time": "2023-10-30T18:52:01.199166500Z"
    }
   }
  },
  {
   "cell_type": "code",
   "execution_count": null,
   "outputs": [],
   "source": [],
   "metadata": {
    "collapsed": false
   }
  }
 ],
 "metadata": {
  "kernelspec": {
   "display_name": "Python 3",
   "language": "python",
   "name": "python3"
  },
  "language_info": {
   "codemirror_mode": {
    "name": "ipython",
    "version": 2
   },
   "file_extension": ".py",
   "mimetype": "text/x-python",
   "name": "python",
   "nbconvert_exporter": "python",
   "pygments_lexer": "ipython2",
   "version": "2.7.6"
  }
 },
 "nbformat": 4,
 "nbformat_minor": 0
}
