{
 "cells": [
  {
   "cell_type": "code",
   "execution_count": 104,
   "outputs": [],
   "source": [
    "from Bio.Seq import Seq\n",
    "from Bio.SeqUtils import gc_fraction\n",
    "import pandas as pd\n",
    "import os\n",
    "import math\n",
    "import datetime"
   ],
   "metadata": {
    "collapsed": false,
    "pycharm": {
     "name": "#%%\n"
    },
    "ExecuteTime": {
     "end_time": "2023-11-20T00:16:49.237702700Z",
     "start_time": "2023-11-20T00:16:49.218971200Z"
    }
   }
  },
  {
   "cell_type": "code",
   "execution_count": 105,
   "outputs": [
    {
     "data": {
      "text/plain": "'\\nInput: a txt file containing gRNA sequences. \\n    The file can be either one column of gRNA sequences only, or the output file from 1_SNP_gRNA\\n\\nOutput: a txt file containing primers that assemble gRNAs into the CREEPY vector\\n\\nThe code allows to check for imperfect ligations and avoid those sticky end pairs\\nThe boolean for high fidelity filter is High_Fidelity\\n\\n'"
     },
     "execution_count": 105,
     "metadata": {},
     "output_type": "execute_result"
    }
   ],
   "source": [
    "\"\"\"\n",
    "Input: a txt file containing gRNA sequences. \n",
    "    The file can be either one column of gRNA sequences only, or the output file from 1_SNP_gRNA\n",
    "\n",
    "Output: a txt file containing primers that assemble gRNAs into the CREEPY vector\n",
    "\n",
    "The code allows to check for imperfect ligations and avoid those sticky end pairs\n",
    "The boolean for high fidelity filter is High_Fidelity\n",
    "\n",
    "\"\"\""
   ],
   "metadata": {
    "collapsed": false,
    "ExecuteTime": {
     "end_time": "2023-11-20T00:16:49.976046Z",
     "start_time": "2023-11-20T00:16:49.960416300Z"
    }
   }
  },
  {
   "cell_type": "code",
   "execution_count": 164,
   "outputs": [],
   "source": [
    "#Input filename\n",
    "gRNA_FILENAME = \"pXW470_gRNA_FL.txt\"\n",
    "\n",
    "#Output filename (partial)\n",
    "creepy_primer_file = \"pXW470_creepy_primer_\" \n",
    "\n",
    "desktop = os.path.expanduser(\"~/Desktop\")\n",
    "gRNA_file_path = desktop + '/' + gRNA_FILENAME\n",
    "\n",
    "# if high, filter out sticky ends that ligate with each other at >1% frequency. \n",
    "# Medium: filter out those >10%. Low: filter out those >20%\n",
    "# False: turn off filter\n",
    "High_Fidelity = 'ultrahigh' "
   ],
   "metadata": {
    "collapsed": false,
    "pycharm": {
     "name": "#%%\n"
    },
    "ExecuteTime": {
     "end_time": "2023-11-20T03:38:34.139091Z",
     "start_time": "2023-11-20T03:38:34.123463600Z"
    }
   }
  },
  {
   "cell_type": "code",
   "execution_count": 165,
   "outputs": [],
   "source": [
    "def read_data(file_path):\n",
    "    try:\n",
    "        df = pd.read_csv(file_path, sep=None)\n",
    "        if \"SNP\" in df.columns and \"gRNA\" in df.columns:\n",
    "            df[\"SNP\"] = df[\"SNP\"].astype(str)\n",
    "            df[\"gRNA\"] = df[\"gRNA\"].str.replace(\" \", \"\")\n",
    "            df[\"gRNA\"] = df[\"gRNA\"].apply(lambda seq_str: Seq(seq_str.upper()))\n",
    "            return df\n",
    "    except pd.errors.EmptyDataError:\n",
    "        pass\n",
    "\n",
    "    try:\n",
    "        df = pd.read_csv(file_path, header=None, names=[\"gRNA\"])\n",
    "        df['SNP'] = range(1, df.shape[0]+1)\n",
    "        df['SNP'] = df['SNP'].astype(str)\n",
    "        df[\"gRNA\"] = df[\"gRNA\"].str.replace(\" \", \"\")\n",
    "        df[\"gRNA\"] = df[\"gRNA\"].apply(lambda seq_str: Seq(seq_str.upper()))\n",
    "        return df\n",
    "    except FileNotFoundError:\n",
    "        pass\n",
    "\n",
    "    return None"
   ],
   "metadata": {
    "collapsed": false,
    "ExecuteTime": {
     "end_time": "2023-11-20T03:38:34.659987500Z",
     "start_time": "2023-11-20T03:38:34.633983100Z"
    }
   }
  },
  {
   "cell_type": "code",
   "execution_count": 166,
   "outputs": [
    {
     "name": "stderr",
     "output_type": "stream",
     "text": [
      "C:\\Users\\wxh02\\AppData\\Local\\Temp\\ipykernel_17476\\3556184501.py:3: ParserWarning: Falling back to the 'python' engine because the 'c' engine does not support sep=None with delim_whitespace=False; you can avoid this warning by specifying engine='python'.\n",
      "  df = pd.read_csv(file_path, sep=None)\n"
     ]
    },
    {
     "data": {
      "text/plain": "            SNP                                               gRNA\n0     rs2239017  (A, G, A, A, A, G, T, G, A, G, T, C, A, T, T, ...\n1      rs758171  (A, C, C, A, T, G, C, T, G, T, G, G, C, C, A, ...\n2    rs71441679  (A, A, G, G, C, T, G, A, G, C, A, T, C, T, G, ...\n3    rs35848523  (T, A, T, T, C, T, G, A, T, A, G, A, T, A, A, ...\n4     rs2238049  (T, G, A, A, G, C, C, T, C, T, A, G, G, G, C, ...\n5     rs2238050  (G, A, A, A, A, A, T, T, A, C, T, A, G, C, C, ...\n6     rs2238051  (C, C, G, G, T, A, G, T, A, A, A, A, A, T, T, ...\n7     rs1860056  (G, C, C, A, C, C, A, C, T, A, A, C, A, G, C, ...\n8    rs12423277  (T, G, G, C, T, T, C, C, T, T, C, T, A, G, A, ...\n9     rs1016388  (T, A, C, A, C, A, G, A, G, G, A, A, A, G, A, ...\n10    rs7957545  (G, A, C, A, T, G, G, C, T, G, C, A, C, A, T, ...\n11    rs2238056  (T, G, C, A, A, C, C, T, G, C, A, A, C, T, G, ...\n12    rs3829331  (C, G, G, A, A, G, G, G, G, A, A, G, A, A, G, ...\n13  rs882194_95  (T, G, C, C, T, C, A, G, A, G, A, A, T, T, T, ...\n14     rs882193  (A, G, C, A, G, A, G, G, A, G, A, G, C, A, C, ...\n15    rs2370413  (A, T, C, C, C, T, T, T, G, A, C, A, G, C, A, ...\n16    rs2239037  (C, G, T, G, C, T, G, C, G, G, C, A, A, A, C, ...\n17    rs4765911  (G, G, A, G, G, T, T, A, T, G, A, C, T, G, A, ...\n18    rs1860002  (C, T, C, T, G, T, A, A, A, G, G, C, A, C, A, ...",
      "text/html": "<div>\n<style scoped>\n    .dataframe tbody tr th:only-of-type {\n        vertical-align: middle;\n    }\n\n    .dataframe tbody tr th {\n        vertical-align: top;\n    }\n\n    .dataframe thead th {\n        text-align: right;\n    }\n</style>\n<table border=\"1\" class=\"dataframe\">\n  <thead>\n    <tr style=\"text-align: right;\">\n      <th></th>\n      <th>SNP</th>\n      <th>gRNA</th>\n    </tr>\n  </thead>\n  <tbody>\n    <tr>\n      <th>0</th>\n      <td>rs2239017</td>\n      <td>(A, G, A, A, A, G, T, G, A, G, T, C, A, T, T, ...</td>\n    </tr>\n    <tr>\n      <th>1</th>\n      <td>rs758171</td>\n      <td>(A, C, C, A, T, G, C, T, G, T, G, G, C, C, A, ...</td>\n    </tr>\n    <tr>\n      <th>2</th>\n      <td>rs71441679</td>\n      <td>(A, A, G, G, C, T, G, A, G, C, A, T, C, T, G, ...</td>\n    </tr>\n    <tr>\n      <th>3</th>\n      <td>rs35848523</td>\n      <td>(T, A, T, T, C, T, G, A, T, A, G, A, T, A, A, ...</td>\n    </tr>\n    <tr>\n      <th>4</th>\n      <td>rs2238049</td>\n      <td>(T, G, A, A, G, C, C, T, C, T, A, G, G, G, C, ...</td>\n    </tr>\n    <tr>\n      <th>5</th>\n      <td>rs2238050</td>\n      <td>(G, A, A, A, A, A, T, T, A, C, T, A, G, C, C, ...</td>\n    </tr>\n    <tr>\n      <th>6</th>\n      <td>rs2238051</td>\n      <td>(C, C, G, G, T, A, G, T, A, A, A, A, A, T, T, ...</td>\n    </tr>\n    <tr>\n      <th>7</th>\n      <td>rs1860056</td>\n      <td>(G, C, C, A, C, C, A, C, T, A, A, C, A, G, C, ...</td>\n    </tr>\n    <tr>\n      <th>8</th>\n      <td>rs12423277</td>\n      <td>(T, G, G, C, T, T, C, C, T, T, C, T, A, G, A, ...</td>\n    </tr>\n    <tr>\n      <th>9</th>\n      <td>rs1016388</td>\n      <td>(T, A, C, A, C, A, G, A, G, G, A, A, A, G, A, ...</td>\n    </tr>\n    <tr>\n      <th>10</th>\n      <td>rs7957545</td>\n      <td>(G, A, C, A, T, G, G, C, T, G, C, A, C, A, T, ...</td>\n    </tr>\n    <tr>\n      <th>11</th>\n      <td>rs2238056</td>\n      <td>(T, G, C, A, A, C, C, T, G, C, A, A, C, T, G, ...</td>\n    </tr>\n    <tr>\n      <th>12</th>\n      <td>rs3829331</td>\n      <td>(C, G, G, A, A, G, G, G, G, A, A, G, A, A, G, ...</td>\n    </tr>\n    <tr>\n      <th>13</th>\n      <td>rs882194_95</td>\n      <td>(T, G, C, C, T, C, A, G, A, G, A, A, T, T, T, ...</td>\n    </tr>\n    <tr>\n      <th>14</th>\n      <td>rs882193</td>\n      <td>(A, G, C, A, G, A, G, G, A, G, A, G, C, A, C, ...</td>\n    </tr>\n    <tr>\n      <th>15</th>\n      <td>rs2370413</td>\n      <td>(A, T, C, C, C, T, T, T, G, A, C, A, G, C, A, ...</td>\n    </tr>\n    <tr>\n      <th>16</th>\n      <td>rs2239037</td>\n      <td>(C, G, T, G, C, T, G, C, G, G, C, A, A, A, C, ...</td>\n    </tr>\n    <tr>\n      <th>17</th>\n      <td>rs4765911</td>\n      <td>(G, G, A, G, G, T, T, A, T, G, A, C, T, G, A, ...</td>\n    </tr>\n    <tr>\n      <th>18</th>\n      <td>rs1860002</td>\n      <td>(C, T, C, T, G, T, A, A, A, G, G, C, A, C, A, ...</td>\n    </tr>\n  </tbody>\n</table>\n</div>"
     },
     "execution_count": 166,
     "metadata": {},
     "output_type": "execute_result"
    }
   ],
   "source": [
    "gRNA_df = read_data(gRNA_file_path)\n",
    "gRNA_df"
   ],
   "metadata": {
    "collapsed": false,
    "ExecuteTime": {
     "end_time": "2023-11-20T03:38:35.126771100Z",
     "start_time": "2023-11-20T03:38:35.090766700Z"
    }
   }
  },
  {
   "cell_type": "code",
   "execution_count": 167,
   "outputs": [],
   "source": [
    "def creepy_primer(df, hf=\"Medium\", gc_check=True):\n",
    "    \"\"\"\n",
    "    Design CREEPY primers based on a list of gRNAs\n",
    "    For one guide RNA, return two oligos that generate sticky ends after annealing.\n",
    "    For two guide RNAs, return two primers, with each primer incorperating one gRNA.\n",
    "    For three and more guide RNAs, return a set of primers:\n",
    "        The first and last primers introduce the first and last gRNAs, respectively.\n",
    "        The rest of the primers introduce the middle gRNAs that are each split into two halves,\n",
    "        with the first half in the reverse primer and the second half in the fwd primer.\n",
    "\n",
    "    :param \n",
    "    df: dataframe containing the SNPs and gRNAs\n",
    "    hf: High-fidelity boolean. default is medium.\n",
    "        False: do not check ligation fidelity dictionary\n",
    "        low: low fidelity, only avoid highly frequent misligations (freq>20%)\n",
    "        medium: medium fidelity, avoid misligation freq>10%\n",
    "        high: high fidelity, avoid misligation freq>1%\n",
    "        ultrahigh: ultrahigh fidelity, avoid misligation freq>0.1%\n",
    "    gc_check: if True, check GC content to make sure it's not 0 or 100%\n",
    "\n",
    "    :return: \n",
    "    a dictionary of primers, and a dictionary of sticky end sequences\n",
    "    \"\"\"\n",
    "    esp3i_adaptor = Seq('aCGTCTCc')   #universal adaptor for Esp3I, will generate a sticky end that matches the 4 following nt\n",
    "    sticky_end_left = Seq('GACT')    #left sticky end of pXW467/468/472\n",
    "    sticky_end_right = Seq('AAAC')   #right sticky end of pXW67/468/472\n",
    "    template_fwd = Seq('GTTTTAGAGCTAGAAATAGCAAGTTA') #Fwd primer to amplify scaffold RNA\n",
    "    template_rev = Seq('TGCGCAAGCCCGGAATCGAACCGGG')  #Rev primer to amplify tRNA_Gly\n",
    "    adaptor_left = esp3i_adaptor + sticky_end_left + \"tt\" #left adaptor for Esp3I to generate a GACT sticky end followed by tt\n",
    "    adaptor_right = esp3i_adaptor + sticky_end_right  #Right adaptor for Esp3I to generate a AAAC sticky end\n",
    "    primer_dict = {}\n",
    "    overhang_dict = {\"vect_left\": str(sticky_end_left) + \"\\tNA\", \"vect_right\": str(sticky_end_right) + \"\\tNA\"}\n",
    "    overhang_fidelity_dict = {}\n",
    "\n",
    "    if df.shape[0] == 1:\n",
    "        # For one gRNA only\n",
    "        primer1_name, primer1 = df['SNP'].iloc[0] + '_F', sticky_end_left + 'tt' + df['gRNA'][0]\n",
    "        primer2_name, primer2 = df['SNP'].iloc[0] + '_R', sticky_end_right + df['gRNA'][0].reverse_complement() + 'aa'\n",
    "        primer_dict = {primer1_name: primer1, primer2_name: primer2}\n",
    "        overhang_fidelity_dict[\"vect_left\"], overhang_fidelity_dict[\"vect_right\"] = \"NA\", \"NA\"\n",
    "\n",
    "    elif df.shape[0] == 2:\n",
    "        # For two gRNAs\n",
    "        primer1_name, primer1 = df['SNP'].iloc[0] + '_F', adaptor_left + df['gRNA'][0] + template_fwd\n",
    "        primer2_name, primer2 = df['SNP'].iloc[1] + '_R', adaptor_right + df['gRNA'][1].reverse_complement() + template_rev\n",
    "        primer_dict = {primer1_name: primer1, primer2_name: primer2}\n",
    "        overhang_fidelity_dict[\"vect_left\"], overhang_fidelity_dict[\"vect_right\"] = \"NA\", \"NA\"\n",
    "\n",
    "    else:\n",
    "        # For three and more gRNAs (1st and last are introduced in one primer, all others are split into two primers and joined by golden gate\n",
    "        primer1_name = df['SNP'].iloc[0] + '_F'\n",
    "        primer_dict[primer1_name] = adaptor_left + df['gRNA'][0] + template_fwd\n",
    "        overhang_list = [str(sticky_end_left), str(sticky_end_right)]\n",
    "\n",
    "        if hf:\n",
    "            ligation_fidelity_dict = \"Ligation_fidelity_dictionary.json\"\n",
    "            hf_combined = pd.read_json(ligation_fidelity_dict)\n",
    "            hf_df = hf_combined[hf.lower()]\n",
    "\n",
    "            overhang_fidelity_dict = {\"vect_left\": hf_df[sticky_end_left], \"vect_right\": hf_df[sticky_end_right]}\n",
    "\n",
    "            overhang_list.extend(hf_df[sticky_end_left])\n",
    "            overhang_list.extend(hf_df[sticky_end_right])\n",
    "\n",
    "            # df['default_overhang'] = df['gRNA'].apply(lambda x: x[8:12]) \n",
    "            # print(df['default_overhang'])\n",
    "            # try: df['default_overhang_mislig'] = df['default_overhang'].apply(lambda x: hf_df[x])\n",
    "            # except KeyError:\n",
    "            #     pass\n",
    "            # try: print(df['default_overhang_mislig'])\n",
    "            # except KeyError:\n",
    "            #     pass\n",
    "\n",
    "            for n in range(1,len(df['gRNA'])-1):\n",
    "                gRNA_seq = df['gRNA'][n]\n",
    "                overhang_start = 8\n",
    "                overhang = gRNA_seq[overhang_start:overhang_start + 4]\n",
    "                gc_too_hi_or_lo = gc_fraction(Seq(overhang)) == 100 or gc_fraction(Seq(overhang)) == 0\n",
    "                \n",
    "                i=1\n",
    "\n",
    "                while (overhang.reverse_complement() == overhang\\\n",
    "                       or overhang in overhang_list\\\n",
    "                       or overhang.reverse_complement() in overhang_list\\\n",
    "                       or (gc_check and gc_too_hi_or_lo)): #check if it's palindromic, or exists in list, GC content is high or low\n",
    "                    overhang_start = 8 + math.ceil(i/2) * (-1) ** i\n",
    "                    overhang = gRNA_seq[overhang_start:overhang_start+4]\n",
    "                    gc_too_hi_or_lo = gc_fraction(Seq(overhang)) == 100 or gc_fraction(Seq(overhang)) == 0\n",
    "                    \n",
    "                    i = i + 1\n",
    "\n",
    "                # overhang_misligate = hf_df[overhang]\n",
    "                overhang_rc_misligate = hf_df[overhang.reverse_complement()]\n",
    "            \n",
    "                overhang_list.append(str(overhang))\n",
    "                # overhang_list.extend(overhang_misligate)\n",
    "                overhang_list.extend(overhang_rc_misligate)\n",
    "                \n",
    "                overhang_dict[df['SNP'][n]] = f\"{str(overhang)}\\t{overhang_start+1}\"\n",
    "                p_r_name = df['SNP'].iloc[n] + \"_aR\"\n",
    "                p_f_name = df['SNP'].iloc[n] + \"_bF\"\n",
    "                primer_dict[p_r_name] = esp3i_adaptor + gRNA_seq[:overhang_start+4].reverse_complement() + template_rev\n",
    "                primer_dict[p_f_name] = esp3i_adaptor + gRNA_seq[overhang_start:] + template_fwd\n",
    "\n",
    "                overhang_fidelity_dict[df['SNP'][n]] = overhang_rc_misligate\n",
    "                print(overhang_start)\n",
    "                \n",
    "\n",
    "        else:\n",
    "            for n in range(1,len(df['gRNA'])-1):\n",
    "                gRNA_seq = df['gRNA'][n]\n",
    "                overhang_start = 8\n",
    "                overhang = gRNA_seq[overhang_start:overhang_start + 4]\n",
    "                gc_too_hi_or_lo = gc_fraction(Seq(overhang)) == 100 or gc_fraction(Seq(overhang)) == 0\n",
    "                i=1\n",
    "\n",
    "                while overhang.reverse_complement() == overhang \\\n",
    "                        or overhang in overhang_list \\\n",
    "                        or (gc_check and gc_too_hi_or_lo):  #check if it's palindromic, or exists in list, GC content is high or low\n",
    "                       # or overhang.reverse_complement() in overhang_list\\                    \n",
    "                    overhang_start = 8 + math.ceil(i/2) * (-1) ** i\n",
    "                    overhang = gRNA_seq[overhang_start:overhang_start+4]\n",
    "                    gc_too_hi_or_lo = gc_fraction(Seq(overhang)) == 100 or gc_fraction(Seq(overhang)) == 0                  \n",
    "                    i = i + 1\n",
    "                overhang_list.append(str(overhang))\n",
    "\n",
    "                overhang_dict[df['SNP'][n]] = f\"{str(overhang)}\\t{overhang_start+1}\"\n",
    "                p_r_name = df['SNP'].iloc[n] + \"_aR\"\n",
    "                p_f_name = df['SNP'].iloc[n] + \"_bF\"\n",
    "                primer_dict[p_r_name] = esp3i_adaptor + gRNA_seq[:overhang_start+4].reverse_complement() + template_rev\n",
    "                primer_dict[p_f_name] = esp3i_adaptor + gRNA_seq[overhang_start:] + template_fwd\n",
    "                overhang_fidelity_dict[df['SNP'][n]] = \"NA\"\n",
    "            overhang_fidelity_dict[\"vect_left\"], overhang_fidelity_dict[\"vect_right\"] = \"NA\", \"NA\"\n",
    "\n",
    "\n",
    "        # overhang_fidelity_dict[\"vect_left\"], overhang_fidelity_dict[\"vect_right\"] = \"NA\", \"NA\"\n",
    "\n",
    "        primer_last_name = df['SNP'].iloc[-1] + \"_R\"\n",
    "        primer_dict[primer_last_name] = adaptor_right + df['gRNA'].iloc[-1].reverse_complement() + template_rev\n",
    "        print(overhang_list)\n",
    "\n",
    "    return  primer_dict, overhang_dict, overhang_fidelity_dict\n"
   ],
   "metadata": {
    "collapsed": false,
    "ExecuteTime": {
     "end_time": "2023-11-20T03:38:35.520858200Z",
     "start_time": "2023-11-20T03:38:35.501864200Z"
    }
   }
  },
  {
   "cell_type": "code",
   "execution_count": 215,
   "outputs": [],
   "source": [
    "def creepy_primer_2(df, hf=\"Medium\", gc_check=True):\n",
    "    \"\"\"\n",
    "    Design CREEPY primers based on a list of gRNAs\n",
    "    For one guide RNA, return two oligos that generate sticky ends after annealing.\n",
    "    For two guide RNAs, return two primers, with each primer incorperating one gRNA.\n",
    "    For three and more guide RNAs, return a set of primers:\n",
    "        The first and last primers introduce the first and last gRNAs, respectively.\n",
    "        The rest of the primers introduce the middle gRNAs that are each split into two halves,\n",
    "        with the first half in the reverse primer and the second half in the fwd primer.\n",
    "\n",
    "    :param \n",
    "    df: dataframe containing the SNPs and gRNAs\n",
    "    hf: High-fidelity boolean. default is medium.\n",
    "        False: do not check ligation fidelity dictionary\n",
    "        low: low fidelity, only avoid highly frequent misligations (freq>20%)\n",
    "        medium: medium fidelity, avoid misligation freq>10%\n",
    "        high: high fidelity, avoid misligation freq>1%\n",
    "        ultrahigh: ultrahigh fidelity, avoid misligation freq>0.1%\n",
    "    gc_check: if True, check GC content to make sure it's not 0 or 100%\n",
    "\n",
    "    :return: \n",
    "    a dictionary of primers, and a dictionary of sticky end sequences\n",
    "    \"\"\"\n",
    "    esp3i_adaptor = Seq('aCGTCTCc')   #universal adaptor for Esp3I, will generate a sticky end that matches the 4 following nt\n",
    "    sticky_end_left = Seq('GACT')    #left sticky end of pXW467/468/472\n",
    "    sticky_end_right = Seq('AAAC')   #right sticky end of pXW67/468/472\n",
    "    template_fwd = Seq('GTTTTAGAGCTAGAAATAGCAAGTTA') #Fwd primer to amplify scaffold RNA\n",
    "    template_rev = Seq('TGCGCAAGCCCGGAATCGAACCGGG')  #Rev primer to amplify tRNA_Gly\n",
    "    adaptor_left = esp3i_adaptor + sticky_end_left + \"tt\" #left adaptor for Esp3I to generate a GACT sticky end followed by tt\n",
    "    adaptor_right = esp3i_adaptor + sticky_end_right  #Right adaptor for Esp3I to generate a AAAC sticky end\n",
    "    primer_dict = {}\n",
    "    sticky_end_df = pd.DataFrame({'SNP':['left', 'right'],\n",
    "                                  'Stk_end':[str(sticky_end_left), str(sticky_end_right)], \n",
    "                                  'Pos':['NA', 'NA'], \n",
    "                                  'Incompatible':['NA', 'NA']})\n",
    "\n",
    "    if df.shape[0] == 1:\n",
    "        # For one gRNA only\n",
    "        primer1_name, primer1 = df['SNP'].iloc[0] + '_F', sticky_end_left + 'tt' + df['gRNA'][0]\n",
    "        primer2_name, primer2 = df['SNP'].iloc[0] + '_R', sticky_end_right + df['gRNA'][0].reverse_complement() + 'aa'\n",
    "        primer_dict = {primer1_name: primer1, primer2_name: primer2}\n",
    "\n",
    "    elif df.shape[0] == 2:\n",
    "        # For two gRNAs\n",
    "        primer1_name, primer1 = df['SNP'].iloc[0] + '_F', adaptor_left + df['gRNA'][0] + template_fwd\n",
    "        primer2_name, primer2 = df['SNP'].iloc[1] + '_R', adaptor_right + df['gRNA'][1].reverse_complement() + template_rev\n",
    "        primer_dict = {primer1_name: primer1, primer2_name: primer2}\n",
    "\n",
    "    else:\n",
    "        # For three and more gRNAs (1st and last are introduced in one primer, all others are split into two primers and joined by golden gate\n",
    "        primer1_name = df['SNP'].iloc[0] + '_F'\n",
    "        primer_dict[primer1_name] = adaptor_left + df['gRNA'][0] + template_fwd\n",
    "        overhang_list = [str(sticky_end_left), str(sticky_end_right), \n",
    "                         str(Seq(sticky_end_left).reverse_complement()), str(Seq(sticky_end_right).reverse_complement())]\n",
    "\n",
    "        if hf:\n",
    "            ligation_fidelity_dict = \"Ligation_fidelity_dictionary.json\"\n",
    "            hf_combined = pd.read_json(ligation_fidelity_dict)\n",
    "            hf_df = hf_combined[hf.lower()]\n",
    "\n",
    "            sticky_end_df['Incompatible'][0], sticky_end_df['Incompatible'][1] = hf_df[sticky_end_left], hf_df[sticky_end_right]\n",
    "            overhang_list.extend(hf_df[str(Seq(sticky_end_left).reverse_complement())])\n",
    "            overhang_list.extend(hf_df[sticky_end_right])\n",
    "\n",
    "            for n in range(1,len(df['gRNA'])-1):\n",
    "                gRNA_seq = df['gRNA'][n]\n",
    "                overhang_start = 8\n",
    "                overhang = gRNA_seq[overhang_start:overhang_start + 4]\n",
    "                gc_too_hi_or_lo = gc_fraction(Seq(overhang)) == 100 or gc_fraction(Seq(overhang)) == 0\n",
    "                \n",
    "                i=1\n",
    "\n",
    "                while (overhang.reverse_complement() == overhang\\\n",
    "                       or overhang in overhang_list\\\n",
    "                       or (gc_check and gc_too_hi_or_lo)): #check if it's palindromic, or exists in list, GC content is high or low\n",
    "                       # or overhang.reverse_complement() in overhang_list\\ (decided to not check the rc of the overhang,\n",
    "                       # because it's only 8 nt long with a blunt end from the PCR, it should not lead to false positive colonies\n",
    "                    \n",
    "                    overhang_start = 8 + math.ceil(i/2) * (-1) ** i\n",
    "                    overhang = gRNA_seq[overhang_start:overhang_start+4]\n",
    "                    gc_too_hi_or_lo = gc_fraction(Seq(overhang)) == 100 or gc_fraction(Seq(overhang)) == 0\n",
    "                    \n",
    "                    i = i + 1\n",
    "\n",
    "                    if i == 17:\n",
    "                        print(\"sticky end options exhausted\")\n",
    "                        break\n",
    "                        \n",
    "                overhang_rc_misligate = hf_df[overhang.reverse_complement()]\n",
    "            \n",
    "                overhang_list.extend([overhang, str(Seq(overhang).reverse_complement())])\n",
    "                overhang_list.extend(overhang_rc_misligate)\n",
    "                \n",
    "                p_r_name = df['SNP'].iloc[n] + \"_aR\"\n",
    "                p_f_name = df['SNP'].iloc[n] + \"_bF\"\n",
    "                primer_dict[p_r_name] = esp3i_adaptor + gRNA_seq[:overhang_start+4].reverse_complement() + template_rev\n",
    "                primer_dict[p_f_name] = esp3i_adaptor + gRNA_seq[overhang_start:] + template_fwd\n",
    "\n",
    "                sticky_end_df.loc[len(sticky_end_df)] ={'SNP': df['SNP'][n], 'Stk_end': overhang, 'Pos': overhang_start + 1, 'Incompatible': overhang_rc_misligate}\n",
    "                \n",
    "                print(f\"#{n}: {overhang_start + 1}\")\n",
    "                \n",
    "\n",
    "        else:\n",
    "            for n in range(1,len(df['gRNA'])-1):\n",
    "                gRNA_seq = df['gRNA'][n]\n",
    "                overhang_start = 8\n",
    "                overhang = gRNA_seq[overhang_start:overhang_start + 4]\n",
    "                gc_too_hi_or_lo = gc_fraction(Seq(overhang)) == 100 or gc_fraction(Seq(overhang)) == 0\n",
    "                i=1\n",
    "\n",
    "                while overhang.reverse_complement() == overhang \\\n",
    "                        or overhang in overhang_list \\\n",
    "                        or (gc_check and gc_too_hi_or_lo) \\\n",
    "                        or overhang.reverse_complement() in overhang_list:                    \n",
    "                    overhang_start = 8 + math.ceil(i/2) * (-1) ** i\n",
    "                    overhang = gRNA_seq[overhang_start:overhang_start+4]\n",
    "                    gc_too_hi_or_lo = gc_fraction(Seq(overhang)) == 100 or gc_fraction(Seq(overhang)) == 0       \n",
    "                    \n",
    "                    i = i + 1\n",
    "                    \n",
    "                overhang_list.extend([overhang, str(Seq(overhang).reverse_complement())])\n",
    "\n",
    "                sticky_end_df.loc[len(sticky_end_df)] ={'SNP': df['SNP'][n], 'Stk_end': overhang, 'Pos': overhang_start + 1, 'Incompatible': 'NA'}\n",
    "\n",
    "                p_r_name = df['SNP'].iloc[n] + \"_aR\"\n",
    "                p_f_name = df['SNP'].iloc[n] + \"_bF\"\n",
    "                primer_dict[p_r_name] = esp3i_adaptor + gRNA_seq[:overhang_start+4].reverse_complement() + template_rev\n",
    "                primer_dict[p_f_name] = esp3i_adaptor + gRNA_seq[overhang_start:] + template_fwd\n",
    "\n",
    "                print(f\"#{n}: {overhang_start + 1}\")\n",
    "\n",
    "        primer_last_name = df['SNP'].iloc[-1] + \"_R\"\n",
    "        primer_dict[primer_last_name] = adaptor_right + df['gRNA'].iloc[-1].reverse_complement() + template_rev\n",
    "        # print(overhang_list)\n",
    "\n",
    "    return hf, primer_dict, sticky_end_df"
   ],
   "metadata": {
    "collapsed": false,
    "ExecuteTime": {
     "end_time": "2023-11-20T04:39:56.932485700Z",
     "start_time": "2023-11-20T04:39:56.916839500Z"
    }
   }
  },
  {
   "cell_type": "code",
   "execution_count": 216,
   "outputs": [
    {
     "name": "stdout",
     "output_type": "stream",
     "text": [
      "#1: 9\n",
      "#2: 9\n",
      "#3: 9\n",
      "#4: 7\n",
      "#5: 9\n",
      "#6: 7\n",
      "#7: 9\n",
      "#8: 7\n",
      "#9: 8\n",
      "#10: 8\n",
      "#11: 5\n",
      "#12: 11\n",
      "#13: 5\n",
      "#14: 13\n",
      "#15: 6\n",
      "#16: 9\n",
      "#17: 15\n"
     ]
    }
   ],
   "source": [
    "# primer_set, sticky_end_dict, fidelity_dict = creepy_primer(gRNA_df,hf=High_Fidelity, gc_check=True)\n",
    "hf, primer_set, sticky_end_df = creepy_primer_2(gRNA_df,hf=High_Fidelity, gc_check=True)\n",
    "\n",
    "current_datetime = datetime.datetime.now()\n",
    "date_time_str = current_datetime.strftime(\"%Y-%m-%d_%H-%M-%S\")\n",
    "\n",
    "creepy_primer_path = desktop + '/' + creepy_primer_file + date_time_str + \".txt\"\n",
    "\n",
    "with open(creepy_primer_path, \"w\") as file:\n",
    "    file.write('Primer\\t\\tSequence\\n')\n",
    "    for key, value in primer_set.items():\n",
    "        file.write(f\"{key}\\t{value}\\n\")\n",
    "    file.write(f\"\\nFidelity check is: {str(hf).upper()}\\n\")\n",
    "    \n",
    "sticky_end_df.to_csv(creepy_primer_path, sep='\\t', index=True, mode='a')\n"
   ],
   "metadata": {
    "collapsed": false,
    "pycharm": {
     "name": "#%%\n"
    },
    "ExecuteTime": {
     "end_time": "2023-11-20T04:39:57.521461800Z",
     "start_time": "2023-11-20T04:39:57.455446200Z"
    }
   }
  },
  {
   "cell_type": "code",
   "execution_count": 156,
   "outputs": [
    {
     "data": {
      "text/plain": "    GACT\n0   AAAC\n1   GTGG\n2   GCAT\n3   TAGA\n4   TAGG\n5   ACTA\n6   GTAA\n7   TAAC\n8   TTCT\n9   GGAA\n10  CTGC\n11  ACTG\n12  GAAG\n13  GAGA\n14  GAGC\n15  TGAC\n16  CAAA\n17  ATGA",
      "text/html": "<div>\n<style scoped>\n    .dataframe tbody tr th:only-of-type {\n        vertical-align: middle;\n    }\n\n    .dataframe tbody tr th {\n        vertical-align: top;\n    }\n\n    .dataframe thead th {\n        text-align: right;\n    }\n</style>\n<table border=\"1\" class=\"dataframe\">\n  <thead>\n    <tr style=\"text-align: right;\">\n      <th></th>\n      <th>GACT</th>\n    </tr>\n  </thead>\n  <tbody>\n    <tr>\n      <th>0</th>\n      <td>AAAC</td>\n    </tr>\n    <tr>\n      <th>1</th>\n      <td>GTGG</td>\n    </tr>\n    <tr>\n      <th>2</th>\n      <td>GCAT</td>\n    </tr>\n    <tr>\n      <th>3</th>\n      <td>TAGA</td>\n    </tr>\n    <tr>\n      <th>4</th>\n      <td>TAGG</td>\n    </tr>\n    <tr>\n      <th>5</th>\n      <td>ACTA</td>\n    </tr>\n    <tr>\n      <th>6</th>\n      <td>GTAA</td>\n    </tr>\n    <tr>\n      <th>7</th>\n      <td>TAAC</td>\n    </tr>\n    <tr>\n      <th>8</th>\n      <td>TTCT</td>\n    </tr>\n    <tr>\n      <th>9</th>\n      <td>GGAA</td>\n    </tr>\n    <tr>\n      <th>10</th>\n      <td>CTGC</td>\n    </tr>\n    <tr>\n      <th>11</th>\n      <td>ACTG</td>\n    </tr>\n    <tr>\n      <th>12</th>\n      <td>GAAG</td>\n    </tr>\n    <tr>\n      <th>13</th>\n      <td>GAGA</td>\n    </tr>\n    <tr>\n      <th>14</th>\n      <td>GAGC</td>\n    </tr>\n    <tr>\n      <th>15</th>\n      <td>TGAC</td>\n    </tr>\n    <tr>\n      <th>16</th>\n      <td>CAAA</td>\n    </tr>\n    <tr>\n      <th>17</th>\n      <td>ATGA</td>\n    </tr>\n  </tbody>\n</table>\n</div>"
     },
     "execution_count": 156,
     "metadata": {},
     "output_type": "execute_result"
    }
   ],
   "source": [
    "overhang_list = pd.read_csv(desktop + '/overhang_list.txt')\n",
    "overhang_list"
   ],
   "metadata": {
    "collapsed": false,
    "ExecuteTime": {
     "end_time": "2023-11-20T03:28:05.578111800Z",
     "start_time": "2023-11-20T03:28:05.531233100Z"
    }
   }
  },
  {
   "cell_type": "code",
   "execution_count": 103,
   "outputs": [
    {
     "data": {
      "text/plain": "[]"
     },
     "execution_count": 103,
     "metadata": {},
     "output_type": "execute_result"
    }
   ],
   "source": [
    "ligation_fidelity_dict = \"Ligation_fidelity_dictionary.json\"\n",
    "hf_combined = pd.read_json(ligation_fidelity_dict)\n",
    "hf_df = hf_combined[High_Fidelity.lower()]\n",
    "hf_df['AGGA']"
   ],
   "metadata": {
    "collapsed": false,
    "ExecuteTime": {
     "end_time": "2023-11-20T00:15:40.289093800Z",
     "start_time": "2023-11-20T00:15:40.264961400Z"
    }
   }
  },
  {
   "cell_type": "code",
   "execution_count": null,
   "outputs": [],
   "source": [],
   "metadata": {
    "collapsed": false
   }
  }
 ],
 "metadata": {
  "kernelspec": {
   "display_name": "Python 3",
   "language": "python",
   "name": "python3"
  },
  "language_info": {
   "codemirror_mode": {
    "name": "ipython",
    "version": 2
   },
   "file_extension": ".py",
   "mimetype": "text/x-python",
   "name": "python",
   "nbconvert_exporter": "python",
   "pygments_lexer": "ipython2",
   "version": "2.7.6"
  }
 },
 "nbformat": 4,
 "nbformat_minor": 0
}
