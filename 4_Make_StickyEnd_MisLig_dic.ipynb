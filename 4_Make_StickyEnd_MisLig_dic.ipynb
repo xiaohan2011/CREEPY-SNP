{
 "cells": [
  {
   "cell_type": "code",
   "execution_count": 8,
   "id": "initial_id",
   "metadata": {
    "collapsed": true,
    "ExecuteTime": {
     "end_time": "2023-10-28T12:27:59.189664800Z",
     "start_time": "2023-10-28T12:27:59.158415300Z"
    }
   },
   "outputs": [],
   "source": [
    "import pandas as pd\n",
    "import json"
   ]
  },
  {
   "cell_type": "code",
   "execution_count": 9,
   "outputs": [
    {
     "data": {
      "text/plain": "          AAAA  AAAC  AAAG  AAAT  AACA  AACC  AACG  AACT  AAGA  AAGC  ...  \\\nOverhang                                                              ...   \nTTTT      3804     4    96    57     0     0     1     1     5     0  ...   \nGTTT         2  5322     3   565     1    44     2     6     0    27  ...   \nCTTT         3     2  4742     3     1     0    59     0     0     0  ...   \nATTT         1     3     2  5152     0     0     0     5     0     1  ...   \nTGTT         0     0     0     0  5482    11   768   322     5     1  ...   \n\n          TTCG  TTCT  TTGA  TTGC  TTGG  TTGT  TTTA  TTTC  TTTG  TTTT  \nOverhang                                                              \nTTTT         0     0     0     0     0     0     1     0     0     0  \nGTTT         0     0     0     0     0     0     0     2     0     0  \nCTTT         0     0     0     0     0     0     0     0     1     0  \nATTT         0     0     0     0     0     0     0     0     0     0  \nTGTT         0     0     0     0     0     0     0     0     0     0  \n\n[5 rows x 256 columns]",
      "text/html": "<div>\n<style scoped>\n    .dataframe tbody tr th:only-of-type {\n        vertical-align: middle;\n    }\n\n    .dataframe tbody tr th {\n        vertical-align: top;\n    }\n\n    .dataframe thead th {\n        text-align: right;\n    }\n</style>\n<table border=\"1\" class=\"dataframe\">\n  <thead>\n    <tr style=\"text-align: right;\">\n      <th></th>\n      <th>AAAA</th>\n      <th>AAAC</th>\n      <th>AAAG</th>\n      <th>AAAT</th>\n      <th>AACA</th>\n      <th>AACC</th>\n      <th>AACG</th>\n      <th>AACT</th>\n      <th>AAGA</th>\n      <th>AAGC</th>\n      <th>...</th>\n      <th>TTCG</th>\n      <th>TTCT</th>\n      <th>TTGA</th>\n      <th>TTGC</th>\n      <th>TTGG</th>\n      <th>TTGT</th>\n      <th>TTTA</th>\n      <th>TTTC</th>\n      <th>TTTG</th>\n      <th>TTTT</th>\n    </tr>\n    <tr>\n      <th>Overhang</th>\n      <th></th>\n      <th></th>\n      <th></th>\n      <th></th>\n      <th></th>\n      <th></th>\n      <th></th>\n      <th></th>\n      <th></th>\n      <th></th>\n      <th></th>\n      <th></th>\n      <th></th>\n      <th></th>\n      <th></th>\n      <th></th>\n      <th></th>\n      <th></th>\n      <th></th>\n      <th></th>\n      <th></th>\n    </tr>\n  </thead>\n  <tbody>\n    <tr>\n      <th>TTTT</th>\n      <td>3804</td>\n      <td>4</td>\n      <td>96</td>\n      <td>57</td>\n      <td>0</td>\n      <td>0</td>\n      <td>1</td>\n      <td>1</td>\n      <td>5</td>\n      <td>0</td>\n      <td>...</td>\n      <td>0</td>\n      <td>0</td>\n      <td>0</td>\n      <td>0</td>\n      <td>0</td>\n      <td>0</td>\n      <td>1</td>\n      <td>0</td>\n      <td>0</td>\n      <td>0</td>\n    </tr>\n    <tr>\n      <th>GTTT</th>\n      <td>2</td>\n      <td>5322</td>\n      <td>3</td>\n      <td>565</td>\n      <td>1</td>\n      <td>44</td>\n      <td>2</td>\n      <td>6</td>\n      <td>0</td>\n      <td>27</td>\n      <td>...</td>\n      <td>0</td>\n      <td>0</td>\n      <td>0</td>\n      <td>0</td>\n      <td>0</td>\n      <td>0</td>\n      <td>0</td>\n      <td>2</td>\n      <td>0</td>\n      <td>0</td>\n    </tr>\n    <tr>\n      <th>CTTT</th>\n      <td>3</td>\n      <td>2</td>\n      <td>4742</td>\n      <td>3</td>\n      <td>1</td>\n      <td>0</td>\n      <td>59</td>\n      <td>0</td>\n      <td>0</td>\n      <td>0</td>\n      <td>...</td>\n      <td>0</td>\n      <td>0</td>\n      <td>0</td>\n      <td>0</td>\n      <td>0</td>\n      <td>0</td>\n      <td>0</td>\n      <td>0</td>\n      <td>1</td>\n      <td>0</td>\n    </tr>\n    <tr>\n      <th>ATTT</th>\n      <td>1</td>\n      <td>3</td>\n      <td>2</td>\n      <td>5152</td>\n      <td>0</td>\n      <td>0</td>\n      <td>0</td>\n      <td>5</td>\n      <td>0</td>\n      <td>1</td>\n      <td>...</td>\n      <td>0</td>\n      <td>0</td>\n      <td>0</td>\n      <td>0</td>\n      <td>0</td>\n      <td>0</td>\n      <td>0</td>\n      <td>0</td>\n      <td>0</td>\n      <td>0</td>\n    </tr>\n    <tr>\n      <th>TGTT</th>\n      <td>0</td>\n      <td>0</td>\n      <td>0</td>\n      <td>0</td>\n      <td>5482</td>\n      <td>11</td>\n      <td>768</td>\n      <td>322</td>\n      <td>5</td>\n      <td>1</td>\n      <td>...</td>\n      <td>0</td>\n      <td>0</td>\n      <td>0</td>\n      <td>0</td>\n      <td>0</td>\n      <td>0</td>\n      <td>0</td>\n      <td>0</td>\n      <td>0</td>\n      <td>0</td>\n    </tr>\n  </tbody>\n</table>\n<p>5 rows × 256 columns</p>\n</div>"
     },
     "execution_count": 9,
     "metadata": {},
     "output_type": "execute_result"
    }
   ],
   "source": [
    "#Sticky end ligation frequency matrix from Potapov et al 2018 \n",
    "# https://pubmed.ncbi.nlm.nih.gov/30335370/\n",
    "sticky_end_file = \"Sticky_end_ligation_matrix.xlsx\"\n",
    "sticky_end_output_file = \"Ligation_fidelity_dictionary.json\"\n",
    "\n",
    "sticky_end_df = pd.read_excel(sticky_end_file, index_col=\"Overhang\")\n",
    "sticky_end_df.head()"
   ],
   "metadata": {
    "collapsed": false,
    "ExecuteTime": {
     "end_time": "2023-10-28T12:28:01.029471600Z",
     "start_time": "2023-10-28T12:28:00.187268200Z"
    }
   },
   "id": "d55e44cca6f232b4"
  },
  {
   "cell_type": "code",
   "execution_count": 10,
   "outputs": [
    {
     "data": {
      "text/plain": "{'AAAC': ['GTTG'],\n 'AAAG': ['TTTT', 'CTTG', 'CTTA'],\n 'AAAT': ['TTTT', 'GTTT'],\n 'AACA': [],\n 'AACC': ['GGTG'],\n 'AACG': ['CTTT', 'TGTT', 'CGTG', 'CGTC', 'CGTA'],\n 'AACT': ['TGTT', 'GGTT'],\n 'AAGA': [],\n 'AAGC': ['GGTT', 'GCTG'],\n 'AAGG': ['CGTT', 'TCTT', 'CCTG'],\n 'AAGT': ['GCTT'],\n 'AATA': [],\n 'AATC': ['GGTT'],\n 'AATG': ['TATT', 'CATG', 'CATA'],\n 'AATT': ['TATT', 'GATT'],\n 'ACAA': [],\n 'ACAC': ['GGGT', 'GTGG', 'GTGC', 'GTGA'],\n 'ACAG': ['TTGT', 'CTGG', 'CTGC'],\n 'ACAT': ['GTGT', 'ATGG', 'ATGC'],\n 'ACCA': [],\n 'ACCC': ['GGGG', 'GGGC'],\n 'ACCG': ['TGGT', 'CGGG', 'CGGC'],\n 'ACCT': ['TGGT', 'GGGT', 'AGGG'],\n 'ACGA': [],\n 'ACGC': ['GTGT', 'GGGT', 'GCGG', 'GCGC'],\n 'ACGG': ['CTGT', 'TCGT', 'ACGT', 'CCGG', 'CCGC', 'CCTA', 'CCGA'],\n 'ACGT': ['AGGT', 'TCGT', 'GCGT', 'ACGG'],\n 'ACTA': ['TGGT'],\n 'ACTC': ['GTGT', 'GGGT', 'GCGT', 'GAGG', 'GAGC'],\n 'ACTG': ['CTGT', 'CGGT', 'TAGT', 'CAGG', 'CAGC'],\n 'ACTT': ['AGGT', 'TAGT', 'GAGT'],\n 'AGAA': [],\n 'AGAC': ['GTTT', 'GTGT', 'GGCT', 'GTAT', 'GTCG', 'GTCA'],\n 'AGAG': ['CTTT', 'CTGT', 'TTCT', 'CTAT', 'CTCG', 'CTCA'],\n 'AGAT': ['ATTT', 'ATGT', 'TTCT', 'GTCT', 'ATCG'],\n 'AGCA': ['TGGT', 'GGCT', 'TGCG'],\n 'AGCC': ['GGTT', 'GGGT', 'GTCT', 'GACT', 'GGAT', 'GGCG', 'GGCC', 'GGCA'],\n 'AGCG': ['CGTT',\n  'CGGT',\n  'CTCT',\n  'TGCT',\n  'GGCT',\n  'AGCT',\n  'CACT',\n  'CGAT',\n  'CGCG',\n  'CGCC',\n  'CGCA'],\n 'AGCT': ['AGTT', 'AGGT', 'TGCT', 'GGCT', 'AGCG'],\n 'AGGA': ['GCCT'],\n 'AGGC': ['GCTT', 'GCGT', 'GTCT', 'GGCT', 'ACCT', 'GACT', 'GCAT', 'GCCG'],\n 'AGGG': ['CCTT',\n  'CCGT',\n  'CTCT',\n  'CGCT',\n  'TCCT',\n  'ACCT',\n  'CACT',\n  'CCAT',\n  'CCCG',\n  'CCCC',\n  'CCCA'],\n 'AGGT': ['ACTT', 'ACGT', 'AGCT', 'TCCT', 'GCCT'],\n 'AGTA': ['GACT'],\n 'AGTC': ['GATT', 'GAGT', 'GGCT', 'TACT'],\n 'AGTG': ['CATT', 'CAGT', 'CTCT', 'CGCT', 'TACT', 'CACG'],\n 'AGTT': ['AGCT', 'TACT', 'GACT'],\n 'ATAA': [],\n 'ATAC': ['GTTT', 'GTGT', 'GGAT'],\n 'ATAG': ['CTTT', 'CTGT'],\n 'ATAT': ['GTAT'],\n 'ATCA': ['GGAT'],\n 'ATCC': ['GGGT'],\n 'ATCG': ['CGGT', 'TGAT', 'AGAT', 'CGAG'],\n 'ATCT': ['TGAT', 'GGAT'],\n 'ATGA': [],\n 'ATGC': ['GCGT', 'GTAT', 'GGAT', 'ACAT'],\n 'ATGG': ['CCTT', 'CCGT', 'CTAT', 'CGAT', 'TCAT', 'ACAT', 'CCAG', 'CCTA'],\n 'ATGT': ['AGAT', 'TCAT', 'GCAT'],\n 'ATTA': ['TGAT', 'GAAT'],\n 'ATTC': ['GAGT', 'GGAT', 'TAAT'],\n 'ATTG': ['CATT', 'CTAT', 'CGAT', 'TAAT'],\n 'ATTT': ['AGAT', 'TAAT', 'GAAT'],\n 'CAAA': [],\n 'CAAC': ['GGTG'],\n 'CAAG': ['TTTG', 'GTTG'],\n 'CAAT': ['TTTG', 'GTTG'],\n 'CACA': ['GGTG'],\n 'CACC': ['GGTT', 'TGTG', 'GGGG', 'GGCG', 'GGTA'],\n 'CACG': ['CGTT', 'TGTG', 'GGTG', 'AGTG', 'CGGG', 'CGCG', 'CGTA'],\n 'CACT': ['TGTG', 'GGTG', 'CGTG', 'AGGG', 'AGCG'],\n 'CAGA': ['GCTG'],\n 'CAGC': ['GCTT', 'GTTG', 'GGTG', 'ACTG', 'GATG', 'GCCG'],\n 'CAGG': ['CGTG', 'TCTG', 'ACTG'],\n 'CAGT': ['AGTG', 'TCTG', 'GCTG'],\n 'CATA': ['TGTG', 'GATG', 'AATG'],\n 'CATC': ['GTTG', 'GGTG', 'TATG', 'GACG'],\n 'CATG': ['CTTG', 'CGTG', 'TATG', 'GATG', 'AATG'],\n 'CATT': ['ATTG', 'AGTG', 'TATG', 'GATG'],\n 'CCAA': [],\n 'CCAC': ['GGGG', 'GCGG', 'GAGG'],\n 'CCAG': ['TTGG', 'ATGG', 'CGGG'],\n 'CCAT': ['TTGG', 'GTGG', 'AGGG'],\n 'CCCA': ['GGGG', 'CGGG'],\n 'CCCC': ['GGTG', 'TGGG', 'AGGG'],\n 'CCCG': ['TGGG', 'GGGG', 'AGGG'],\n 'CCCT': ['TGGG', 'GGGG'],\n 'CCGA': ['TTGG', 'GCGG', 'ACGG'],\n 'CCGC': ['GCTG', 'GTGG', 'GGGG', 'ACGG', 'GAGG'],\n 'CCGG': ['CCTG', 'CTGG', 'CGGG', 'TCGG', 'GCGG', 'ACGG'],\n 'CCGT': ['ATGG', 'AGGG', 'TCGG', 'GCGG'],\n 'CCTA': ['TTGG', 'ATGG', 'TGGG', 'ACGG', 'GAGG'],\n 'CCTC': ['GTGG', 'GGGG', 'GCGG', 'TAGG', 'AAGG'],\n 'CCTG': ['CTGG', 'CGGG', 'CCGG', 'TAGG', 'GAGG', 'AAGG'],\n 'CCTT': ['ATGG', 'AGGG', 'TAGG', 'GAGG'],\n 'CGAA': [],\n 'CGAC': ['GTCT', 'GTTG', 'GTGG', 'ATCG', 'GGCG', 'GCCG', 'GACG', 'GTCA'],\n 'CGAG': ['CTTG', 'CTGG', 'TTCG', 'GTCG', 'ATCG', 'CTAG', 'CTCA'],\n 'CGAT': ['ATTG', 'ATGG', 'TTCG', 'GTCG', 'AGCG'],\n 'CGCA': ['TGTG', 'TGGG', 'GGCG', 'CGCG', 'AGCG'],\n 'CGCC': ['GGCT',\n  'GGTG',\n  'GGGG',\n  'GTCG',\n  'TGCG',\n  'CGCG',\n  'AGCG',\n  'GACG',\n  'GGAG',\n  'GGCC',\n  'GGCA'],\n 'CGCG': ['CGCT',\n  'CGTG',\n  'CGGG',\n  'CTCG',\n  'TGCG',\n  'GGCG',\n  'AGCG',\n  'CACG',\n  'CGCC',\n  'CGCA'],\n 'CGCT': ['AGTG', 'AGGG', 'TGCG', 'GGCG', 'CGCG'],\n 'CGGA': ['TTCG', 'GCCG'],\n 'CGGC': ['GCTG', 'GCGG', 'GTCG', 'GGCG', 'ACCG', 'GACG', 'GCAG', 'GCCA'],\n 'CGGG': ['CCTG',\n  'CCGG',\n  'CTCG',\n  'CGCG',\n  'TCCG',\n  'GCCG',\n  'ACCG',\n  'CACG',\n  'CCAG',\n  'CCCA'],\n 'CGGT': ['ACTG', 'ATCG', 'AGCG', 'TCCG', 'GCCG'],\n 'CGTA': ['TGCG', 'GACG', 'CACG', 'AACG'],\n 'CGTC': ['GACT', 'GATG', 'GAGG', 'GTCG', 'GGCG', 'GCCG', 'TACG', 'AACG'],\n 'CGTG': ['CACT', 'CATG', 'CAGG', 'CTCG', 'CGCG', 'TACG', 'GACG', 'AACG'],\n 'CGTT': ['AGCG', 'TACG', 'GACG', 'CACG'],\n 'CTAA': [],\n 'CTAC': ['GTTG', 'GTGG', 'GGAG', 'GCAG', 'GAAG'],\n 'CTAG': ['CTTG', 'CTGG', 'TTAG', 'CGAG'],\n 'CTAT': ['ATTG', 'TTAG', 'GTAG', 'AGAG'],\n 'CTCA': ['TGTG', 'TGGG', 'GGAG', 'CGAG', 'AGAG'],\n 'CTCC': ['GGTG', 'GGGG', 'GGCG', 'TGAG'],\n 'CTCG': ['CGTG', 'CGGG', 'CGCG', 'TGAG', 'GGAG', 'AGAG'],\n 'CTCT': ['AGTG', 'AGGG', 'AGCG', 'TGAG', 'GGAG'],\n 'CTGA': ['TCTG', 'TTAG', 'GCAG'],\n 'CTGC': ['GCTG', 'GCGG', 'GCCG', 'GTAG', 'GGAG', 'ACAG'],\n 'CTGG': ['CCTG', 'CCGG', 'CTAG', 'CGAG', 'TCAG', 'GCAG', 'ACAG'],\n 'CTGT': ['ACTG', 'ACGG', 'ATAG', 'AGAG', 'TCAG', 'GCAG'],\n 'CTTA': ['TTAG', 'TGAG', 'GAAG', 'AAAG'],\n 'CTTC': ['GATG', 'GAGG', 'GACG', 'GTAG', 'GGAG', 'TAAG'],\n 'CTTG': ['CATG', 'CTAG', 'CGAG', 'TAAG', 'GAAG', 'AAAG'],\n 'CTTT': ['AACG', 'ATAG', 'AGAG', 'TAAG', 'GAAG'],\n 'GAAA': [],\n 'GAAC': ['GTTT', 'GTTG', 'GGTC', 'GTGC', 'GTCC', 'GTAC', 'GTTA'],\n 'GAAG': ['CTTT', 'CTTG', 'TTTC', 'CTAC', 'CTTA'],\n 'GAAT': ['ATTT', 'TTTC', 'GTTC', 'ATTA'],\n 'GACA': ['TGTT', 'GGTC', 'TGGC'],\n 'GACC': ['GGTT',\n  'GGTG',\n  'GTTC',\n  'TGTC',\n  'AGTC',\n  'GATC',\n  'GGGC',\n  'GGCC',\n  'GGAC',\n  'GGTA'],\n 'GACG': ['CGTT',\n  'CGTG',\n  'CTTC',\n  'TGTC',\n  'CATC',\n  'CGGC',\n  'CGCC',\n  'CGAC',\n  'CGTA'],\n 'GACT': ['AGTT', 'TGTC', 'GGTC', 'AGGC', 'AGCC', 'AGTA'],\n 'GAGA': [],\n 'GAGC': ['GCTT',\n  'GCTG',\n  'GTTC',\n  'GGTC',\n  'ACTC',\n  'GATC',\n  'GCCC',\n  'GCAC',\n  'GCTA'],\n 'GAGG': ['CCTT',\n  'CCTG',\n  'CTTC',\n  'CGTC',\n  'TCTC',\n  'ACTC',\n  'CCGC',\n  'CCAC',\n  'CCTA'],\n 'GAGT': ['ACTT', 'ATTC', 'AGTC', 'TCTC', 'GCTC'],\n 'GATA': ['TGTC', 'GATC'],\n 'GATC': ['GATT', 'GTTC', 'GGTC', 'TATC', 'GAGC', 'GATA'],\n 'GATG': ['CATT', 'CATG', 'CTTC', 'CGTC', 'TATC', 'CAGC', 'CATA'],\n 'GATT': ['AATT', 'AGTC', 'TATC', 'GATC'],\n 'GCAA': ['TTGT'],\n 'GCAC': ['GTGT', 'GTGG', 'GTTC', 'GGGC', 'GCGC', 'GAGC', 'GTAC', 'GTGA'],\n 'GCAG': ['CTGT', 'CTGG', 'CTTC', 'TTGC', 'CGGC', 'CTAC', 'CTGA'],\n 'GCAT': ['ATGT', 'TTGC', 'GTGC', 'AGGC'],\n 'GCCA': ['TGGT', 'GGGC', 'CGGC'],\n 'GCCC': ['GGGT', 'GGGG', 'GGTC', 'GTGC', 'TGGC', 'GAGC', 'GGAC', 'GGGA'],\n 'GCCG': ['CGGT',\n  'CGGG',\n  'CGTC',\n  'CTGC',\n  'TGGC',\n  'GGGC',\n  'AGGC',\n  'CAGC',\n  'CGAC',\n  'CGGA'],\n 'GCCT': ['TGGT', 'AGGT', 'TGGC', 'GGGC', 'AGGA'],\n 'GCGA': ['TCGT', 'TTGC', 'GCGC'],\n 'GCGC': ['GCGT',\n  'GCGG',\n  'GCTC',\n  'GTGC',\n  'GGGC',\n  'ACGC',\n  'GAGC',\n  'GCAC',\n  'GCGA'],\n 'GCGG': ['CCGT',\n  'CCGG',\n  'CCTC',\n  'CTGC',\n  'CGGC',\n  'TCGC',\n  'GCGC',\n  'ACGC',\n  'CAGC',\n  'CCAC',\n  'CCGA'],\n 'GCGT': ['ACGT', 'ACTC', 'ATGC', 'AGGC', 'TCGC', 'GCGC'],\n 'GCTA': ['TAGT', 'TGGC', 'GAGC'],\n 'GCTC': ['GAGT', 'GTGC', 'GGGC', 'GCGC', 'TAGC'],\n 'GCTG': ['CAGT', 'CTGC', 'CGGC', 'CCGC', 'TAGC', 'GAGC', 'AAGC', 'CAGA'],\n 'GCTT': ['AAGT', 'AGGC', 'TAGC', 'GAGC'],\n 'GGAA': ['TTGC'],\n 'GGAC': ['GTCT',\n  'GTCG',\n  'GTTC',\n  'GTGC',\n  'GGCC',\n  'GCCC',\n  'GACC',\n  'GTAC',\n  'GTCA'],\n 'GGAG': ['CTCT', 'CTCG', 'CTTC', 'CTGC', 'TTCC', 'CGCC', 'CTAC', 'CTCA'],\n 'GGAT': ['ATCT', 'ATTC', 'ATGC', 'TTCC', 'GTCC', 'AGCC', 'ATAC', 'ATCA'],\n 'GGCA': ['TGCT', 'TGTC', 'TGGC', 'GGCC', 'CGCC', 'AGCC', 'TGAC', 'TGCA'],\n 'GGCC': ['GGCT',\n  'GGCG',\n  'GGTC',\n  'GGGC',\n  'GTCC',\n  'TGCC',\n  'CGCC',\n  'AGCC',\n  'GACC',\n  'GGAC',\n  'GGCA'],\n 'GGCG': ['CGCT',\n  'CGCG',\n  'CGTC',\n  'CGGC',\n  'CTCC',\n  'TGCC',\n  'GGCC',\n  'AGCC',\n  'CACC',\n  'CGAC',\n  'CGCA'],\n 'GGCT': ['TGCT',\n  'AGCT',\n  'AGCG',\n  'AGTC',\n  'AGGC',\n  'TGCC',\n  'GGCC',\n  'CGCC',\n  'AGAC',\n  'AGCA'],\n 'GGGA': ['TCCT', 'TCTC', 'TTCC', 'GCCC'],\n 'GGGC': ['GCCT',\n  'GCCG',\n  'GCTC',\n  'GCGC',\n  'GTCC',\n  'GGCC',\n  'ACCC',\n  'GACC',\n  'GCAC',\n  'GCCA'],\n 'GGGG': ['CCCT',\n  'CCCG',\n  'CCTC',\n  'CCGC',\n  'CTCC',\n  'CGCC',\n  'TCCC',\n  'GCCC',\n  'ACCC',\n  'CACC',\n  'CCAC',\n  'CCCA'],\n 'GGGT': ['ACCT',\n  'ACTC',\n  'ACGC',\n  'ATCC',\n  'AGCC',\n  'TCCC',\n  'GCCC',\n  'AACC',\n  'ACAC'],\n 'GGTA': ['TACT', 'TATC', 'TGCC', 'GACC', 'CACC', 'AACC'],\n 'GGTC': ['GACT',\n  'GATC',\n  'GAGC',\n  'GTCC',\n  'GGCC',\n  'GCCC',\n  'TACC',\n  'AACC',\n  'GAAC',\n  'GACA'],\n 'GGTG': ['CACT',\n  'CACG',\n  'CATC',\n  'CAGC',\n  'CTCC',\n  'CGCC',\n  'CCCC',\n  'TACC',\n  'GACC',\n  'AACC',\n  'CAAC',\n  'CACA'],\n 'GGTT': ['AACT', 'AATC', 'AAGC', 'AGCC', 'TACC', 'GACC', 'CACC'],\n 'GTAA': [],\n 'GTAC': ['GTAT', 'GTTC', 'GTGC', 'GGAC', 'GCAC', 'GAAC'],\n 'GTAG': ['CTAT', 'CTTC', 'CTGC', 'TTAC'],\n 'GTAT': ['ATAT', 'ATGC', 'TTAC', 'GTAC', 'AGAC'],\n 'GTCA': ['TGAT', 'TGGC', 'GGAC', 'CGAC', 'AGAC'],\n 'GTCC': ['GGAT', 'GGTC', 'GGGC', 'GGCC', 'TGAC', 'AGAC', 'GAAC'],\n 'GTCG': ['CGAT',\n  'CGAG',\n  'CGTC',\n  'CGGC',\n  'CGCC',\n  'TGAC',\n  'GGAC',\n  'AGAC',\n  'CGAA'],\n 'GTCT': ['TGAT', 'AGAT', 'AGGC', 'AGCC', 'TGAC', 'GGAC', 'CGAC'],\n 'GTGA': ['TCAT', 'TTAC', 'GCAC'],\n 'GTGC': ['GCAT', 'GCTC', 'GCGC', 'GCCC', 'GTAC', 'GGAC', 'ACAC', 'GAAC'],\n 'GTGG': ['CCAT', 'CCTC', 'CCGC', 'CTAC', 'CGAC', 'TCAC', 'GCAC', 'ACAC'],\n 'GTGT': ['ACAT', 'ACTC', 'ACGC', 'ATAC', 'AGAC', 'TCAC', 'GCAC'],\n 'GTTA': ['TAAT', 'TGAC', 'GAAC', 'AAAC'],\n 'GTTC': ['GAAT', 'GATC', 'GAGC', 'GACC', 'GTAC', 'GGAC', 'GCAC', 'TAAC'],\n 'GTTG': ['CAAT',\n  'CAAG',\n  'CATC',\n  'CAGC',\n  'CTAC',\n  'CGAC',\n  'TAAC',\n  'GAAC',\n  'AAAC'],\n 'GTTT': ['AAAT', 'AGAC', 'TAAC', 'GAAC'],\n 'TAAA': ['TTTT', 'TTTG'],\n 'TAAC': ['GTTT', 'GTTG', 'GTTC'],\n 'TAAG': ['CTTT', 'CTTG', 'CTTC'],\n 'TAAT': ['ATTT', 'ATTG', 'ATTC', 'GTTA'],\n 'TACA': ['TGTT', 'TGTG'],\n 'TACC': ['GGTT', 'GGTG', 'GGTC'],\n 'TACG': ['CGTT', 'CGTG', 'CGTC', 'TGTA'],\n 'TACT': ['AGTT', 'AGTG', 'AGTC', 'TGTA', 'GGTA'],\n 'TAGA': ['TCTT', 'TCTG'],\n 'TAGC': ['GCTT', 'GCTG', 'GCTC'],\n 'TAGG': ['CCTT', 'CCTG', 'CCTC', 'TCTA'],\n 'TAGT': ['ACTT', 'ACTG', 'GCTA'],\n 'TATA': ['TATT', 'TATG'],\n 'TATC': ['GATT', 'GATG', 'GATC', 'GGTA'],\n 'TATG': ['CATT', 'CATG', 'CATC', 'TATA'],\n 'TATT': ['AATT', 'AATG'],\n 'TCAA': ['TTGG'],\n 'TCAC': ['GTGT', 'GTGG'],\n 'TCAG': ['CTGT', 'CTGG'],\n 'TCAT': ['ATGT', 'ATGG', 'GTGA'],\n 'TCCA': ['TGGG'],\n 'TCCC': ['GGGT', 'GGGG'],\n 'TCCG': ['CGGT', 'CGGG', 'TGGA'],\n 'TCCT': ['AGGT', 'AGGG', 'TGGA', 'GGGA'],\n 'TCGA': ['TCGG'],\n 'TCGC': ['GCGT', 'GCGG'],\n 'TCGG': ['CCGT', 'CCGG', 'TCGA'],\n 'TCGT': ['ACGG', 'GCGA'],\n 'TCTA': ['TAGG'],\n 'TCTC': ['GAGT', 'GAGG', 'GGGA'],\n 'TCTG': ['CAGG', 'CTGA'],\n 'TCTT': ['AAGG'],\n 'TGAA': ['TTCT', 'TTCG'],\n 'TGAC': ['GTCT', 'GTCG', 'GTCC', 'GTTA', 'GGCA'],\n 'TGAG': ['CTCT', 'CTCG', 'CTTA', 'TTCA'],\n 'TGAT': ['GTCT', 'ATCT', 'ATCG', 'ATTA', 'GTCA'],\n 'TGCA': ['TGCT', 'TGCG', 'GGCA'],\n 'TGCC': ['GGCT', 'GGCG', 'GGCC', 'GGTA'],\n 'TGCG': ['CGCT', 'CGCG', 'CGCC', 'CGTA', 'CTCA', 'TGCA', 'AGCA', 'CACA'],\n 'TGCT': ['GGCT', 'AGCT', 'AGCG', 'AGTA', 'TGCA', 'GGCA'],\n 'TGGA': ['TCCT', 'TCCG'],\n 'TGGC': ['GCCT', 'GCCG', 'GCCC', 'GCTA', 'GTCA', 'GGCA', 'GACA'],\n 'TGGG': ['CCCT',\n  'CCCG',\n  'CCCC',\n  'CCTA',\n  'CTCA',\n  'CGCA',\n  'TCCA',\n  'ACCA',\n  'CACA'],\n 'TGGT': ['GCCT', 'ACCT', 'ACCG', 'ACTA', 'AGCA', 'GCCA'],\n 'TGTA': ['TACT', 'TACG'],\n 'TGTC': ['GACT', 'GACG', 'GATA', 'GGCA'],\n 'TGTG': ['CACT', 'CACG', 'CATA', 'CTCA', 'CGCA', 'TACA'],\n 'TGTT': ['AACT', 'AACG', 'TACA', 'GACA'],\n 'TTAA': ['TTAG', 'TTGA', 'GTAA'],\n 'TTAC': ['GTAT', 'GTAG', 'GTGA'],\n 'TTAG': ['CTAT', 'CTAG', 'CTTA', 'CTGA'],\n 'TTAT': ['ATAT', 'ATAG', 'ATGA'],\n 'TTCA': ['TGAG'],\n 'TTCC': ['GGAT', 'GGAG', 'GGGA'],\n 'TTCG': ['CGAT', 'CGAG', 'CGGA', 'TGAA'],\n 'TTCT': ['AGAT', 'AGAG'],\n 'TTGA': ['TCAG'],\n 'TTGC': ['GCAT', 'GCAG', 'GCGA', 'GGAA'],\n 'TTGG': ['CCAT', 'CCAG', 'CCTA', 'CCGA', 'TCAA'],\n 'TTGT': ['ACAG', 'GCAA'],\n 'TTTA': ['TAAG'],\n 'TTTC': ['GAAT', 'GAAG'],\n 'TTTG': ['CAAT', 'CAAG'],\n 'TTTT': ['AAAT', 'AAAG']}"
     },
     "execution_count": 10,
     "metadata": {},
     "output_type": "execute_result"
    }
   ],
   "source": [
    "# Create an empty dictionary to store the results\n",
    "hf_low = {}\n",
    "hf_medium = {}\n",
    "hf_high = {}\n",
    "\n",
    "low = 0.8   #determines the threshold to filter misligations, low means will only check those known misligations > 20% of the time\n",
    "med = 0.9   #medium means will check known misligations that happen >10% of the time\n",
    "high = 0.99 #high means will check misligations that happen >1% of the time\n",
    "\n",
    "# Iterate through columns and find indices where values are greater than 10% of the maximum\n",
    "for column in sticky_end_df.columns[1:]:  # Exclude the 'Overhang' column\n",
    "    max_value = sticky_end_df[column].max()\n",
    "    low_threshold = (1 - low) * max_value\n",
    "    medium_threshold = (1 - med) * max_value\n",
    "    high_threshold = (1 - high) * max_value\n",
    "    max_threshold = 0.9 * max_value\n",
    "    \n",
    "    low_indices = sticky_end_df[(sticky_end_df[column] > low_threshold) & (sticky_end_df[column] < max_threshold)].index.tolist()\n",
    "    medium_indices = sticky_end_df[(sticky_end_df[column] > medium_threshold) & (sticky_end_df[column] < max_threshold)].index.tolist()\n",
    "    high_indices = sticky_end_df[(sticky_end_df[column] > high_threshold) & (sticky_end_df[column] < max_threshold)].index.tolist()\n",
    "\n",
    "    hf_low[column] = low_indices\n",
    "    hf_medium[column] = medium_indices\n",
    "    hf_high[column] = high_indices\n",
    "\n",
    "hf_high"
   ],
   "metadata": {
    "collapsed": false,
    "ExecuteTime": {
     "end_time": "2023-10-28T12:28:03.576669200Z",
     "start_time": "2023-10-28T12:28:03.255579500Z"
    }
   },
   "id": "997142003be78c5c"
  },
  {
   "cell_type": "code",
   "execution_count": 11,
   "outputs": [],
   "source": [
    "combined_dict = {\"high\": hf_high, \"medium\": hf_medium, \"low\": hf_low}\n",
    "\n",
    "# Write the combined dictionary to the file in JSON format\n",
    "with open(sticky_end_output_file, \"w\") as json_file:\n",
    "    json.dump(combined_dict, json_file)"
   ],
   "metadata": {
    "collapsed": false,
    "ExecuteTime": {
     "end_time": "2023-10-28T12:28:04.454431300Z",
     "start_time": "2023-10-28T12:28:04.422426200Z"
    }
   },
   "id": "c4ba0d1b8e0e6900"
  },
  {
   "cell_type": "code",
   "execution_count": 13,
   "outputs": [
    {
     "data": {
      "text/plain": "AAAC                [GTTG]\nAAAG    [TTTT, CTTG, CTTA]\nAAAT          [TTTT, GTTT]\nAACA                    []\nAACC                [GGTG]\n               ...        \nTTGT          [ACAG, GCAA]\nTTTA                [TAAG]\nTTTC          [GAAT, GAAG]\nTTTG          [CAAT, CAAG]\nTTTT          [AAAT, AAAG]\nName: high, Length: 255, dtype: object"
     },
     "execution_count": 13,
     "metadata": {},
     "output_type": "execute_result"
    }
   ],
   "source": [
    "df = pd.read_json(sticky_end_output_file)\n",
    "df[\"high\"]"
   ],
   "metadata": {
    "collapsed": false,
    "ExecuteTime": {
     "end_time": "2023-10-28T12:30:37.125133100Z",
     "start_time": "2023-10-28T12:30:37.093870Z"
    }
   },
   "id": "f993f32fc55bc01d"
  },
  {
   "cell_type": "code",
   "execution_count": null,
   "outputs": [],
   "source": [],
   "metadata": {
    "collapsed": false
   },
   "id": "1fd9f35f7dfc770b"
  }
 ],
 "metadata": {
  "kernelspec": {
   "display_name": "Python 3",
   "language": "python",
   "name": "python3"
  },
  "language_info": {
   "codemirror_mode": {
    "name": "ipython",
    "version": 2
   },
   "file_extension": ".py",
   "mimetype": "text/x-python",
   "name": "python",
   "nbconvert_exporter": "python",
   "pygments_lexer": "ipython2",
   "version": "2.7.6"
  }
 },
 "nbformat": 4,
 "nbformat_minor": 5
}
