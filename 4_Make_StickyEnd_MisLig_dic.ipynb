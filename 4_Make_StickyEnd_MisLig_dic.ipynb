{
 "cells": [
  {
   "cell_type": "code",
   "execution_count": 1,
   "id": "initial_id",
   "metadata": {
    "collapsed": true,
    "ExecuteTime": {
     "end_time": "2023-11-17T16:36:16.769756900Z",
     "start_time": "2023-11-17T16:36:16.395062Z"
    }
   },
   "outputs": [],
   "source": [
    "import pandas as pd\n",
    "import json"
   ]
  },
  {
   "cell_type": "code",
   "execution_count": 2,
   "outputs": [
    {
     "data": {
      "text/plain": "          AAAA  AAAC  AAAG  AAAT  AACA  AACC  AACG  AACT  AAGA  AAGC  ...  \\\nOverhang                                                              ...   \nTTTT      3804     4    96    57     0     0     1     1     5     0  ...   \nGTTT         2  5322     3   565     1    44     2     6     0    27  ...   \nCTTT         3     2  4742     3     1     0    59     0     0     0  ...   \nATTT         1     3     2  5152     0     0     0     5     0     1  ...   \nTGTT         0     0     0     0  5482    11   768   322     5     1  ...   \n\n          TTCG  TTCT  TTGA  TTGC  TTGG  TTGT  TTTA  TTTC  TTTG  TTTT  \nOverhang                                                              \nTTTT         0     0     0     0     0     0     1     0     0     0  \nGTTT         0     0     0     0     0     0     0     2     0     0  \nCTTT         0     0     0     0     0     0     0     0     1     0  \nATTT         0     0     0     0     0     0     0     0     0     0  \nTGTT         0     0     0     0     0     0     0     0     0     0  \n\n[5 rows x 256 columns]",
      "text/html": "<div>\n<style scoped>\n    .dataframe tbody tr th:only-of-type {\n        vertical-align: middle;\n    }\n\n    .dataframe tbody tr th {\n        vertical-align: top;\n    }\n\n    .dataframe thead th {\n        text-align: right;\n    }\n</style>\n<table border=\"1\" class=\"dataframe\">\n  <thead>\n    <tr style=\"text-align: right;\">\n      <th></th>\n      <th>AAAA</th>\n      <th>AAAC</th>\n      <th>AAAG</th>\n      <th>AAAT</th>\n      <th>AACA</th>\n      <th>AACC</th>\n      <th>AACG</th>\n      <th>AACT</th>\n      <th>AAGA</th>\n      <th>AAGC</th>\n      <th>...</th>\n      <th>TTCG</th>\n      <th>TTCT</th>\n      <th>TTGA</th>\n      <th>TTGC</th>\n      <th>TTGG</th>\n      <th>TTGT</th>\n      <th>TTTA</th>\n      <th>TTTC</th>\n      <th>TTTG</th>\n      <th>TTTT</th>\n    </tr>\n    <tr>\n      <th>Overhang</th>\n      <th></th>\n      <th></th>\n      <th></th>\n      <th></th>\n      <th></th>\n      <th></th>\n      <th></th>\n      <th></th>\n      <th></th>\n      <th></th>\n      <th></th>\n      <th></th>\n      <th></th>\n      <th></th>\n      <th></th>\n      <th></th>\n      <th></th>\n      <th></th>\n      <th></th>\n      <th></th>\n      <th></th>\n    </tr>\n  </thead>\n  <tbody>\n    <tr>\n      <th>TTTT</th>\n      <td>3804</td>\n      <td>4</td>\n      <td>96</td>\n      <td>57</td>\n      <td>0</td>\n      <td>0</td>\n      <td>1</td>\n      <td>1</td>\n      <td>5</td>\n      <td>0</td>\n      <td>...</td>\n      <td>0</td>\n      <td>0</td>\n      <td>0</td>\n      <td>0</td>\n      <td>0</td>\n      <td>0</td>\n      <td>1</td>\n      <td>0</td>\n      <td>0</td>\n      <td>0</td>\n    </tr>\n    <tr>\n      <th>GTTT</th>\n      <td>2</td>\n      <td>5322</td>\n      <td>3</td>\n      <td>565</td>\n      <td>1</td>\n      <td>44</td>\n      <td>2</td>\n      <td>6</td>\n      <td>0</td>\n      <td>27</td>\n      <td>...</td>\n      <td>0</td>\n      <td>0</td>\n      <td>0</td>\n      <td>0</td>\n      <td>0</td>\n      <td>0</td>\n      <td>0</td>\n      <td>2</td>\n      <td>0</td>\n      <td>0</td>\n    </tr>\n    <tr>\n      <th>CTTT</th>\n      <td>3</td>\n      <td>2</td>\n      <td>4742</td>\n      <td>3</td>\n      <td>1</td>\n      <td>0</td>\n      <td>59</td>\n      <td>0</td>\n      <td>0</td>\n      <td>0</td>\n      <td>...</td>\n      <td>0</td>\n      <td>0</td>\n      <td>0</td>\n      <td>0</td>\n      <td>0</td>\n      <td>0</td>\n      <td>0</td>\n      <td>0</td>\n      <td>1</td>\n      <td>0</td>\n    </tr>\n    <tr>\n      <th>ATTT</th>\n      <td>1</td>\n      <td>3</td>\n      <td>2</td>\n      <td>5152</td>\n      <td>0</td>\n      <td>0</td>\n      <td>0</td>\n      <td>5</td>\n      <td>0</td>\n      <td>1</td>\n      <td>...</td>\n      <td>0</td>\n      <td>0</td>\n      <td>0</td>\n      <td>0</td>\n      <td>0</td>\n      <td>0</td>\n      <td>0</td>\n      <td>0</td>\n      <td>0</td>\n      <td>0</td>\n    </tr>\n    <tr>\n      <th>TGTT</th>\n      <td>0</td>\n      <td>0</td>\n      <td>0</td>\n      <td>0</td>\n      <td>5482</td>\n      <td>11</td>\n      <td>768</td>\n      <td>322</td>\n      <td>5</td>\n      <td>1</td>\n      <td>...</td>\n      <td>0</td>\n      <td>0</td>\n      <td>0</td>\n      <td>0</td>\n      <td>0</td>\n      <td>0</td>\n      <td>0</td>\n      <td>0</td>\n      <td>0</td>\n      <td>0</td>\n    </tr>\n  </tbody>\n</table>\n<p>5 rows × 256 columns</p>\n</div>"
     },
     "execution_count": 2,
     "metadata": {},
     "output_type": "execute_result"
    }
   ],
   "source": [
    "#Sticky end ligation frequency matrix from Potapov et al 2018 \n",
    "# https://pubmed.ncbi.nlm.nih.gov/30335370/\n",
    "sticky_end_file = \"Sticky_end_ligation_matrix.xlsx\"\n",
    "sticky_end_output_file = \"Ligation_fidelity_dictionary.json\"\n",
    "\n",
    "sticky_end_df = pd.read_excel(sticky_end_file, index_col=\"Overhang\")\n",
    "sticky_end_df.head()"
   ],
   "metadata": {
    "collapsed": false,
    "ExecuteTime": {
     "end_time": "2023-11-17T16:36:18.974691500Z",
     "start_time": "2023-11-17T16:36:17.849925Z"
    }
   },
   "id": "d55e44cca6f232b4"
  },
  {
   "cell_type": "code",
   "execution_count": 57,
   "outputs": [
    {
     "name": "stdout",
     "output_type": "stream",
     "text": [
      "nan\n",
      "['GTTT', 'CTTT', 'TTAT', 'TTTG']\n"
     ]
    }
   ],
   "source": [
    "# Create an empty dictionary to store the results\n",
    "hf_low = {col: float('nan') for col in sticky_end_df.columns}\n",
    "hf_medium = {col: float('nan') for col in sticky_end_df.columns}\n",
    "hf_high = {col: float('nan') for col in sticky_end_df.columns}\n",
    "hf_ultrahigh = {col: float('nan') for col in sticky_end_df.columns}\n",
    "\n",
    "print(hf_ultrahigh['AAAA'])\n",
    "\n",
    "low = 0.8   #determines the threshold to filter misligations, low means will only check those known misligations > 20% of the time\n",
    "med = 0.9   #medium means will check known misligations that happen >10% of the time\n",
    "high = 0.99 #high means will check misligations that happen >1% of the time\n",
    "ultrahigh = 0.9997\n",
    "\n",
    "# Iterate through columns and find indices where values are greater than 10% of the maximum\n",
    "for column in sticky_end_df.columns:  # Exclude the 'Overhang' column\n",
    "    max_value = sticky_end_df[column].max()\n",
    "    low_threshold = (1 - low) * max_value\n",
    "    medium_threshold = (1 - med) * max_value\n",
    "    high_threshold = (1 - high) * max_value\n",
    "    ultrahigh_threshold = (1 - ultrahigh) * max_value\n",
    "    max_threshold = 0.9 * max_value\n",
    "    \n",
    "    low_indices = sticky_end_df[(sticky_end_df[column] > low_threshold) & (sticky_end_df[column] < max_threshold)].index.tolist()\n",
    "    medium_indices = sticky_end_df[(sticky_end_df[column] > medium_threshold) & (sticky_end_df[column] < max_threshold)].index.tolist()\n",
    "    high_indices = sticky_end_df[(sticky_end_df[column] > high_threshold) & (sticky_end_df[column] < max_threshold)].index.tolist()\n",
    "    ultrahigh_indices = sticky_end_df[(sticky_end_df[column] > ultrahigh_threshold) & (sticky_end_df[column] < max_threshold)].index.tolist()\n",
    "\n",
    "    hf_low[column] = low_indices\n",
    "    hf_medium[column] = medium_indices\n",
    "    hf_high[column] = high_indices\n",
    "    hf_ultrahigh[column] = ultrahigh_indices\n",
    "\n",
    "print(hf_ultrahigh['AAAA'])"
   ],
   "metadata": {
    "collapsed": false,
    "ExecuteTime": {
     "end_time": "2023-11-20T04:39:50.024744500Z",
     "start_time": "2023-11-20T04:39:49.592896Z"
    }
   },
   "id": "997142003be78c5c"
  },
  {
   "cell_type": "code",
   "execution_count": 58,
   "outputs": [],
   "source": [
    "combined_dict = {\"high\": hf_high, \"medium\": hf_medium, \"low\": hf_low, \"ultrahigh\": hf_ultrahigh}\n",
    "\n",
    "# Write the combined dictionary to the file in JSON format\n",
    "with open(sticky_end_output_file, \"w\") as json_file:\n",
    "    json.dump(combined_dict, json_file)"
   ],
   "metadata": {
    "collapsed": false,
    "ExecuteTime": {
     "end_time": "2023-11-20T04:39:50.682428100Z",
     "start_time": "2023-11-20T04:39:50.650421400Z"
    }
   },
   "id": "c4ba0d1b8e0e6900"
  },
  {
   "cell_type": "code",
   "execution_count": 59,
   "outputs": [
    {
     "name": "stdout",
     "output_type": "stream",
     "text": [
      "['GCGC']\n"
     ]
    }
   ],
   "source": [
    "df = pd.read_json(sticky_end_output_file)\n",
    "print(df[\"low\"]['GCGT'])"
   ],
   "metadata": {
    "collapsed": false,
    "ExecuteTime": {
     "end_time": "2023-11-20T04:39:51.965985200Z",
     "start_time": "2023-11-20T04:39:51.937975300Z"
    }
   },
   "id": "f993f32fc55bc01d"
  },
  {
   "cell_type": "code",
   "execution_count": 56,
   "outputs": [
    {
     "data": {
      "text/plain": "'AAAA'"
     },
     "execution_count": 56,
     "metadata": {},
     "output_type": "execute_result"
    }
   ],
   "source": [
    "sticky_end_df.columns[0]"
   ],
   "metadata": {
    "collapsed": false,
    "ExecuteTime": {
     "end_time": "2023-11-20T04:39:12.861980Z",
     "start_time": "2023-11-20T04:39:12.836981900Z"
    }
   },
   "id": "1fd9f35f7dfc770b"
  },
  {
   "cell_type": "code",
   "execution_count": null,
   "outputs": [],
   "source": [],
   "metadata": {
    "collapsed": false
   },
   "id": "39a82206344cc66d"
  }
 ],
 "metadata": {
  "kernelspec": {
   "display_name": "Python 3",
   "language": "python",
   "name": "python3"
  },
  "language_info": {
   "codemirror_mode": {
    "name": "ipython",
    "version": 2
   },
   "file_extension": ".py",
   "mimetype": "text/x-python",
   "name": "python",
   "nbconvert_exporter": "python",
   "pygments_lexer": "ipython2",
   "version": "2.7.6"
  }
 },
 "nbformat": 4,
 "nbformat_minor": 5
}
