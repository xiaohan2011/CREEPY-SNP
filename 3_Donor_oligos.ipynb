{
 "cells": [
  {
   "cell_type": "code",
   "execution_count": 7,
   "metadata": {
    "collapsed": true,
    "pycharm": {
     "name": "#%%\n"
    }
   },
   "outputs": [],
   "source": [
    "from Bio.Seq import Seq\n",
    "from Bio import SeqIO\n",
    "import pandas as pd\n",
    "import os"
   ]
  },
  {
   "cell_type": "code",
   "execution_count": 50,
   "outputs": [],
   "source": [
    "\"\"\"\n",
    "Input for the code:\n",
    "    $ A fasta file containing your DNA sequence that you want to edit with gRNAs (eg. pXW487, in fasta format)\n",
    "    $ A text file containing:\n",
    "         gRNA sequences\n",
    "         PAM sequences\n",
    "\n",
    "Output:\n",
    "    $ Oligos that make the donor DNA to replace gRNA to a common placeholder\n",
    "\"\"\"\n",
    "\n",
    "SEQ_FILENAME = \"pXW487.fasta\"\n",
    "gRNA_FILENAME = \"grna_pam_strand.txt\"\n",
    "Oligo_FILENAME = \"Donor_oligos.txt\"\n",
    "\n",
    "desktop = os.path.expanduser(\"~/Desktop\")\n",
    "\n",
    "seq_file_path = desktop + '/' + SEQ_FILENAME\n",
    "gRNA_file_path = desktop + '/' + gRNA_FILENAME\n",
    "oligo_file_path = desktop + '/' + Oligo_FILENAME"
   ],
   "metadata": {
    "collapsed": false,
    "pycharm": {
     "name": "#%%\n"
    }
   }
  },
  {
   "cell_type": "code",
   "execution_count": 51,
   "outputs": [],
   "source": [
    "# Load the fasta sequence from the file\n",
    "def load_fasta_sequence(file_path):\n",
    "    with open(file_path, \"r\") as handle:\n",
    "        for record in SeqIO.parse(handle, \"fasta\"):\n",
    "            return record.seq"
   ],
   "metadata": {
    "collapsed": false,
    "pycharm": {
     "name": "#%%\n"
    }
   }
  },
  {
   "cell_type": "code",
   "execution_count": 52,
   "outputs": [
    {
     "data": {
      "text/plain": "           SNP                  gRNA  PAM  PAM_pos strand\n0  rs10774035   CCCCTTGCAACATCTCAAAG  CGG    82431      -\n1   rs10774036  CAATTTTTGGTGAGCGGTTA  TGG   100699      -\n2   rs10744560  CTCAGCACGATGAGTGAGAC  TGG   100850      -\n3   rs12311439  ACTCTGCTGTGCCGCAGAGC  TGG   108536      +\n4    rs1024582  GTATTATTTGGTTGTTCACG  GGG   116001      +\n5    rs4298967  AGGCTGAACGGAGCTAGTGA  GGG   121942      +",
      "text/html": "<div>\n<style scoped>\n    .dataframe tbody tr th:only-of-type {\n        vertical-align: middle;\n    }\n\n    .dataframe tbody tr th {\n        vertical-align: top;\n    }\n\n    .dataframe thead th {\n        text-align: right;\n    }\n</style>\n<table border=\"1\" class=\"dataframe\">\n  <thead>\n    <tr style=\"text-align: right;\">\n      <th></th>\n      <th>SNP</th>\n      <th>gRNA</th>\n      <th>PAM</th>\n      <th>PAM_pos</th>\n      <th>strand</th>\n    </tr>\n  </thead>\n  <tbody>\n    <tr>\n      <th>0</th>\n      <td>rs10774035</td>\n      <td>CCCCTTGCAACATCTCAAAG</td>\n      <td>CGG</td>\n      <td>82431</td>\n      <td>-</td>\n    </tr>\n    <tr>\n      <th>1</th>\n      <td>rs10774036</td>\n      <td>CAATTTTTGGTGAGCGGTTA</td>\n      <td>TGG</td>\n      <td>100699</td>\n      <td>-</td>\n    </tr>\n    <tr>\n      <th>2</th>\n      <td>rs10744560</td>\n      <td>CTCAGCACGATGAGTGAGAC</td>\n      <td>TGG</td>\n      <td>100850</td>\n      <td>-</td>\n    </tr>\n    <tr>\n      <th>3</th>\n      <td>rs12311439</td>\n      <td>ACTCTGCTGTGCCGCAGAGC</td>\n      <td>TGG</td>\n      <td>108536</td>\n      <td>+</td>\n    </tr>\n    <tr>\n      <th>4</th>\n      <td>rs1024582</td>\n      <td>GTATTATTTGGTTGTTCACG</td>\n      <td>GGG</td>\n      <td>116001</td>\n      <td>+</td>\n    </tr>\n    <tr>\n      <th>5</th>\n      <td>rs4298967</td>\n      <td>AGGCTGAACGGAGCTAGTGA</td>\n      <td>GGG</td>\n      <td>121942</td>\n      <td>+</td>\n    </tr>\n  </tbody>\n</table>\n</div>"
     },
     "execution_count": 52,
     "metadata": {},
     "output_type": "execute_result"
    }
   ],
   "source": [
    "\n",
    "my_sequence = load_fasta_sequence(seq_file_path)\n",
    "\n",
    "gRNA_df = pd.read_csv(gRNA_file_path, sep='\\t')\n",
    "gRNA_df"
   ],
   "metadata": {
    "collapsed": false,
    "pycharm": {
     "name": "#%%\n"
    }
   }
  },
  {
   "cell_type": "code",
   "execution_count": 53,
   "outputs": [],
   "source": [
    "placeholder = \"CCTCTTAGACGAAGGAAGTGTGG\"\n",
    "placeholder_rc = Seq(placeholder).reverse_complement()"
   ],
   "metadata": {
    "collapsed": false,
    "pycharm": {
     "name": "#%%\n"
    }
   }
  },
  {
   "cell_type": "code",
   "execution_count": 54,
   "outputs": [],
   "source": [
    "gRNA_df[\"gRNA+PAM\"] = gRNA_df[\"gRNA\"] + gRNA_df[\"PAM\"]"
   ],
   "metadata": {
    "collapsed": false,
    "pycharm": {
     "name": "#%%\n"
    }
   }
  },
  {
   "cell_type": "code",
   "execution_count": 55,
   "outputs": [],
   "source": [
    "# Lists to store the two DNA sequences for each SNP\n",
    "Fwd_oligos = []\n",
    "Rev_oligos = []\n",
    "\n",
    "for index, row in gRNA_df.iterrows():\n",
    "    gRNA_PAM = Seq((row[\"gRNA\"] + row[\"PAM\"]).replace(\" \", \"\"))\n",
    "\n",
    "    # Find the position of gRNA_PAM in  my_sequence\n",
    "    gRNA_pam_pos = my_sequence.find(gRNA_PAM)\n",
    "    gRNA_pam_pos_rc = my_sequence.find(gRNA_PAM.reverse_complement())\n",
    "\n",
    "    if gRNA_pam_pos != -1:\n",
    "        # Extract the first DNA sequence (2a)\n",
    "        sequence_2a = my_sequence[gRNA_pam_pos - 37: gRNA_pam_pos] + placeholder\n",
    "        Fwd_oligos.append(str(sequence_2a))\n",
    "\n",
    "        # Extract the second DNA sequence (2b)\n",
    "        downstream_start = gRNA_pam_pos + len(gRNA_PAM)\n",
    "        sequence_2b = Seq(my_sequence[downstream_start: downstream_start + 37]).reverse_complement() + placeholder_rc\n",
    "        Rev_oligos.append(str(sequence_2b))\n",
    "\n",
    "    elif gRNA_pam_pos_rc != -1:\n",
    "        # Extract the first DNA sequence (2a)\n",
    "        sequence_2a = my_sequence[gRNA_pam_pos_rc - 37: gRNA_pam_pos_rc] + placeholder\n",
    "        Fwd_oligos.append(str(sequence_2a))\n",
    "\n",
    "        # Extract the second DNA sequence (2b)\n",
    "        downstream_start = gRNA_pam_pos_rc + len(gRNA_PAM)\n",
    "        sequence_2b = Seq(my_sequence[downstream_start: downstream_start + 37]).reverse_complement() + placeholder_rc\n",
    "        Rev_oligos.append(str(sequence_2b))\n",
    "\n",
    "    else:\n",
    "        Fwd_oligos.append(\"Not found\")\n",
    "        Rev_oligos.append(\"Not found\")\n",
    "\n",
    "# Add the sequences as new columns in the DataFrame\n",
    "gRNA_df[\"Fwd_primers\"] = Fwd_oligos\n",
    "gRNA_df[\"Rev_primers\"] = Rev_oligos\n",
    "\n",
    "# Print the updated DataFrame\n",
    "gRNA_df.to_csv(oligo_file_path,sep=\"\\t\")\n",
    "print(\"Data saved to\", oligo_file_path)"
   ],
   "metadata": {
    "collapsed": false,
    "pycharm": {
     "name": "#%%\n"
    }
   }
  },
  {
   "cell_type": "code",
   "execution_count": null,
   "outputs": [],
   "source": [],
   "metadata": {
    "collapsed": false,
    "pycharm": {
     "name": "#%%\n"
    }
   }
  }
 ],
 "metadata": {
  "kernelspec": {
   "display_name": "Python 3",
   "language": "python",
   "name": "python3"
  },
  "language_info": {
   "codemirror_mode": {
    "name": "ipython",
    "version": 2
   },
   "file_extension": ".py",
   "mimetype": "text/x-python",
   "name": "python",
   "nbconvert_exporter": "python",
   "pygments_lexer": "ipython2",
   "version": "2.7.6"
  }
 },
 "nbformat": 4,
 "nbformat_minor": 0
}