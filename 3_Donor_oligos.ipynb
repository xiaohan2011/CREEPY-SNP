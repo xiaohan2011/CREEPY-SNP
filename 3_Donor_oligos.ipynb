{
 "cells": [
  {
   "cell_type": "code",
   "execution_count": 27,
   "metadata": {
    "collapsed": true,
    "pycharm": {
     "name": "#%%\n"
    },
    "ExecuteTime": {
     "end_time": "2023-08-11T18:42:02.675517Z",
     "start_time": "2023-08-11T18:42:02.660490600Z"
    }
   },
   "outputs": [],
   "source": [
    "from Bio.Seq import Seq\n",
    "from Bio import SeqIO\n",
    "import pandas as pd\n",
    "import os"
   ]
  },
  {
   "cell_type": "code",
   "execution_count": 28,
   "outputs": [],
   "source": [
    "\"\"\"\n",
    "Input for the code:\n",
    "    $ A fasta file containing your DNA sequence that you want to edit with gRNAs (eg. pXW487, in fasta format)\n",
    "    $ A text file containing:\n",
    "         gRNA sequences\n",
    "         PAM sequences\n",
    "\n",
    "Output:\n",
    "    $ Oligos that make the donor DNA to replace gRNA to a common placeholder\n",
    "\"\"\"\n",
    "\n",
    "SEQ_FILENAME = \"pXW487.fasta\"\n",
    "gRNA_FILENAME = \"gRNA_PAM_pXW487.txt\"\n",
    "Oligo_FILENAME = \"Donor_oligos_2023_08_10.txt\"\n",
    "\n",
    "desktop = os.path.expanduser(\"~/Desktop\")\n",
    "\n",
    "seq_file_path = desktop + '/' + SEQ_FILENAME\n",
    "gRNA_file_path = desktop + '/' + gRNA_FILENAME\n",
    "oligo_file_path = desktop + '/' + Oligo_FILENAME"
   ],
   "metadata": {
    "collapsed": false,
    "pycharm": {
     "name": "#%%\n"
    },
    "ExecuteTime": {
     "end_time": "2023-08-11T18:42:03.026953500Z",
     "start_time": "2023-08-11T18:42:03.007952600Z"
    }
   }
  },
  {
   "cell_type": "code",
   "execution_count": 29,
   "outputs": [],
   "source": [
    "# Load the fasta sequence from the file\n",
    "def load_fasta_sequence(file_path):\n",
    "    with open(file_path, \"r\") as handle:\n",
    "        for record in SeqIO.parse(handle, \"fasta\"):\n",
    "            return record.seq.upper()"
   ],
   "metadata": {
    "collapsed": false,
    "pycharm": {
     "name": "#%%\n"
    },
    "ExecuteTime": {
     "end_time": "2023-08-11T18:42:03.417044200Z",
     "start_time": "2023-08-11T18:42:03.403038600Z"
    }
   }
  },
  {
   "cell_type": "code",
   "execution_count": 34,
   "outputs": [
    {
     "data": {
      "text/plain": "          SNP                                               gRNA  PAM  \\\n0  rs10774035  (C, C, C, C, T, T, G, C, A, A, C, A, T, C, T, ...  CGG   \n1  rs10774036  (C, A, A, T, T, T, T, T, G, G, T, G, A, G, C, ...  TGG   \n2  rs10744560  (C, T, C, A, G, C, A, C, G, A, T, G, A, G, T, ...  TGG   \n3  rs12311439  (A, C, T, C, T, G, C, T, G, T, G, C, C, G, C, ...  TGG   \n4   rs1024582  (G, T, A, T, T, A, T, T, T, G, G, T, T, G, T, ...  GGG   \n5   rs4298967  (A, G, G, C, T, G, A, A, C, G, G, A, G, C, T, ...  GGG   \n\n   PAM_pos strand  \n0    82431      -  \n1   100699      -  \n2   100850      -  \n3   108536      +  \n4   116001      +  \n5   121942      +  ",
      "text/html": "<div>\n<style scoped>\n    .dataframe tbody tr th:only-of-type {\n        vertical-align: middle;\n    }\n\n    .dataframe tbody tr th {\n        vertical-align: top;\n    }\n\n    .dataframe thead th {\n        text-align: right;\n    }\n</style>\n<table border=\"1\" class=\"dataframe\">\n  <thead>\n    <tr style=\"text-align: right;\">\n      <th></th>\n      <th>SNP</th>\n      <th>gRNA</th>\n      <th>PAM</th>\n      <th>PAM_pos</th>\n      <th>strand</th>\n    </tr>\n  </thead>\n  <tbody>\n    <tr>\n      <th>0</th>\n      <td>rs10774035</td>\n      <td>(C, C, C, C, T, T, G, C, A, A, C, A, T, C, T, ...</td>\n      <td>CGG</td>\n      <td>82431</td>\n      <td>-</td>\n    </tr>\n    <tr>\n      <th>1</th>\n      <td>rs10774036</td>\n      <td>(C, A, A, T, T, T, T, T, G, G, T, G, A, G, C, ...</td>\n      <td>TGG</td>\n      <td>100699</td>\n      <td>-</td>\n    </tr>\n    <tr>\n      <th>2</th>\n      <td>rs10744560</td>\n      <td>(C, T, C, A, G, C, A, C, G, A, T, G, A, G, T, ...</td>\n      <td>TGG</td>\n      <td>100850</td>\n      <td>-</td>\n    </tr>\n    <tr>\n      <th>3</th>\n      <td>rs12311439</td>\n      <td>(A, C, T, C, T, G, C, T, G, T, G, C, C, G, C, ...</td>\n      <td>TGG</td>\n      <td>108536</td>\n      <td>+</td>\n    </tr>\n    <tr>\n      <th>4</th>\n      <td>rs1024582</td>\n      <td>(G, T, A, T, T, A, T, T, T, G, G, T, T, G, T, ...</td>\n      <td>GGG</td>\n      <td>116001</td>\n      <td>+</td>\n    </tr>\n    <tr>\n      <th>5</th>\n      <td>rs4298967</td>\n      <td>(A, G, G, C, T, G, A, A, C, G, G, A, G, C, T, ...</td>\n      <td>GGG</td>\n      <td>121942</td>\n      <td>+</td>\n    </tr>\n  </tbody>\n</table>\n</div>"
     },
     "execution_count": 34,
     "metadata": {},
     "output_type": "execute_result"
    }
   ],
   "source": [
    "\n",
    "my_sequence = load_fasta_sequence(seq_file_path)\n",
    "\n",
    "gRNA_df = pd.read_csv(gRNA_file_path, sep='\\t')\n",
    "gRNA_df[\"gRNA\"] = gRNA_df[\"gRNA\"].apply(lambda seq_str: Seq(seq_str.upper()))\n",
    "\n",
    "gRNA_df"
   ],
   "metadata": {
    "collapsed": false,
    "pycharm": {
     "name": "#%%\n"
    },
    "ExecuteTime": {
     "end_time": "2023-08-11T18:56:00.603581700Z",
     "start_time": "2023-08-11T18:56:00.556695200Z"
    }
   }
  },
  {
   "cell_type": "code",
   "execution_count": 35,
   "outputs": [],
   "source": [
    "placeholder = Seq(\"CCTCTTAGACGAAGGAAGTGTGG\")\n",
    "placeholder_rc = placeholder.reverse_complement()"
   ],
   "metadata": {
    "collapsed": false,
    "pycharm": {
     "name": "#%%\n"
    },
    "ExecuteTime": {
     "end_time": "2023-08-11T18:56:31.406076700Z",
     "start_time": "2023-08-11T18:56:31.374808600Z"
    }
   }
  },
  {
   "cell_type": "code",
   "execution_count": 36,
   "outputs": [],
   "source": [
    "gRNA_df[\"gRNA+PAM\"] = gRNA_df[\"gRNA\"] + gRNA_df[\"PAM\"]"
   ],
   "metadata": {
    "collapsed": false,
    "pycharm": {
     "name": "#%%\n"
    },
    "ExecuteTime": {
     "end_time": "2023-08-11T18:56:33.064148Z",
     "start_time": "2023-08-11T18:56:33.032875300Z"
    }
   }
  },
  {
   "cell_type": "code",
   "execution_count": 39,
   "outputs": [
    {
     "name": "stdout",
     "output_type": "stream",
     "text": [
      "Data saved to C:\\Users\\wxh02/Desktop/Donor_oligos_2023_08_10.txt\n"
     ]
    }
   ],
   "source": [
    "# Lists to store the two DNA sequences for each SNP\n",
    "Fwd_oligos = []\n",
    "Rev_oligos = []\n",
    "\n",
    "for index, row in gRNA_df.iterrows():\n",
    "    gRNA_PAM = Seq((row[\"gRNA\"] + row[\"PAM\"]).replace(\" \", \"\"))\n",
    "\n",
    "    # Find the position of gRNA_PAM in  my_sequence\n",
    "    gRNA_pam_pos = my_sequence.find(gRNA_PAM)\n",
    "    gRNA_pam_pos_rc = my_sequence.find(gRNA_PAM.reverse_complement())\n",
    "\n",
    "    if gRNA_pam_pos != -1:\n",
    "        # Extract the first DNA sequence (2a)\n",
    "        sequence_2a = my_sequence[gRNA_pam_pos - 37: gRNA_pam_pos] + placeholder\n",
    "        Fwd_oligos.append(str(sequence_2a))\n",
    "\n",
    "        # Extract the second DNA sequence (2b)\n",
    "        downstream_start = gRNA_pam_pos + len(gRNA_PAM)\n",
    "        sequence_2b = Seq(my_sequence[downstream_start: downstream_start + 37]).reverse_complement() + placeholder_rc\n",
    "        Rev_oligos.append(str(sequence_2b))\n",
    "\n",
    "    elif gRNA_pam_pos_rc != -1:\n",
    "        # Extract the first DNA sequence (2a)\n",
    "        sequence_2a = my_sequence[gRNA_pam_pos_rc - 37: gRNA_pam_pos_rc] + placeholder\n",
    "        Fwd_oligos.append(str(sequence_2a))\n",
    "\n",
    "        # Extract the second DNA sequence (2b)\n",
    "        downstream_start = gRNA_pam_pos_rc + len(gRNA_PAM)\n",
    "        sequence_2b = Seq(my_sequence[downstream_start: downstream_start + 37]).reverse_complement() + placeholder_rc\n",
    "        Rev_oligos.append(str(sequence_2b))\n",
    "\n",
    "    else:\n",
    "        Fwd_oligos.append(\"Not found\")\n",
    "        Rev_oligos.append(\"Not found\")\n",
    "\n",
    "# Add the sequences as new columns in the DataFrame\n",
    "gRNA_df[\"Fwd_primers\"] = Fwd_oligos\n",
    "gRNA_df[\"Rev_primers\"] = Rev_oligos\n",
    "\n",
    "try:\n",
    "    gRNA_df[\"Fwd_primer_names\"] = gRNA_df[\"SNP\"] + \"_F\"\n",
    "    gRNA_df[\"Rev_primer_names\"] = gRNA_df[\"SNP\"] + \"_R\"\n",
    "except pd.errors.EmptyDataError:\n",
    "    pass\n",
    "\n",
    "# Print the updated DataFrame\n",
    "gRNA_df.to_csv(oligo_file_path,sep=\"\\t\")\n",
    "print(\"Data saved to\", oligo_file_path)"
   ],
   "metadata": {
    "collapsed": false,
    "pycharm": {
     "name": "#%%\n"
    },
    "ExecuteTime": {
     "end_time": "2023-08-11T19:08:20.855266200Z",
     "start_time": "2023-08-11T19:08:20.825262200Z"
    }
   }
  },
  {
   "cell_type": "code",
   "execution_count": null,
   "outputs": [],
   "source": [],
   "metadata": {
    "collapsed": false,
    "pycharm": {
     "name": "#%%\n"
    }
   }
  }
 ],
 "metadata": {
  "kernelspec": {
   "display_name": "Python 3",
   "language": "python",
   "name": "python3"
  },
  "language_info": {
   "codemirror_mode": {
    "name": "ipython",
    "version": 2
   },
   "file_extension": ".py",
   "mimetype": "text/x-python",
   "name": "python",
   "nbconvert_exporter": "python",
   "pygments_lexer": "ipython2",
   "version": "2.7.6"
  }
 },
 "nbformat": 4,
 "nbformat_minor": 0
}
