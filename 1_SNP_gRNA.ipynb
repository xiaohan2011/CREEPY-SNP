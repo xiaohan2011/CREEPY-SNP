{
 "cells": [
  {
   "cell_type": "code",
   "execution_count": 33,
   "metadata": {
    "collapsed": true,
    "pycharm": {
     "name": "#%%\n"
    },
    "ExecuteTime": {
     "end_time": "2023-10-27T13:40:38.061539600Z",
     "start_time": "2023-10-27T13:40:38.061539600Z"
    }
   },
   "outputs": [],
   "source": [
    "import os\n",
    "from Bio import SeqIO\n",
    "from Bio.Seq import Seq\n",
    "import pandas as pd\n",
    "import re\n",
    "import datetime"
   ]
  },
  {
   "cell_type": "code",
   "execution_count": 39,
   "outputs": [
    {
     "data": {
      "text/plain": "'\\nInput:\\n    $ A fasta file containing your DNA sequence that you want to edit with gRNAs (eg. pXW487, in fasta format)\\n    $ A text file containing two columns (no header),\\n        one for SNP names (eg rs21062170),\\n        the other for the corresponding SNP locations (the number should point to the SNPs in the fasta file)\\n\\nOutput:\\n    $ A text file containing 5 columns: SNP, gRNA, PAM, PAM_pos, strand\\n    The code designs gRNAs that target around the SNPs and make the closest cut possible near the SNPs\\n'"
     },
     "execution_count": 39,
     "metadata": {},
     "output_type": "execute_result"
    }
   ],
   "source": [
    "\"\"\"\n",
    "Input:\n",
    "    $ A fasta file containing your DNA sequence that you want to edit with gRNAs (eg. pXW487, in fasta format)\n",
    "    $ A text file containing two columns (no header),\n",
    "        one for SNP names (eg rs21062170),\n",
    "        the other for the corresponding SNP locations (the number should point to the SNPs in the fasta file)\n",
    "\n",
    "Output:\n",
    "    $ A text file containing 5 columns: SNP, gRNA, PAM, PAM_pos, strand\n",
    "    The code designs gRNAs that target around the SNPs and make the closest cut possible near the SNPs\n",
    "\"\"\"\n"
   ],
   "metadata": {
    "collapsed": false,
    "ExecuteTime": {
     "end_time": "2023-10-27T13:46:11.564299900Z",
     "start_time": "2023-10-27T13:46:11.548665500Z"
    }
   }
  },
  {
   "cell_type": "code",
   "execution_count": 39,
   "outputs": [],
   "source": [],
   "metadata": {
    "collapsed": false,
    "ExecuteTime": {
     "end_time": "2023-10-27T13:46:14.793014300Z",
     "start_time": "2023-10-27T13:46:14.769991400Z"
    }
   }
  },
  {
   "cell_type": "code",
   "execution_count": 40,
   "outputs": [],
   "source": [
    "current_datetime = datetime.datetime.now()\n",
    "date_time_str = current_datetime.strftime(\"%Y-%m-%d_%H-%M-%S\")\n",
    "\n",
    "SEQ_FILENAME = 'pXW470.fa'\n",
    "SNP_FILENAME = 'SNP_pXW470.txt'\n",
    "OUTPUT_FILENAME = SEQ_FILENAME.split(\".\")[0] + \"_gRNA_\" + date_time_str + \".txt\"\n",
    "    \n",
    "desktop = os.path.expanduser(\"~/Desktop\")\n",
    "seq_file_path = desktop + '/' + SEQ_FILENAME\n",
    "snp_file_path = desktop + '/' + SNP_FILENAME\n",
    "output_file_path = desktop + '/' + OUTPUT_FILENAME"
   ],
   "metadata": {
    "collapsed": false,
    "ExecuteTime": {
     "end_time": "2023-10-27T13:46:45.963889Z",
     "start_time": "2023-10-27T13:46:45.917006Z"
    }
   }
  },
  {
   "cell_type": "code",
   "execution_count": 41,
   "outputs": [],
   "source": [
    "# Load the fasta sequence from the file\n",
    "def load_fasta_sequence(file_path):\n",
    "    with open(file_path, \"r\") as handle:\n",
    "        for record in SeqIO.parse(handle, \"fasta\"):\n",
    "            return str(record.seq).upper()"
   ],
   "metadata": {
    "collapsed": false,
    "pycharm": {
     "name": "#%%\n"
    },
    "ExecuteTime": {
     "end_time": "2023-10-27T13:46:46.847084300Z",
     "start_time": "2023-10-27T13:46:46.818765200Z"
    }
   }
  },
  {
   "cell_type": "code",
   "execution_count": 42,
   "outputs": [],
   "source": [
    "my_sequence = load_fasta_sequence(seq_file_path)"
   ],
   "metadata": {
    "collapsed": false,
    "pycharm": {
     "name": "#%%\n"
    },
    "ExecuteTime": {
     "end_time": "2023-10-27T13:46:47.357326600Z",
     "start_time": "2023-10-27T13:46:47.333322200Z"
    }
   }
  },
  {
   "cell_type": "code",
   "execution_count": 43,
   "outputs": [],
   "source": [
    "# Load the SNP file\n",
    "def load_snps(file_path):\n",
    "    df = pd.read_csv(file_path, header=None, sep=\"[ \\t]+\").dropna(axis=1, how='all') \n",
    "    if df.shape[1] != 2:\n",
    "        print(\"Error: column number is not 2\")\n",
    "    else:\n",
    "        if ('rs' or 'Rs') in df[0].iloc[0] or int(df.iloc[0,1].replace(\",\", \"\")):\n",
    "            df.columns = ['SNP', 'loc']\n",
    "        else:\n",
    "            df.columns = ['loc', 'SNP']\n",
    "    if isinstance(df[\"loc\"].iloc[0], str):\n",
    "        df[\"loc\"] = df[\"loc\"].str.replace(\",\", \"\").astype(int)\n",
    "    return df"
   ],
   "metadata": {
    "collapsed": false,
    "pycharm": {
     "name": "#%%\n"
    },
    "ExecuteTime": {
     "end_time": "2023-10-27T13:46:47.822532200Z",
     "start_time": "2023-10-27T13:46:47.798513800Z"
    }
   }
  },
  {
   "cell_type": "code",
   "execution_count": 44,
   "outputs": [
    {
     "name": "stderr",
     "output_type": "stream",
     "text": [
      "C:\\Users\\wxh02\\AppData\\Local\\Temp\\ipykernel_5784\\2774996437.py:3: ParserWarning: Falling back to the 'python' engine because the 'c' engine does not support regex separators (separators > 1 char and different from '\\s+' are interpreted as regex); you can avoid this warning by specifying engine='python'.\n",
      "  df = pd.read_csv(file_path, header=None, sep=\"[ \\t]+\").dropna(axis=1, how='all')\n"
     ]
    },
    {
     "data": {
      "text/plain": "            SNP     loc\n0     rs2239017    2430\n1      rs758171    7042\n2    rs71441679    9473\n3    rs35848523   10310\n4     rs2238049   18910\n5     rs2238050   19489\n6     rs2238051   19957\n7     rs1860056   24618\n8    rs12423277   27101\n9     rs1016388   34650\n10    rs7957545   36824\n11    rs2238056   40726\n12    rs3829331   52032\n13  rs882194_95   63211\n14     rs882193   63402\n15    rs2370413   67652\n16    rs2239037   76498\n17    rs4765911   78986\n18    rs1860002  126885",
      "text/html": "<div>\n<style scoped>\n    .dataframe tbody tr th:only-of-type {\n        vertical-align: middle;\n    }\n\n    .dataframe tbody tr th {\n        vertical-align: top;\n    }\n\n    .dataframe thead th {\n        text-align: right;\n    }\n</style>\n<table border=\"1\" class=\"dataframe\">\n  <thead>\n    <tr style=\"text-align: right;\">\n      <th></th>\n      <th>SNP</th>\n      <th>loc</th>\n    </tr>\n  </thead>\n  <tbody>\n    <tr>\n      <th>0</th>\n      <td>rs2239017</td>\n      <td>2430</td>\n    </tr>\n    <tr>\n      <th>1</th>\n      <td>rs758171</td>\n      <td>7042</td>\n    </tr>\n    <tr>\n      <th>2</th>\n      <td>rs71441679</td>\n      <td>9473</td>\n    </tr>\n    <tr>\n      <th>3</th>\n      <td>rs35848523</td>\n      <td>10310</td>\n    </tr>\n    <tr>\n      <th>4</th>\n      <td>rs2238049</td>\n      <td>18910</td>\n    </tr>\n    <tr>\n      <th>5</th>\n      <td>rs2238050</td>\n      <td>19489</td>\n    </tr>\n    <tr>\n      <th>6</th>\n      <td>rs2238051</td>\n      <td>19957</td>\n    </tr>\n    <tr>\n      <th>7</th>\n      <td>rs1860056</td>\n      <td>24618</td>\n    </tr>\n    <tr>\n      <th>8</th>\n      <td>rs12423277</td>\n      <td>27101</td>\n    </tr>\n    <tr>\n      <th>9</th>\n      <td>rs1016388</td>\n      <td>34650</td>\n    </tr>\n    <tr>\n      <th>10</th>\n      <td>rs7957545</td>\n      <td>36824</td>\n    </tr>\n    <tr>\n      <th>11</th>\n      <td>rs2238056</td>\n      <td>40726</td>\n    </tr>\n    <tr>\n      <th>12</th>\n      <td>rs3829331</td>\n      <td>52032</td>\n    </tr>\n    <tr>\n      <th>13</th>\n      <td>rs882194_95</td>\n      <td>63211</td>\n    </tr>\n    <tr>\n      <th>14</th>\n      <td>rs882193</td>\n      <td>63402</td>\n    </tr>\n    <tr>\n      <th>15</th>\n      <td>rs2370413</td>\n      <td>67652</td>\n    </tr>\n    <tr>\n      <th>16</th>\n      <td>rs2239037</td>\n      <td>76498</td>\n    </tr>\n    <tr>\n      <th>17</th>\n      <td>rs4765911</td>\n      <td>78986</td>\n    </tr>\n    <tr>\n      <th>18</th>\n      <td>rs1860002</td>\n      <td>126885</td>\n    </tr>\n  </tbody>\n</table>\n</div>"
     },
     "execution_count": 44,
     "metadata": {},
     "output_type": "execute_result"
    }
   ],
   "source": [
    "snp_df = load_snps(snp_file_path)\n",
    "snp_df"
   ],
   "metadata": {
    "collapsed": false,
    "pycharm": {
     "name": "#%%\n"
    },
    "ExecuteTime": {
     "end_time": "2023-10-27T13:46:48.258215400Z",
     "start_time": "2023-10-27T13:46:48.211335Z"
    }
   }
  },
  {
   "cell_type": "code",
   "execution_count": 45,
   "outputs": [],
   "source": [
    "def find_nearest_pam(sequence, snp_pos, neighbor_window=50):\n",
    "    neighbor_seq = sequence[snp_pos - neighbor_window:snp_pos + neighbor_window]\n",
    "    distances_to_50 = []\n",
    "\n",
    "    pam_patterns = [re.compile(\"(?=GG)\"), re.compile(\"(?=CC)\")]\n",
    "    strand_labels = ['+', '-']\n",
    "\n",
    "    for pam_pattern, strand_label in zip(pam_patterns, strand_labels):\n",
    "        for match in pam_pattern.finditer(neighbor_seq):\n",
    "            if strand_label == \"+\":\n",
    "                pam_pos = match.start() - 1\n",
    "                cut_site_pos = pam_pos - 3\n",
    "            else:\n",
    "                pam_pos = match.start()\n",
    "                cut_site_pos = pam_pos + 6\n",
    "            distance_to_50 = abs(cut_site_pos - 50)\n",
    "            distances_to_50.append((distance_to_50, pam_pos, strand_label))\n",
    "\n",
    "    distances_to_50.sort(key=lambda x: x[0])  # Sort by distance\n",
    "\n",
    "    closest_distance_to_50, closest_pam_pos, closest_strand = distances_to_50[0]\n",
    "\n",
    "    if closest_strand == '+':\n",
    "        closest_gRNA_sequence = neighbor_seq[closest_pam_pos - 20: closest_pam_pos]\n",
    "        closest_pam_seq = neighbor_seq[closest_pam_pos:closest_pam_pos + 3]\n",
    "    else:\n",
    "        closest_gRNA_sequence = str(Seq(neighbor_seq[closest_pam_pos + 3: closest_pam_pos + 23]).reverse_complement())\n",
    "        closest_pam_seq = str(Seq(neighbor_seq[closest_pam_pos:closest_pam_pos + 3]).reverse_complement())\n",
    "\n",
    "    pam_global_pos = snp_pos - 50 + closest_pam_pos\n",
    "\n",
    "    print(\"Closest NGG or CCN Position:\", closest_pam_pos )\n",
    "    print(\"Closest Distance to Cut Site (3 nt upstream of PAM) from SNP:\", closest_distance_to_50)\n",
    "    print(\"Closest gRNA Sequence:\", closest_gRNA_sequence)\n",
    "    print(\"closest PAM\", closest_pam_seq)\n",
    "    print(\"Closest Strand:\", closest_strand)\n",
    "\n",
    "\n",
    "    return closest_gRNA_sequence, closest_pam_seq, pam_global_pos, closest_strand\n"
   ],
   "metadata": {
    "collapsed": false,
    "pycharm": {
     "name": "#%%\n"
    },
    "ExecuteTime": {
     "end_time": "2023-10-27T13:46:49.105466600Z",
     "start_time": "2023-10-27T13:46:49.088463900Z"
    }
   }
  },
  {
   "cell_type": "code",
   "execution_count": 46,
   "outputs": [
    {
     "name": "stdout",
     "output_type": "stream",
     "text": [
      "\n",
      "rs2239017\n",
      "Closest NGG or CCN Position: 52\n",
      "Closest Distance to Cut Site (3 nt upstream of PAM) from SNP: 1\n",
      "Closest gRNA Sequence: GTGAGTCATTTTGGGAGGAG\n",
      "closest PAM AGG\n",
      "Closest Strand: +\n",
      "\n",
      "rs758171\n",
      "Closest NGG or CCN Position: 49\n",
      "Closest Distance to Cut Site (3 nt upstream of PAM) from SNP: 4\n",
      "Closest gRNA Sequence: CCATGCTGTGGCCAAGCAGC\n",
      "closest PAM GGG\n",
      "Closest Strand: +\n",
      "\n",
      "rs71441679\n",
      "Closest NGG or CCN Position: 50\n",
      "Closest Distance to Cut Site (3 nt upstream of PAM) from SNP: 3\n",
      "Closest gRNA Sequence: AAGGCTGAGCATCTGCGCAG\n",
      "closest PAM TGG\n",
      "Closest Strand: +\n",
      "\n",
      "rs35848523\n",
      "Closest NGG or CCN Position: 55\n",
      "Closest Distance to Cut Site (3 nt upstream of PAM) from SNP: 2\n",
      "Closest gRNA Sequence: TATTCTGATAGATAACTCTA\n",
      "closest PAM TGG\n",
      "Closest Strand: +\n",
      "\n",
      "rs2238049\n",
      "Closest NGG or CCN Position: 55\n",
      "Closest Distance to Cut Site (3 nt upstream of PAM) from SNP: 2\n",
      "Closest gRNA Sequence: CTAGGGCTTCTCAGGTTTTG\n",
      "closest PAM AGG\n",
      "Closest Strand: +\n",
      "\n",
      "rs2238050\n",
      "Closest NGG or CCN Position: 18\n",
      "Closest Distance to Cut Site (3 nt upstream of PAM) from SNP: 26\n",
      "Closest gRNA Sequence: GAAAAATTACTAGCCATAAT\n",
      "closest PAM AGG\n",
      "Closest Strand: -\n",
      "\n",
      "rs2238051\n",
      "Closest NGG or CCN Position: 41\n",
      "Closest Distance to Cut Site (3 nt upstream of PAM) from SNP: 3\n",
      "Closest gRNA Sequence: CCGGTAGTAAAAATTCATTT\n",
      "closest PAM AGG\n",
      "Closest Strand: -\n",
      "\n",
      "rs1860056\n",
      "Closest NGG or CCN Position: 43\n",
      "Closest Distance to Cut Site (3 nt upstream of PAM) from SNP: 1\n",
      "Closest gRNA Sequence: CCCCTTCCTCTTCTCCACTG\n",
      "closest PAM TGG\n",
      "Closest Strand: -\n",
      "\n",
      "rs12423277\n",
      "Closest NGG or CCN Position: 45\n",
      "Closest Distance to Cut Site (3 nt upstream of PAM) from SNP: 1\n",
      "Closest gRNA Sequence: TGGCTTCCTTCTAGAAAGGC\n",
      "closest PAM TGG\n",
      "Closest Strand: -\n",
      "\n",
      "rs1016388\n",
      "Closest NGG or CCN Position: 45\n",
      "Closest Distance to Cut Site (3 nt upstream of PAM) from SNP: 1\n",
      "Closest gRNA Sequence: CACAGAGGAAAGAGGAAGAG\n",
      "closest PAM GGG\n",
      "Closest Strand: -\n",
      "\n",
      "rs7957545\n",
      "Closest NGG or CCN Position: 49\n",
      "Closest Distance to Cut Site (3 nt upstream of PAM) from SNP: 5\n",
      "Closest gRNA Sequence: GACATGGCTGCACATTTTCT\n",
      "closest PAM AGG\n",
      "Closest Strand: -\n",
      "\n",
      "rs2238056\n",
      "Closest NGG or CCN Position: 49\n",
      "Closest Distance to Cut Site (3 nt upstream of PAM) from SNP: 5\n",
      "Closest gRNA Sequence: TGCAACCTGCAACTGATCTG\n",
      "closest PAM AGG\n",
      "Closest Strand: -\n",
      "\n",
      "rs3829331\n",
      "Closest NGG or CCN Position: 54\n",
      "Closest Distance to Cut Site (3 nt upstream of PAM) from SNP: 1\n",
      "Closest gRNA Sequence: CGGAAGGGGAAGAAGGGGCC\n",
      "closest PAM TGG\n",
      "Closest Strand: +\n",
      "\n",
      "rs882194_95\n",
      "Closest NGG or CCN Position: 45\n",
      "Closest Distance to Cut Site (3 nt upstream of PAM) from SNP: 1\n",
      "Closest gRNA Sequence: TGCCTCAGAGAATTTCTCTA\n",
      "closest PAM AGG\n",
      "Closest Strand: -\n",
      "\n",
      "rs882193\n",
      "Closest NGG or CCN Position: 58\n",
      "Closest Distance to Cut Site (3 nt upstream of PAM) from SNP: 5\n",
      "Closest gRNA Sequence: AGCAGAGGAGAGCACGCGTG\n",
      "closest PAM TGG\n",
      "Closest Strand: +\n",
      "\n",
      "rs2370413\n",
      "Closest NGG or CCN Position: 51\n",
      "Closest Distance to Cut Site (3 nt upstream of PAM) from SNP: 2\n",
      "Closest gRNA Sequence: ATCCCTTTGACAGCAAAACC\n",
      "closest PAM TGG\n",
      "Closest Strand: +\n",
      "\n",
      "rs2239037\n",
      "Closest NGG or CCN Position: 51\n",
      "Closest Distance to Cut Site (3 nt upstream of PAM) from SNP: 2\n",
      "Closest gRNA Sequence: GCTGCGGCAAACTGGCACGG\n",
      "closest PAM GGG\n",
      "Closest Strand: +\n",
      "\n",
      "rs4765911\n",
      "Closest NGG or CCN Position: 35\n",
      "Closest Distance to Cut Site (3 nt upstream of PAM) from SNP: 9\n",
      "Closest gRNA Sequence: GGAGGTTATGACTGATCATT\n",
      "closest PAM AGG\n",
      "Closest Strand: -\n",
      "\n",
      "rs1860002\n",
      "Closest NGG or CCN Position: 50\n",
      "Closest Distance to Cut Site (3 nt upstream of PAM) from SNP: 3\n",
      "Closest gRNA Sequence: TCTGTAAAGGCACAGAGAGC\n",
      "closest PAM GGG\n",
      "Closest Strand: +\n",
      "Data saved to C:\\Users\\wxh02/Desktop/pXW470_gRNA_2023-10-27_09-46-45.txt\n"
     ]
    }
   ],
   "source": [
    "gRNAs = []\n",
    "pams = []\n",
    "pam_positions = []\n",
    "strands = []\n",
    "\n",
    "for index, row in snp_df.iterrows():\n",
    "    snp_position = row[\"loc\"]\n",
    "    snp_name = row[\"SNP\"]\n",
    "    print(\"\\n\" + snp_name)\n",
    "    gRNA, pam, pam_global_position, strand = find_nearest_pam(my_sequence,snp_position)\n",
    "    gRNAs.append(gRNA)\n",
    "    pams.append(pam)\n",
    "    pam_positions.append(pam_global_position)\n",
    "    strands.append(strand)\n",
    "\n",
    "# Save the gRNAs, PAMs, and strands in a text file\n",
    "\n",
    "with open(output_file_path, \"w\") as file:\n",
    "    # Write the headers as the first line in the file\n",
    "    file.write(\"SNP\\tgRNA\\tPAM\\tPAM_pos\\tstrand\\n\")\n",
    "\n",
    "    # Write SNP data\n",
    "    for snp_name, gRNA, pam, pam_glo_pos, strand in zip(snp_df[\"SNP\"], gRNAs, pams, pam_positions, strands):\n",
    "        file.write(f\"{snp_name}\\t{gRNA}\\t{pam}\\t{pam_glo_pos}\\t{strand}\\n\")\n",
    "\n",
    "print(\"Data saved to\", output_file_path)"
   ],
   "metadata": {
    "collapsed": false,
    "pycharm": {
     "name": "#%%\n"
    },
    "ExecuteTime": {
     "end_time": "2023-10-27T13:46:49.725620600Z",
     "start_time": "2023-10-27T13:46:49.688600200Z"
    }
   }
  },
  {
   "cell_type": "code",
   "execution_count": null,
   "outputs": [],
   "source": [],
   "metadata": {
    "collapsed": false,
    "pycharm": {
     "name": "#%%\n"
    }
   }
  }
 ],
 "metadata": {
  "kernelspec": {
   "display_name": "Python 3",
   "language": "python",
   "name": "python3"
  },
  "language_info": {
   "codemirror_mode": {
    "name": "ipython",
    "version": 2
   },
   "file_extension": ".py",
   "mimetype": "text/x-python",
   "name": "python",
   "nbconvert_exporter": "python",
   "pygments_lexer": "ipython2",
   "version": "2.7.6"
  }
 },
 "nbformat": 4,
 "nbformat_minor": 0
}
