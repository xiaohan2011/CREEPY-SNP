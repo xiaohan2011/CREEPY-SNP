{
 "cells": [
  {
   "cell_type": "code",
   "metadata": {
    "collapsed": true,
    "pycharm": {
     "name": "#%%\n"
    },
    "is_executing": true,
    "ExecuteTime": {
     "end_time": "2025-02-02T19:16:42.475035Z",
     "start_time": "2025-02-02T19:16:41.097995Z"
    }
   },
   "source": [
    "import os\n",
    "from Bio import SeqIO\n",
    "from Bio.Seq import Seq\n",
    "import pandas as pd\n",
    "import re\n",
    "import datetime"
   ],
   "outputs": [],
   "execution_count": 1
  },
  {
   "cell_type": "code",
   "source": [
    "\"\"\"\n",
    "The code designs gRNAs that target around the SNPs and make the closest cut possible near the SNPs\n",
    "\n",
    "Input:\n",
    "    $ A fasta file containing your DNA sequence that you want to edit with gRNAs (eg. pXW487, in fasta format)\n",
    "    $ A text file containing two columns (no header),\n",
    "        one for SNP names (eg rs21062170),\n",
    "        the other for the corresponding SNP locations (the number should point to the SNPs in the fasta file)\n",
    "\n",
    "Output:\n",
    "    $ A text file containing 5 columns: SNP, gRNA, PAM, PAM_pos, strand\n",
    "\"\"\"\n"
   ],
   "metadata": {},
   "outputs": [],
   "execution_count": null
  },
  {
   "cell_type": "code",
   "source": [
    "current_datetime = datetime.datetime.now()\n",
    "date_time_str = current_datetime.strftime(\"%Y-%m-%d_%H-%M-%S\")\n",
    "folder_name = \"Example_datafiles\"\n",
    "SEQ_FILENAME = 'pXW487.fasta'\n",
    "SNP_FILENAME = 'SNPs.txt'\n",
    "OUTPUT_FILENAME = SEQ_FILENAME.split(\".\")[0] + \"_gRNA_\" + date_time_str + \".txt\"\n",
    "\n",
    "seq_file_path = folder_name + \"/\" + SEQ_FILENAME\n",
    "snp_file_path = folder_name + \"/\" + SNP_FILENAME\n",
    "output_file_path = folder_name + \"/\" + OUTPUT_FILENAME"
   ],
   "metadata": {
    "collapsed": false,
    "ExecuteTime": {
     "end_time": "2025-02-02T20:05:15.560106Z",
     "start_time": "2025-02-02T20:05:15.551045Z"
    }
   },
   "outputs": [
    {
     "data": {
      "text/plain": [
       "'\\ndesktop = os.path.expanduser(\"~/Desktop\")\\nseq_file_path = desktop + \\'/\\' + SEQ_FILENAME\\nsnp_file_path = desktop + \\'/\\' + SNP_FILENAME\\noutput_file_path = desktop + \\'/\\' + OUTPUT_FILENAME\\n'"
      ]
     },
     "execution_count": 21,
     "metadata": {},
     "output_type": "execute_result"
    }
   ],
   "execution_count": 21
  },
  {
   "cell_type": "code",
   "source": [
    "# Load the fasta sequence from the file\n",
    "def load_fasta_sequence(file_path):\n",
    "    with open(file_path, \"r\") as handle:\n",
    "        for record in SeqIO.parse(handle, \"fasta\"):\n",
    "            return str(record.seq).upper()"
   ],
   "metadata": {
    "collapsed": false,
    "pycharm": {
     "name": "#%%\n"
    },
    "ExecuteTime": {
     "end_time": "2025-02-02T20:05:17.874161Z",
     "start_time": "2025-02-02T20:05:17.870083Z"
    }
   },
   "outputs": [],
   "execution_count": 22
  },
  {
   "cell_type": "code",
   "source": "my_sequence = load_fasta_sequence(seq_file_path)",
   "metadata": {
    "collapsed": false,
    "pycharm": {
     "name": "#%%\n"
    },
    "ExecuteTime": {
     "end_time": "2025-02-02T20:05:19.565234Z",
     "start_time": "2025-02-02T20:05:19.560781Z"
    }
   },
   "outputs": [],
   "execution_count": 23
  },
  {
   "cell_type": "code",
   "source": [
    "# Load the SNP file\n",
    "def load_snps(file_path):\n",
    "    df = pd.read_csv(file_path, header=None, sep=\"[ \\t]+\").dropna(axis=1, how='all') \n",
    "    if df.shape[1] != 2:\n",
    "        print(\"Error: column number is not 2\")\n",
    "    else:\n",
    "        if ('rs' or 'Rs') in df[0].iloc[0] or int(df.iloc[0,1].replace(\",\", \"\")):\n",
    "            df.columns = ['SNP', 'loc']\n",
    "        else:\n",
    "            df.columns = ['loc', 'SNP']\n",
    "    if isinstance(df[\"loc\"].iloc[0], str):\n",
    "        df[\"loc\"] = df[\"loc\"].str.replace(\",\", \"\").astype(int)\n",
    "    return df"
   ],
   "metadata": {
    "collapsed": false,
    "pycharm": {
     "name": "#%%\n"
    },
    "ExecuteTime": {
     "end_time": "2025-02-02T20:05:21.285596Z",
     "start_time": "2025-02-02T20:05:21.277983Z"
    }
   },
   "outputs": [],
   "execution_count": 24
  },
  {
   "cell_type": "code",
   "source": [
    "snp_df = load_snps(snp_file_path)\n",
    "snp_df"
   ],
   "metadata": {
    "collapsed": false,
    "pycharm": {
     "name": "#%%\n"
    },
    "ExecuteTime": {
     "end_time": "2025-02-02T20:05:22.690562Z",
     "start_time": "2025-02-02T20:05:22.675395Z"
    }
   },
   "outputs": [
    {
     "name": "stderr",
     "output_type": "stream",
     "text": [
      "/var/folders/tm/xm07jk715gg5b9kp7d4xdnb40000gn/T/ipykernel_30108/2774996437.py:3: ParserWarning: Falling back to the 'python' engine because the 'c' engine does not support regex separators (separators > 1 char and different from '\\s+' are interpreted as regex); you can avoid this warning by specifying engine='python'.\n",
      "  df = pd.read_csv(file_path, header=None, sep=\"[ \\t]+\").dropna(axis=1, how='all')\n"
     ]
    },
    {
     "data": {
      "text/plain": [
       "          SNP     loc\n",
       "0  rs10774035   82433\n",
       "1  rs10774036  100707\n",
       "2  rs10744560  100858\n",
       "3  rs12311439  108540\n",
       "4   rs1024582  116005\n",
       "5   rs4298967  121953"
      ],
      "text/html": [
       "<div>\n",
       "<style scoped>\n",
       "    .dataframe tbody tr th:only-of-type {\n",
       "        vertical-align: middle;\n",
       "    }\n",
       "\n",
       "    .dataframe tbody tr th {\n",
       "        vertical-align: top;\n",
       "    }\n",
       "\n",
       "    .dataframe thead th {\n",
       "        text-align: right;\n",
       "    }\n",
       "</style>\n",
       "<table border=\"1\" class=\"dataframe\">\n",
       "  <thead>\n",
       "    <tr style=\"text-align: right;\">\n",
       "      <th></th>\n",
       "      <th>SNP</th>\n",
       "      <th>loc</th>\n",
       "    </tr>\n",
       "  </thead>\n",
       "  <tbody>\n",
       "    <tr>\n",
       "      <th>0</th>\n",
       "      <td>rs10774035</td>\n",
       "      <td>82433</td>\n",
       "    </tr>\n",
       "    <tr>\n",
       "      <th>1</th>\n",
       "      <td>rs10774036</td>\n",
       "      <td>100707</td>\n",
       "    </tr>\n",
       "    <tr>\n",
       "      <th>2</th>\n",
       "      <td>rs10744560</td>\n",
       "      <td>100858</td>\n",
       "    </tr>\n",
       "    <tr>\n",
       "      <th>3</th>\n",
       "      <td>rs12311439</td>\n",
       "      <td>108540</td>\n",
       "    </tr>\n",
       "    <tr>\n",
       "      <th>4</th>\n",
       "      <td>rs1024582</td>\n",
       "      <td>116005</td>\n",
       "    </tr>\n",
       "    <tr>\n",
       "      <th>5</th>\n",
       "      <td>rs4298967</td>\n",
       "      <td>121953</td>\n",
       "    </tr>\n",
       "  </tbody>\n",
       "</table>\n",
       "</div>"
      ]
     },
     "execution_count": 25,
     "metadata": {},
     "output_type": "execute_result"
    }
   ],
   "execution_count": 25
  },
  {
   "cell_type": "code",
   "source": [
    "def find_nearest_pam(sequence, snp_pos, neighbor_window=50):\n",
    "    neighbor_seq = sequence[snp_pos - neighbor_window:snp_pos + neighbor_window]\n",
    "    distances_to_50 = []\n",
    "\n",
    "    pam_patterns = [re.compile(\"(?=GG)\"), re.compile(\"(?=CC)\")]\n",
    "    strand_labels = ['+', '-']\n",
    "\n",
    "    for pam_pattern, strand_label in zip(pam_patterns, strand_labels):\n",
    "        for match in pam_pattern.finditer(neighbor_seq):\n",
    "            if strand_label == \"+\":\n",
    "                pam_pos = match.start() - 1\n",
    "                cut_site_pos = pam_pos - 3\n",
    "            else:\n",
    "                pam_pos = match.start()\n",
    "                cut_site_pos = pam_pos + 6\n",
    "            distance_to_50 = abs(cut_site_pos - 50)\n",
    "            distances_to_50.append((distance_to_50, pam_pos, strand_label))\n",
    "\n",
    "    distances_to_50.sort(key=lambda x: x[0])  # Sort by distance\n",
    "\n",
    "    closest_distance_to_50, closest_pam_pos, closest_strand = distances_to_50[0]\n",
    "\n",
    "    if closest_strand == '+':\n",
    "        closest_gRNA_sequence = neighbor_seq[closest_pam_pos - 20: closest_pam_pos]\n",
    "        closest_pam_seq = neighbor_seq[closest_pam_pos:closest_pam_pos + 3]\n",
    "    else:\n",
    "        closest_gRNA_sequence = str(Seq(neighbor_seq[closest_pam_pos + 3: closest_pam_pos + 23]).reverse_complement())\n",
    "        closest_pam_seq = str(Seq(neighbor_seq[closest_pam_pos:closest_pam_pos + 3]).reverse_complement())\n",
    "\n",
    "    pam_global_pos = snp_pos - 50 + closest_pam_pos\n",
    "\n",
    "    print(\"Closest NGG or CCN Position:\", closest_pam_pos )\n",
    "    print(\"Closest Distance to Cut Site (3 nt upstream of PAM) from SNP:\", closest_distance_to_50)\n",
    "    print(\"Closest gRNA Sequence:\", closest_gRNA_sequence)\n",
    "    print(\"closest PAM\", closest_pam_seq)\n",
    "    print(\"Closest Strand:\", closest_strand)\n",
    "\n",
    "\n",
    "    return closest_gRNA_sequence, closest_pam_seq, pam_global_pos, closest_strand\n"
   ],
   "metadata": {
    "collapsed": false,
    "pycharm": {
     "name": "#%%\n"
    },
    "ExecuteTime": {
     "end_time": "2025-02-02T20:05:29.027457Z",
     "start_time": "2025-02-02T20:05:29.019270Z"
    }
   },
   "outputs": [],
   "execution_count": 26
  },
  {
   "cell_type": "code",
   "source": [
    "gRNAs = []\n",
    "pams = []\n",
    "pam_positions = []\n",
    "strands = []\n",
    "\n",
    "for index, row in snp_df.iterrows():\n",
    "    snp_position = row[\"loc\"]\n",
    "    snp_name = row[\"SNP\"]\n",
    "    print(\"\\n\" + snp_name)\n",
    "    gRNA, pam, pam_global_position, strand = find_nearest_pam(my_sequence,snp_position)\n",
    "    gRNAs.append(gRNA)\n",
    "    pams.append(pam)\n",
    "    pam_positions.append(pam_global_position)\n",
    "    strands.append(strand)\n",
    "\n",
    "# Save the gRNAs, PAMs, and strands in a text file\n",
    "\n",
    "with open(output_file_path, \"w\") as file:\n",
    "    # Write the headers as the first line in the file\n",
    "    file.write(\"SNP\\tgRNA\\tPAM\\tPAM_pos\\tstrand\\n\")\n",
    "\n",
    "    # Write SNP data\n",
    "    for snp_name, gRNA, pam, pam_glo_pos, strand in zip(snp_df[\"SNP\"], gRNAs, pams, pam_positions, strands):\n",
    "        file.write(f\"{snp_name}\\t{gRNA}\\t{pam}\\t{pam_glo_pos}\\t{strand}\\n\")\n",
    "\n",
    "print(\"Data saved to\", output_file_path)"
   ],
   "metadata": {
    "collapsed": false,
    "pycharm": {
     "name": "#%%\n"
    },
    "ExecuteTime": {
     "end_time": "2025-02-02T20:05:30.645581Z",
     "start_time": "2025-02-02T20:05:30.639180Z"
    }
   },
   "outputs": [
    {
     "name": "stdout",
     "output_type": "stream",
     "text": [
      "\n",
      "rs10774035\n",
      "Closest NGG or CCN Position: 48\n",
      "Closest Distance to Cut Site (3 nt upstream of PAM) from SNP: 4\n",
      "Closest gRNA Sequence: CCCCTTGCAACATCTCAAAG\n",
      "closest PAM CGG\n",
      "Closest Strand: -\n",
      "\n",
      "rs10774036\n",
      "Closest NGG or CCN Position: 42\n",
      "Closest Distance to Cut Site (3 nt upstream of PAM) from SNP: 2\n",
      "Closest gRNA Sequence: CAATTTTTGGTGAGCGGTTA\n",
      "closest PAM TGG\n",
      "Closest Strand: -\n",
      "\n",
      "rs10744560\n",
      "Closest NGG or CCN Position: 42\n",
      "Closest Distance to Cut Site (3 nt upstream of PAM) from SNP: 2\n",
      "Closest gRNA Sequence: CTCAGCACGATGAGTGAGAC\n",
      "closest PAM TGG\n",
      "Closest Strand: -\n",
      "\n",
      "rs12311439\n",
      "Closest NGG or CCN Position: 46\n",
      "Closest Distance to Cut Site (3 nt upstream of PAM) from SNP: 7\n",
      "Closest gRNA Sequence: ACTCTGCTGTGCCGCAGAGC\n",
      "closest PAM TGG\n",
      "Closest Strand: +\n",
      "\n",
      "rs1024582\n",
      "Closest NGG or CCN Position: 46\n",
      "Closest Distance to Cut Site (3 nt upstream of PAM) from SNP: 7\n",
      "Closest gRNA Sequence: GTATTATTTGGTTGTTCACG\n",
      "closest PAM GGG\n",
      "Closest Strand: +\n",
      "\n",
      "rs4298967\n",
      "Closest NGG or CCN Position: 39\n",
      "Closest Distance to Cut Site (3 nt upstream of PAM) from SNP: 14\n",
      "Closest gRNA Sequence: AGGCTGAACGGAGCTAGTGA\n",
      "closest PAM GGG\n",
      "Closest Strand: +\n",
      "Data saved to Example_datafiles/pXW487_gRNA_2025-02-02_15-05-15.txt\n"
     ]
    }
   ],
   "execution_count": 27
  },
  {
   "cell_type": "code",
   "execution_count": null,
   "outputs": [],
   "source": [],
   "metadata": {
    "collapsed": false,
    "pycharm": {
     "name": "#%%\n"
    }
   }
  }
 ],
 "metadata": {
  "kernelspec": {
   "display_name": "Python 3",
   "language": "python",
   "name": "python3"
  },
  "language_info": {
   "codemirror_mode": {
    "name": "ipython",
    "version": 2
   },
   "file_extension": ".py",
   "mimetype": "text/x-python",
   "name": "python",
   "nbconvert_exporter": "python",
   "pygments_lexer": "ipython2",
   "version": "2.7.6"
  }
 },
 "nbformat": 4,
 "nbformat_minor": 0
}
