{
 "cells": [
  {
   "cell_type": "code",
   "execution_count": 1,
   "metadata": {
    "collapsed": true,
    "pycharm": {
     "name": "#%%\n"
    }
   },
   "outputs": [],
   "source": [
    "import os\n",
    "from Bio import SeqIO\n",
    "from Bio.Seq import Seq\n",
    "import pandas as pd\n",
    "import re"
   ]
  },
  {
   "cell_type": "code",
   "execution_count": 73,
   "outputs": [],
   "source": [
    "\"\"\"\n",
    "Input for the code:\n",
    "    $ A fasta file containing your DNA sequence that you want to edit with gRNAs (eg. pXW487, in fasta format)\n",
    "    $ A text file containing two columns (no header),\n",
    "        one for SNP names (eg rs21062170),\n",
    "        the other for the corresponding SNP locations (the number should point to the SNPs in the fasta file)\n",
    "\"\"\"\n",
    "\n",
    "SEQ_FILENAME = 'pXW487.fasta'\n",
    "SNP_FILENAME = 'SNPs.txt'\n",
    "OUTPUT_FILENAME = \"grna_pam_strand.txt\"\n",
    "\n",
    "desktop = os.path.expanduser(\"~/Desktop\")\n",
    "\n",
    "seq_file_path = desktop + '/' + SEQ_FILENAME\n",
    "snp_file_path = desktop + '/' + SNP_FILENAME\n",
    "output_file_path = desktop + '/' + OUTPUT_FILENAME"
   ],
   "metadata": {
    "collapsed": false,
    "pycharm": {
     "name": "#%%\n"
    }
   }
  },
  {
   "cell_type": "code",
   "execution_count": 3,
   "outputs": [],
   "source": [
    "# Load the fasta sequence from the file\n",
    "def load_fasta_sequence(file_path):\n",
    "    with open(file_path, \"r\") as handle:\n",
    "        for record in SeqIO.parse(handle, \"fasta\"):\n",
    "            return str(record.seq)"
   ],
   "metadata": {
    "collapsed": false,
    "pycharm": {
     "name": "#%%\n"
    }
   }
  },
  {
   "cell_type": "code",
   "execution_count": 4,
   "outputs": [],
   "source": [
    "my_sequence = load_fasta_sequence(seq_file_path)"
   ],
   "metadata": {
    "collapsed": false,
    "pycharm": {
     "name": "#%%\n"
    }
   }
  },
  {
   "cell_type": "code",
   "execution_count": 51,
   "outputs": [],
   "source": [
    "# Load the SNP file\n",
    "def load_snps(file_path):\n",
    "    df = pd.read_csv(file_path, header=None, sep='\\t').dropna(axis=1, how='all')\n",
    "    if df.shape[1] != 2:\n",
    "        print(\"Error: column number is not 2\")\n",
    "    else:\n",
    "        if ('rs' or 'Rs') in df[0][0] or int(df.iloc[0,1].replace(\",\", \"\")):\n",
    "            df.columns = ['snp', 'loc']\n",
    "        else:\n",
    "            df.columns = ['loc', 'snp']\n",
    "    df[\"loc\"] = df[\"loc\"].str.replace(\",\", \"\").astype(int)\n",
    "    return df"
   ],
   "metadata": {
    "collapsed": false,
    "pycharm": {
     "name": "#%%\n"
    }
   }
  },
  {
   "cell_type": "code",
   "execution_count": 52,
   "outputs": [
    {
     "data": {
      "text/plain": "           snp     loc\n0  rs10774035    82433\n1   rs10774036  100707\n2   rs10744560  100858\n3   rs12311439  108540\n4    rs1024582  116005\n5    rs4298967  121953",
      "text/html": "<div>\n<style scoped>\n    .dataframe tbody tr th:only-of-type {\n        vertical-align: middle;\n    }\n\n    .dataframe tbody tr th {\n        vertical-align: top;\n    }\n\n    .dataframe thead th {\n        text-align: right;\n    }\n</style>\n<table border=\"1\" class=\"dataframe\">\n  <thead>\n    <tr style=\"text-align: right;\">\n      <th></th>\n      <th>snp</th>\n      <th>loc</th>\n    </tr>\n  </thead>\n  <tbody>\n    <tr>\n      <th>0</th>\n      <td>rs10774035</td>\n      <td>82433</td>\n    </tr>\n    <tr>\n      <th>1</th>\n      <td>rs10774036</td>\n      <td>100707</td>\n    </tr>\n    <tr>\n      <th>2</th>\n      <td>rs10744560</td>\n      <td>100858</td>\n    </tr>\n    <tr>\n      <th>3</th>\n      <td>rs12311439</td>\n      <td>108540</td>\n    </tr>\n    <tr>\n      <th>4</th>\n      <td>rs1024582</td>\n      <td>116005</td>\n    </tr>\n    <tr>\n      <th>5</th>\n      <td>rs4298967</td>\n      <td>121953</td>\n    </tr>\n  </tbody>\n</table>\n</div>"
     },
     "execution_count": 52,
     "metadata": {},
     "output_type": "execute_result"
    }
   ],
   "source": [
    "snp_df = load_snps(snp_file_path)\n",
    "snp_df"
   ],
   "metadata": {
    "collapsed": false,
    "pycharm": {
     "name": "#%%\n"
    }
   }
  },
  {
   "cell_type": "code",
   "execution_count": 71,
   "outputs": [],
   "source": [
    "def find_nearest_pam(sequence, snp_pos, neighbor_window=50):\n",
    "    neighbor_seq = sequence[snp_pos - neighbor_window:snp_pos + neighbor_window]\n",
    "    distances_to_50 = []\n",
    "\n",
    "    pam_patterns = [re.compile(\"(?=GG)\"), re.compile(\"(?=CC)\")]\n",
    "    strand_labels = ['+', '-']\n",
    "\n",
    "    for pam_pattern, strand_label in zip(pam_patterns, strand_labels):\n",
    "        for match in pam_pattern.finditer(neighbor_seq.replace(\"g\",\"G\").replace(\"c\",\"C\")):\n",
    "            if strand_label == \"+\":\n",
    "                pam_pos = match.start() - 1\n",
    "                cut_site_pos = pam_pos - 3\n",
    "            else:\n",
    "                pam_pos = match.start()\n",
    "                cut_site_pos = pam_pos + 6\n",
    "            distance_to_50 = abs(cut_site_pos - 50)\n",
    "            distances_to_50.append((distance_to_50, pam_pos, strand_label))\n",
    "\n",
    "    distances_to_50.sort(key=lambda x: x[0])  # Sort by distance\n",
    "\n",
    "    closest_distance_to_50, closest_pam_pos, closest_strand = distances_to_50[0]\n",
    "\n",
    "    if closest_strand == '+':\n",
    "        closest_gRNA_sequence = neighbor_seq[closest_pam_pos - 20: closest_pam_pos]\n",
    "        closest_pam_seq = neighbor_seq[closest_pam_pos:closest_pam_pos + 3]\n",
    "    else:\n",
    "        closest_gRNA_sequence = str(Seq(neighbor_seq[closest_pam_pos + 3: closest_pam_pos + 23]).reverse_complement())\n",
    "        closest_pam_seq = str(Seq(neighbor_seq[closest_pam_pos:closest_pam_pos + 3]).reverse_complement())\n",
    "\n",
    "\n",
    "    print(\"Closest NGG or CCN Position:\", closest_pam_pos )\n",
    "    print(\"Closest Distance to Cut Site (3 nt upstream of PAM) from SNP:\", closest_distance_to_50)\n",
    "    print(\"Closest gRNA Sequence:\", closest_gRNA_sequence)\n",
    "    print(\"closest PAM\", closest_pam_seq)\n",
    "    print(\"Closest Strand:\", closest_strand)\n",
    "\n",
    "\n",
    "    return closest_gRNA_sequence, closest_pam_seq, closest_strand\n"
   ],
   "metadata": {
    "collapsed": false,
    "pycharm": {
     "name": "#%%\n"
    }
   }
  },
  {
   "cell_type": "code",
   "execution_count": 78,
   "outputs": [
    {
     "name": "stdout",
     "output_type": "stream",
     "text": [
      "\n",
      "rs10774035 \n",
      "Closest NGG or CCN Position: 48\n",
      "Closest Distance to Cut Site (3 nt upstream of PAM) from SNP: 4\n",
      "Closest gRNA Sequence: CCCCTTGCAACATCTCAAAG\n",
      "closest PAM CGG\n",
      "Closest Strand: -\n",
      "\n",
      "rs10774036\n",
      "Closest NGG or CCN Position: 42\n",
      "Closest Distance to Cut Site (3 nt upstream of PAM) from SNP: 2\n",
      "Closest gRNA Sequence: CAATTTTTGGTGAGCGGTTA\n",
      "closest PAM TGG\n",
      "Closest Strand: -\n",
      "\n",
      "rs10744560\n",
      "Closest NGG or CCN Position: 42\n",
      "Closest Distance to Cut Site (3 nt upstream of PAM) from SNP: 2\n",
      "Closest gRNA Sequence: CTCAGCACGATGAGTGAGAC\n",
      "closest PAM TGG\n",
      "Closest Strand: -\n",
      "\n",
      "rs12311439\n",
      "Closest NGG or CCN Position: 46\n",
      "Closest Distance to Cut Site (3 nt upstream of PAM) from SNP: 7\n",
      "Closest gRNA Sequence: ACTCTGCTGTGCCGCAGAGC\n",
      "closest PAM TGG\n",
      "Closest Strand: +\n",
      "\n",
      "rs1024582\n",
      "Closest NGG or CCN Position: 46\n",
      "Closest Distance to Cut Site (3 nt upstream of PAM) from SNP: 7\n",
      "Closest gRNA Sequence: GTATTATTTGGTTGTTCACG\n",
      "closest PAM GGG\n",
      "Closest Strand: +\n",
      "\n",
      "rs4298967\n",
      "Closest NGG or CCN Position: 39\n",
      "Closest Distance to Cut Site (3 nt upstream of PAM) from SNP: 14\n",
      "Closest gRNA Sequence: AGGCTGAACGGAGCTAGTGA\n",
      "closest PAM GGG\n",
      "Closest Strand: +\n",
      "Data saved to C:\\Users\\wxh02/Desktop/grna_pam_strand.txt\n"
     ]
    }
   ],
   "source": [
    "gRNAs = []\n",
    "pams = []\n",
    "strands = []\n",
    "\n",
    "for index, row in snp_df.iterrows():\n",
    "    snp_position = row[\"loc\"]\n",
    "    snp_name = row[\"snp\"]\n",
    "    print(\"\\n\" + snp_name)\n",
    "    gRNA, pam, strand = find_nearest_pam(my_sequence,snp_position)\n",
    "    gRNAs.append(gRNA)\n",
    "    pams.append(pam)\n",
    "    strands.append(strand)\n",
    "\n",
    "# Save the gRNAs, PAMs, and strands in a text file\n",
    "\n",
    "with open(output_file_path, \"w\") as file:\n",
    "    for snp_name, gRNA, pam, strand in zip(snp_df[\"snp\"], gRNAs, pams, strands):\n",
    "        file.write(f\"{snp_name}\\tgRNA: {gRNA}\\tPAM: {pam}\\tStrand: {strand}\\n\")\n",
    "\n",
    "print(\"Data saved to\", output_file_path)"
   ],
   "metadata": {
    "collapsed": false,
    "pycharm": {
     "name": "#%%\n"
    }
   }
  },
  {
   "cell_type": "code",
   "execution_count": 80,
   "outputs": [
    {
     "data": {
      "text/plain": "['CCCCTTGCAACATCTCAAAG',\n 'CAATTTTTGGTGAGCGGTTA',\n 'CTCAGCACGATGAGTGAGAC',\n 'ACTCTGCTGTGCCGCAGAGC',\n 'GTATTATTTGGTTGTTCACG',\n 'AGGCTGAACGGAGCTAGTGA']"
     },
     "execution_count": 80,
     "metadata": {},
     "output_type": "execute_result"
    }
   ],
   "source": [
    "gRNAs"
   ],
   "metadata": {
    "collapsed": false,
    "pycharm": {
     "name": "#%%\n"
    }
   }
  },
  {
   "cell_type": "code",
   "execution_count": 66,
   "outputs": [
    {
     "name": "stdout",
     "output_type": "stream",
     "text": [
      "\n",
      "rs10774035 \n",
      "Closest NGG or CCN Position: 48\n",
      "Closest Distance to Cut Site (3 nt upstream of PAM) from SNP: 4\n",
      "Closest gRNA Sequence: CCCCTTGCAACATCTCAAAG\n",
      "closest PAM CTC\n",
      "Closest Strand: -\n",
      "\n",
      "rs10774036\n",
      "Closest NGG or CCN Position: 42\n",
      "Closest Distance to Cut Site (3 nt upstream of PAM) from SNP: 2\n",
      "Closest gRNA Sequence: CAATTTTTGGTGAGCGGTTA\n",
      "closest PAM TGG\n",
      "Closest Strand: -\n",
      "\n",
      "rs10744560\n",
      "Closest NGG or CCN Position: 42\n",
      "Closest Distance to Cut Site (3 nt upstream of PAM) from SNP: 2\n",
      "Closest gRNA Sequence: CTCAGCACGATGAGTGAGAC\n",
      "closest PAM AGG\n",
      "Closest Strand: -\n",
      "\n",
      "rs12311439\n",
      "Closest NGG or CCN Position: 46\n",
      "Closest Distance to Cut Site (3 nt upstream of PAM) from SNP: 7\n",
      "Closest gRNA Sequence: ACTCTGCTGTGCCGCAGAGC\n",
      "closest PAM TGG\n",
      "Closest Strand: +\n",
      "\n",
      "rs1024582\n",
      "Closest NGG or CCN Position: 46\n",
      "Closest Distance to Cut Site (3 nt upstream of PAM) from SNP: 7\n",
      "Closest gRNA Sequence: GTATTATTTGGTTGTTCACG\n",
      "closest PAM GGG\n",
      "Closest Strand: +\n",
      "\n",
      "rs4298967\n",
      "Closest NGG or CCN Position: 39\n",
      "Closest Distance to Cut Site (3 nt upstream of PAM) from SNP: 14\n",
      "Closest gRNA Sequence: AGGCTGAACGGAGCTAGTGA\n",
      "closest PAM GGG\n",
      "Closest Strand: +\n"
     ]
    },
    {
     "data": {
      "text/plain": "['CTC', 'TGG', 'AGG', 'TGG', 'GGG', 'GGG']"
     },
     "execution_count": 66,
     "metadata": {},
     "output_type": "execute_result"
    }
   ],
   "source": [
    "\n",
    "pams"
   ],
   "metadata": {
    "collapsed": false,
    "pycharm": {
     "name": "#%%\n"
    }
   }
  },
  {
   "cell_type": "code",
   "execution_count": null,
   "outputs": [],
   "source": [],
   "metadata": {
    "collapsed": false,
    "pycharm": {
     "name": "#%%\n"
    }
   }
  }
 ],
 "metadata": {
  "kernelspec": {
   "display_name": "Python 3",
   "language": "python",
   "name": "python3"
  },
  "language_info": {
   "codemirror_mode": {
    "name": "ipython",
    "version": 2
   },
   "file_extension": ".py",
   "mimetype": "text/x-python",
   "name": "python",
   "nbconvert_exporter": "python",
   "pygments_lexer": "ipython2",
   "version": "2.7.6"
  }
 },
 "nbformat": 4,
 "nbformat_minor": 0
}